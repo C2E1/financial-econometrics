{
 "cells": [
  {
   "cell_type": "markdown",
   "metadata": {},
   "source": [
    "Christian Colon\n",
    "\n",
    "Final\n",
    "\n",
    "Question 1\n",
    "\n",
    "(i)"
   ]
  },
  {
   "cell_type": "code",
   "execution_count": 1,
   "metadata": {
    "collapsed": true
   },
   "outputs": [],
   "source": [
    "da1 = read.table(\"q-ko-earns8309.txt\", header = TRUE)"
   ]
  },
  {
   "cell_type": "code",
   "execution_count": 2,
   "metadata": {
    "collapsed": false
   },
   "outputs": [
    {
     "data": {
      "text/html": [
       "<table>\n",
       "<thead><tr><th scope=col>pends</th><th scope=col>anntime</th><th scope=col>value</th></tr></thead>\n",
       "<tbody>\n",
       "\t<tr><td>19830331</td><td>19830426</td><td>0.0375  </td></tr>\n",
       "\t<tr><td>19830630</td><td>19830725</td><td>0.0492  </td></tr>\n",
       "\t<tr><td>19830930</td><td>19831102</td><td>0.0463  </td></tr>\n",
       "\t<tr><td>19831231</td><td>19840214</td><td>0.0379  </td></tr>\n",
       "\t<tr><td>19840331</td><td>19840419</td><td>0.0425  </td></tr>\n",
       "\t<tr><td>19840630</td><td>19840720</td><td>0.0583  </td></tr>\n",
       "\t<tr><td>19840930</td><td>19841020</td><td>0.0558  </td></tr>\n",
       "\t<tr><td>19841231</td><td>19850221</td><td>0.0417  </td></tr>\n",
       "\t<tr><td>19850331</td><td>19850418</td><td>0.0450  </td></tr>\n",
       "\t<tr><td>19850630</td><td>19850719</td><td>0.0625  </td></tr>\n",
       "\t<tr><td>19850930</td><td>19851018</td><td>0.0617  </td></tr>\n",
       "\t<tr><td>19851231</td><td>19860220</td><td>0.0463  </td></tr>\n",
       "\t<tr><td>19860331</td><td>19860417</td><td>0.0525  </td></tr>\n",
       "\t<tr><td>19860630</td><td>19860718</td><td>0.0725  </td></tr>\n",
       "\t<tr><td>19860930</td><td>19861017</td><td>0.0750  </td></tr>\n",
       "\t<tr><td>19861231</td><td>19870219</td><td>0.0588  </td></tr>\n",
       "\t<tr><td>19870331</td><td>19870415</td><td>0.0612  </td></tr>\n",
       "\t<tr><td>19870630</td><td>19870716</td><td>0.0875  </td></tr>\n",
       "\t<tr><td>19870930</td><td>19871016</td><td>0.0900  </td></tr>\n",
       "\t<tr><td>19871231</td><td>19880217</td><td>0.0650  </td></tr>\n",
       "\t<tr><td>19880331</td><td>19880414</td><td>0.0710  </td></tr>\n",
       "\t<tr><td>19880630</td><td>19880716</td><td>0.1025  </td></tr>\n",
       "\t<tr><td>19880930</td><td>19881019</td><td>0.1010  </td></tr>\n",
       "\t<tr><td>19881231</td><td>19890201</td><td>0.0810  </td></tr>\n",
       "\t<tr><td>19890331</td><td>19890413</td><td>0.0900  </td></tr>\n",
       "\t<tr><td>19890630</td><td>19890713</td><td>0.1225  </td></tr>\n",
       "\t<tr><td>19890930</td><td>19891013</td><td>0.1160  </td></tr>\n",
       "\t<tr><td>19891231</td><td>19900131</td><td>0.0825  </td></tr>\n",
       "\t<tr><td>19900331</td><td>19900418</td><td>0.1035  </td></tr>\n",
       "\t<tr><td>19900630</td><td>19900718</td><td>0.1525  </td></tr>\n",
       "\t<tr><td>...</td><td>...</td><td>...</td></tr>\n",
       "\t<tr><td>20020630</td><td>20020717</td><td>0.52    </td></tr>\n",
       "\t<tr><td>20020930</td><td>20021016</td><td>0.48    </td></tr>\n",
       "\t<tr><td>20021231</td><td>20030212</td><td>0.40    </td></tr>\n",
       "\t<tr><td>20030331</td><td>20030416</td><td>0.37    </td></tr>\n",
       "\t<tr><td>20030630</td><td>20030717</td><td>0.57    </td></tr>\n",
       "\t<tr><td>20030930</td><td>20031016</td><td>0.55    </td></tr>\n",
       "\t<tr><td>20031231</td><td>20040211</td><td>0.46    </td></tr>\n",
       "\t<tr><td>20040331</td><td>20040421</td><td>0.46    </td></tr>\n",
       "\t<tr><td>20040630</td><td>20040722</td><td>0.64    </td></tr>\n",
       "\t<tr><td>20040930</td><td>20041021</td><td>0.50    </td></tr>\n",
       "\t<tr><td>20041231</td><td>20050216</td><td>0.46    </td></tr>\n",
       "\t<tr><td>20050331</td><td>20050419</td><td>0.47    </td></tr>\n",
       "\t<tr><td>20050630</td><td>20050721</td><td>0.68    </td></tr>\n",
       "\t<tr><td>20050930</td><td>20051020</td><td>0.57    </td></tr>\n",
       "\t<tr><td>20051231</td><td>20060207</td><td>0.46    </td></tr>\n",
       "\t<tr><td>20060331</td><td>20060419</td><td>0.49    </td></tr>\n",
       "\t<tr><td>20060630</td><td>20060718</td><td>0.74    </td></tr>\n",
       "\t<tr><td>20060930</td><td>20061019</td><td>0.62    </td></tr>\n",
       "\t<tr><td>20061231</td><td>20070214</td><td>0.52    </td></tr>\n",
       "\t<tr><td>20070331</td><td>20070417</td><td>0.56    </td></tr>\n",
       "\t<tr><td>20070630</td><td>20070717</td><td>0.85    </td></tr>\n",
       "\t<tr><td>20070930</td><td>20071017</td><td>0.71    </td></tr>\n",
       "\t<tr><td>20071231</td><td>20080213</td><td>0.58    </td></tr>\n",
       "\t<tr><td>20080331</td><td>20080416</td><td>0.67    </td></tr>\n",
       "\t<tr><td>20080630</td><td>20080717</td><td>1.01    </td></tr>\n",
       "\t<tr><td>20080930</td><td>20081015</td><td>0.83    </td></tr>\n",
       "\t<tr><td>20081231</td><td>20090212</td><td>0.64    </td></tr>\n",
       "\t<tr><td>20090331</td><td>20090421</td><td>0.65    </td></tr>\n",
       "\t<tr><td>20090630</td><td>20090721</td><td>0.92    </td></tr>\n",
       "\t<tr><td>20090930</td><td>20091020</td><td>0.82    </td></tr>\n",
       "</tbody>\n",
       "</table>\n"
      ],
      "text/latex": [
       "\\begin{tabular}{r|lll}\n",
       " pends & anntime & value\\\\\n",
       "\\hline\n",
       "\t 19830331 & 19830426 & 0.0375  \\\\\n",
       "\t 19830630 & 19830725 & 0.0492  \\\\\n",
       "\t 19830930 & 19831102 & 0.0463  \\\\\n",
       "\t 19831231 & 19840214 & 0.0379  \\\\\n",
       "\t 19840331 & 19840419 & 0.0425  \\\\\n",
       "\t 19840630 & 19840720 & 0.0583  \\\\\n",
       "\t 19840930 & 19841020 & 0.0558  \\\\\n",
       "\t 19841231 & 19850221 & 0.0417  \\\\\n",
       "\t 19850331 & 19850418 & 0.0450  \\\\\n",
       "\t 19850630 & 19850719 & 0.0625  \\\\\n",
       "\t 19850930 & 19851018 & 0.0617  \\\\\n",
       "\t 19851231 & 19860220 & 0.0463  \\\\\n",
       "\t 19860331 & 19860417 & 0.0525  \\\\\n",
       "\t 19860630 & 19860718 & 0.0725  \\\\\n",
       "\t 19860930 & 19861017 & 0.0750  \\\\\n",
       "\t 19861231 & 19870219 & 0.0588  \\\\\n",
       "\t 19870331 & 19870415 & 0.0612  \\\\\n",
       "\t 19870630 & 19870716 & 0.0875  \\\\\n",
       "\t 19870930 & 19871016 & 0.0900  \\\\\n",
       "\t 19871231 & 19880217 & 0.0650  \\\\\n",
       "\t 19880331 & 19880414 & 0.0710  \\\\\n",
       "\t 19880630 & 19880716 & 0.1025  \\\\\n",
       "\t 19880930 & 19881019 & 0.1010  \\\\\n",
       "\t 19881231 & 19890201 & 0.0810  \\\\\n",
       "\t 19890331 & 19890413 & 0.0900  \\\\\n",
       "\t 19890630 & 19890713 & 0.1225  \\\\\n",
       "\t 19890930 & 19891013 & 0.1160  \\\\\n",
       "\t 19891231 & 19900131 & 0.0825  \\\\\n",
       "\t 19900331 & 19900418 & 0.1035  \\\\\n",
       "\t 19900630 & 19900718 & 0.1525  \\\\\n",
       "\t ... & ... & ...\\\\\n",
       "\t 20020630 & 20020717 & 0.52    \\\\\n",
       "\t 20020930 & 20021016 & 0.48    \\\\\n",
       "\t 20021231 & 20030212 & 0.40    \\\\\n",
       "\t 20030331 & 20030416 & 0.37    \\\\\n",
       "\t 20030630 & 20030717 & 0.57    \\\\\n",
       "\t 20030930 & 20031016 & 0.55    \\\\\n",
       "\t 20031231 & 20040211 & 0.46    \\\\\n",
       "\t 20040331 & 20040421 & 0.46    \\\\\n",
       "\t 20040630 & 20040722 & 0.64    \\\\\n",
       "\t 20040930 & 20041021 & 0.50    \\\\\n",
       "\t 20041231 & 20050216 & 0.46    \\\\\n",
       "\t 20050331 & 20050419 & 0.47    \\\\\n",
       "\t 20050630 & 20050721 & 0.68    \\\\\n",
       "\t 20050930 & 20051020 & 0.57    \\\\\n",
       "\t 20051231 & 20060207 & 0.46    \\\\\n",
       "\t 20060331 & 20060419 & 0.49    \\\\\n",
       "\t 20060630 & 20060718 & 0.74    \\\\\n",
       "\t 20060930 & 20061019 & 0.62    \\\\\n",
       "\t 20061231 & 20070214 & 0.52    \\\\\n",
       "\t 20070331 & 20070417 & 0.56    \\\\\n",
       "\t 20070630 & 20070717 & 0.85    \\\\\n",
       "\t 20070930 & 20071017 & 0.71    \\\\\n",
       "\t 20071231 & 20080213 & 0.58    \\\\\n",
       "\t 20080331 & 20080416 & 0.67    \\\\\n",
       "\t 20080630 & 20080717 & 1.01    \\\\\n",
       "\t 20080930 & 20081015 & 0.83    \\\\\n",
       "\t 20081231 & 20090212 & 0.64    \\\\\n",
       "\t 20090331 & 20090421 & 0.65    \\\\\n",
       "\t 20090630 & 20090721 & 0.92    \\\\\n",
       "\t 20090930 & 20091020 & 0.82    \\\\\n",
       "\\end{tabular}\n"
      ],
      "text/markdown": [
       "\n",
       "pends | anntime | value | \n",
       "|---|---|---|---|---|---|---|---|---|---|---|---|---|---|---|---|---|---|---|---|---|---|---|---|---|---|---|---|---|---|---|---|---|---|---|---|---|---|---|---|---|---|---|---|---|---|---|---|---|---|---|---|---|---|---|---|---|---|---|---|---|\n",
       "| 19830331 | 19830426 | 0.0375   | \n",
       "| 19830630 | 19830725 | 0.0492   | \n",
       "| 19830930 | 19831102 | 0.0463   | \n",
       "| 19831231 | 19840214 | 0.0379   | \n",
       "| 19840331 | 19840419 | 0.0425   | \n",
       "| 19840630 | 19840720 | 0.0583   | \n",
       "| 19840930 | 19841020 | 0.0558   | \n",
       "| 19841231 | 19850221 | 0.0417   | \n",
       "| 19850331 | 19850418 | 0.0450   | \n",
       "| 19850630 | 19850719 | 0.0625   | \n",
       "| 19850930 | 19851018 | 0.0617   | \n",
       "| 19851231 | 19860220 | 0.0463   | \n",
       "| 19860331 | 19860417 | 0.0525   | \n",
       "| 19860630 | 19860718 | 0.0725   | \n",
       "| 19860930 | 19861017 | 0.0750   | \n",
       "| 19861231 | 19870219 | 0.0588   | \n",
       "| 19870331 | 19870415 | 0.0612   | \n",
       "| 19870630 | 19870716 | 0.0875   | \n",
       "| 19870930 | 19871016 | 0.0900   | \n",
       "| 19871231 | 19880217 | 0.0650   | \n",
       "| 19880331 | 19880414 | 0.0710   | \n",
       "| 19880630 | 19880716 | 0.1025   | \n",
       "| 19880930 | 19881019 | 0.1010   | \n",
       "| 19881231 | 19890201 | 0.0810   | \n",
       "| 19890331 | 19890413 | 0.0900   | \n",
       "| 19890630 | 19890713 | 0.1225   | \n",
       "| 19890930 | 19891013 | 0.1160   | \n",
       "| 19891231 | 19900131 | 0.0825   | \n",
       "| 19900331 | 19900418 | 0.1035   | \n",
       "| 19900630 | 19900718 | 0.1525   | \n",
       "| ... | ... | ... | \n",
       "| 20020630 | 20020717 | 0.52     | \n",
       "| 20020930 | 20021016 | 0.48     | \n",
       "| 20021231 | 20030212 | 0.40     | \n",
       "| 20030331 | 20030416 | 0.37     | \n",
       "| 20030630 | 20030717 | 0.57     | \n",
       "| 20030930 | 20031016 | 0.55     | \n",
       "| 20031231 | 20040211 | 0.46     | \n",
       "| 20040331 | 20040421 | 0.46     | \n",
       "| 20040630 | 20040722 | 0.64     | \n",
       "| 20040930 | 20041021 | 0.50     | \n",
       "| 20041231 | 20050216 | 0.46     | \n",
       "| 20050331 | 20050419 | 0.47     | \n",
       "| 20050630 | 20050721 | 0.68     | \n",
       "| 20050930 | 20051020 | 0.57     | \n",
       "| 20051231 | 20060207 | 0.46     | \n",
       "| 20060331 | 20060419 | 0.49     | \n",
       "| 20060630 | 20060718 | 0.74     | \n",
       "| 20060930 | 20061019 | 0.62     | \n",
       "| 20061231 | 20070214 | 0.52     | \n",
       "| 20070331 | 20070417 | 0.56     | \n",
       "| 20070630 | 20070717 | 0.85     | \n",
       "| 20070930 | 20071017 | 0.71     | \n",
       "| 20071231 | 20080213 | 0.58     | \n",
       "| 20080331 | 20080416 | 0.67     | \n",
       "| 20080630 | 20080717 | 1.01     | \n",
       "| 20080930 | 20081015 | 0.83     | \n",
       "| 20081231 | 20090212 | 0.64     | \n",
       "| 20090331 | 20090421 | 0.65     | \n",
       "| 20090630 | 20090721 | 0.92     | \n",
       "| 20090930 | 20091020 | 0.82     | \n",
       "\n",
       "\n"
      ],
      "text/plain": [
       "    pends    anntime  value \n",
       "1   19830331 19830426 0.0375\n",
       "2   19830630 19830725 0.0492\n",
       "3   19830930 19831102 0.0463\n",
       "4   19831231 19840214 0.0379\n",
       "5   19840331 19840419 0.0425\n",
       "6   19840630 19840720 0.0583\n",
       "7   19840930 19841020 0.0558\n",
       "8   19841231 19850221 0.0417\n",
       "9   19850331 19850418 0.0450\n",
       "10  19850630 19850719 0.0625\n",
       "11  19850930 19851018 0.0617\n",
       "12  19851231 19860220 0.0463\n",
       "13  19860331 19860417 0.0525\n",
       "14  19860630 19860718 0.0725\n",
       "15  19860930 19861017 0.0750\n",
       "16  19861231 19870219 0.0588\n",
       "17  19870331 19870415 0.0612\n",
       "18  19870630 19870716 0.0875\n",
       "19  19870930 19871016 0.0900\n",
       "20  19871231 19880217 0.0650\n",
       "21  19880331 19880414 0.0710\n",
       "22  19880630 19880716 0.1025\n",
       "23  19880930 19881019 0.1010\n",
       "24  19881231 19890201 0.0810\n",
       "25  19890331 19890413 0.0900\n",
       "26  19890630 19890713 0.1225\n",
       "27  19890930 19891013 0.1160\n",
       "28  19891231 19900131 0.0825\n",
       "29  19900331 19900418 0.1035\n",
       "30  19900630 19900718 0.1525\n",
       "... ...      ...      ...   \n",
       "78  20020630 20020717 0.52  \n",
       "79  20020930 20021016 0.48  \n",
       "80  20021231 20030212 0.40  \n",
       "81  20030331 20030416 0.37  \n",
       "82  20030630 20030717 0.57  \n",
       "83  20030930 20031016 0.55  \n",
       "84  20031231 20040211 0.46  \n",
       "85  20040331 20040421 0.46  \n",
       "86  20040630 20040722 0.64  \n",
       "87  20040930 20041021 0.50  \n",
       "88  20041231 20050216 0.46  \n",
       "89  20050331 20050419 0.47  \n",
       "90  20050630 20050721 0.68  \n",
       "91  20050930 20051020 0.57  \n",
       "92  20051231 20060207 0.46  \n",
       "93  20060331 20060419 0.49  \n",
       "94  20060630 20060718 0.74  \n",
       "95  20060930 20061019 0.62  \n",
       "96  20061231 20070214 0.52  \n",
       "97  20070331 20070417 0.56  \n",
       "98  20070630 20070717 0.85  \n",
       "99  20070930 20071017 0.71  \n",
       "100 20071231 20080213 0.58  \n",
       "101 20080331 20080416 0.67  \n",
       "102 20080630 20080717 1.01  \n",
       "103 20080930 20081015 0.83  \n",
       "104 20081231 20090212 0.64  \n",
       "105 20090331 20090421 0.65  \n",
       "106 20090630 20090721 0.92  \n",
       "107 20090930 20091020 0.82  "
      ]
     },
     "metadata": {},
     "output_type": "display_data"
    }
   ],
   "source": [
    "da1"
   ]
  },
  {
   "cell_type": "code",
   "execution_count": 4,
   "metadata": {
    "collapsed": false
   },
   "outputs": [],
   "source": [
    "da_ts = ts(da1$value,frequency=4,start=c(1983,1))"
   ]
  },
  {
   "cell_type": "code",
   "execution_count": 11,
   "metadata": {
    "collapsed": false
   },
   "outputs": [
    {
     "data": {
      "image/png": "[encoded data removed]",
      "text/plain": [
       "plot without title"
      ]
     },
     "metadata": {},
     "output_type": "display_data"
    }
   ],
   "source": [
    "plot(da_ts,type='l',xlab='year',ylab='Earnings')"
   ]
  },
  {
   "cell_type": "markdown",
   "metadata": {},
   "source": [
    "There is trending in this series and a seasonal pattern."
   ]
  },
  {
   "cell_type": "code",
   "execution_count": 7,
   "metadata": {
    "collapsed": true
   },
   "outputs": [],
   "source": [
    "lg_earn = log(da1$value)"
   ]
  },
  {
   "cell_type": "code",
   "execution_count": 10,
   "metadata": {
    "collapsed": false
   },
   "outputs": [
    {
     "data": {
      "image/png": "[encoded data removed]",
      "text/plain": [
       "plot without title"
      ]
     },
     "metadata": {},
     "output_type": "display_data"
    }
   ],
   "source": [
    "plot(ts(lg_earn,frequency=4,start=c(1983,1)),type='l',xlab='year',ylab='Log Earnings')"
   ]
  },
  {
   "cell_type": "code",
   "execution_count": 15,
   "metadata": {
    "collapsed": false
   },
   "outputs": [
    {
     "data": {
      "image/png": "[encoded data removed]",
      "text/plain": [
       "Plot with title \"Series  lg_earn\""
      ]
     },
     "metadata": {},
     "output_type": "display_data"
    }
   ],
   "source": [
    "acf(lg_earn)"
   ]
  },
  {
   "cell_type": "code",
   "execution_count": 16,
   "metadata": {
    "collapsed": false
   },
   "outputs": [
    {
     "data": {
      "image/png": "[encoded data removed]",
      "text/plain": [
       "Plot with title \"Series  lg_earn\""
      ]
     },
     "metadata": {},
     "output_type": "display_data"
    }
   ],
   "source": [
    "pacf(lg_earn)"
   ]
  },
  {
   "cell_type": "markdown",
   "metadata": {},
   "source": [
    "Code below will iterate through combinations of ARIMA models and pick model with best AIC"
   ]
  },
  {
   "cell_type": "code",
   "execution_count": 35,
   "metadata": {
    "collapsed": false
   },
   "outputs": [
    {
     "name": "stderr",
     "output_type": "stream",
     "text": [
      "Warning message in arima(lg_earn, order = c(p, d, q)):\n",
      "\"possible convergence problem: optim gave code = 1\"Warning message in arima(lg_earn, order = ftfinal.order):\n",
      "\"possible convergence problem: optim gave code = 1\""
     ]
    },
    {
     "ename": "ERROR",
     "evalue": "Error in arima(lg_earn, order = c(p, d, q)): non-stationary AR part from CSS\n",
     "output_type": "error",
     "traceback": [
      "Error in arima(lg_earn, order = c(p, d, q)): non-stationary AR part from CSS\nTraceback:\n",
      "1. AIC(arima(lg_earn, order = c(p, d, q)))   # at line 4 of file <text>",
      "2. arima(lg_earn, order = c(p, d, q))",
      "3. stop(\"non-stationary AR part from CSS\")"
     ]
    }
   ],
   "source": [
    "ftfinal.aic = Inf\n",
    "ftfinal.order = c(0,0,0)\n",
    "for (p in 1:5) for (d in 0:1) for (q in 1:5) {\n",
    "    ftcurrent.aic = AIC(arima(lg_earn, order=c(p, d, q)))\n",
    "    if (ftcurrent.aic < ftfinal.aic) {\n",
    "        ftfinal.aic = ftcurrent.aic\n",
    "        ftfinal.order = c(p, d, q)\n",
    "        ftfinal.arima = arima(lg_earn, order=ftfinal.order)\n",
    "    }\n",
    "}"
   ]
  },
  {
   "cell_type": "code",
   "execution_count": 36,
   "metadata": {
    "collapsed": false
   },
   "outputs": [
    {
     "data": {
      "text/html": [
       "<ol class=list-inline>\n",
       "\t<li>1</li>\n",
       "\t<li>1</li>\n",
       "\t<li>5</li>\n",
       "</ol>\n"
      ],
      "text/latex": [
       "\\begin{enumerate*}\n",
       "\\item 1\n",
       "\\item 1\n",
       "\\item 5\n",
       "\\end{enumerate*}\n"
      ],
      "text/markdown": [
       "1. 1\n",
       "2. 1\n",
       "3. 5\n",
       "\n",
       "\n"
      ],
      "text/plain": [
       "[1] 1 1 5"
      ]
     },
     "metadata": {},
     "output_type": "display_data"
    }
   ],
   "source": [
    "ftfinal.order"
   ]
  },
  {
   "cell_type": "code",
   "execution_count": 34,
   "metadata": {
    "collapsed": false
   },
   "outputs": [
    {
     "data": {
      "text/plain": [
       "\n",
       "Call:\n",
       "arima(x = lg_earn, order = ftfinal.order)\n",
       "\n",
       "Coefficients:\n",
       "          ar1      ar2      ma1     ma2      ma3     ma4\n",
       "      -0.0048  -0.9800  -0.3903  0.9829  -0.4274  0.4235\n",
       "s.e.   0.0195   0.0194   0.1158  0.0829   0.1053  0.1240\n",
       "\n",
       "sigma^2 estimated as 0.00929:  log likelihood = 94.8,  aic = -175.6"
      ]
     },
     "metadata": {},
     "output_type": "display_data"
    }
   ],
   "source": [
    "ftfinal.arima"
   ]
  },
  {
   "cell_type": "markdown",
   "metadata": {},
   "source": [
    "Differencing of one makes sense because there was trending in the series. MA 5 makes sense because there was significance in pacf up to lag 5. AR 1 will take care of persistant decaying serial corellation in acf. "
   ]
  },
  {
   "cell_type": "code",
   "execution_count": 24,
   "metadata": {
    "collapsed": false
   },
   "outputs": [
    {
     "data": {
      "image/png": "[encoded data removed]",
      "text/plain": [
       "Plot with title \"p values for Ljung-Box statistic\""
      ]
     },
     "metadata": {},
     "output_type": "display_data"
    }
   ],
   "source": [
    "tsdiag(ftfinal.arima)"
   ]
  },
  {
   "cell_type": "markdown",
   "metadata": {},
   "source": [
    "Model still has serial correlation. There looks to be a seasonal pattern in residuals. So a model that accounts for seasonality should perfom better. "
   ]
  },
  {
   "cell_type": "markdown",
   "metadata": {},
   "source": [
    "(ii)"
   ]
  },
  {
   "cell_type": "code",
   "execution_count": 38,
   "metadata": {
    "collapsed": false
   },
   "outputs": [],
   "source": [
    "mm<-arima(lg_earn,order=c(0,1,1),seasonal=list(order=c(0,0,1),period=4))"
   ]
  },
  {
   "cell_type": "code",
   "execution_count": 39,
   "metadata": {
    "collapsed": false
   },
   "outputs": [
    {
     "data": {
      "text/plain": [
       "\n",
       "Call:\n",
       "arima(x = lg_earn, order = c(0, 1, 1), seasonal = list(order = c(0, 0, 1), period = 4))\n",
       "\n",
       "Coefficients:\n",
       "          ma1    sma1\n",
       "      -0.6374  0.6493\n",
       "s.e.   0.0593  0.0582\n",
       "\n",
       "sigma^2 estimated as 0.02397:  log likelihood = 46.07,  aic = -86.15"
      ]
     },
     "metadata": {},
     "output_type": "display_data"
    }
   ],
   "source": [
    "mm"
   ]
  },
  {
   "cell_type": "code",
   "execution_count": 40,
   "metadata": {
    "collapsed": false
   },
   "outputs": [
    {
     "data": {
      "image/png": "[encoded data removed]",
      "text/plain": [
       "Plot with title \"p values for Ljung-Box statistic\""
      ]
     },
     "metadata": {},
     "output_type": "display_data"
    }
   ],
   "source": [
    "tsdiag(mm)"
   ]
  },
  {
   "cell_type": "markdown",
   "metadata": {},
   "source": [
    "(iii)"
   ]
  },
  {
   "cell_type": "markdown",
   "metadata": {},
   "source": [
    "Well the first model still perfoms better (lower AIC), most likely due to its AR and MA parts. But if the first model had a seasonal component like the second model it should do even better."
   ]
  },
  {
   "cell_type": "markdown",
   "metadata": {},
   "source": [
    "Using code again. But adding sesonal part to ARIMA candidates."
   ]
  },
  {
   "cell_type": "code",
   "execution_count": 44,
   "metadata": {
    "collapsed": false
   },
   "outputs": [
    {
     "name": "stderr",
     "output_type": "stream",
     "text": [
      "Warning message in arima(lg_earn, order = ftfinal.order):\n",
      "\"possible convergence problem: optim gave code = 1\"Warning message in arima(lg_earn, order = c(p, d, q), seasonal = list(order = c(0, :\n",
      "\"possible convergence problem: optim gave code = 1\"Warning message in arima(lg_earn, order = c(p, d, q), seasonal = list(order = c(0, :\n",
      "\"possible convergence problem: optim gave code = 1\"Warning message in arima(lg_earn, order = c(p, d, q), seasonal = list(order = c(0, :\n",
      "\"possible convergence problem: optim gave code = 1\"Warning message in arima(lg_earn, order = c(p, d, q), seasonal = list(order = c(0, :\n",
      "\"possible convergence problem: optim gave code = 1\""
     ]
    },
    {
     "ename": "ERROR",
     "evalue": "Error in arima(lg_earn, order = c(p, d, q), seasonal = list(order = c(0, : non-stationary AR part from CSS\n",
     "output_type": "error",
     "traceback": [
      "Error in arima(lg_earn, order = c(p, d, q), seasonal = list(order = c(0, : non-stationary AR part from CSS\nTraceback:\n",
      "1. AIC(arima(lg_earn, order = c(p, d, q), seasonal = list(order = c(0, \n .     0, 1), period = 4)))   # at line 4 of file <text>",
      "2. arima(lg_earn, order = c(p, d, q), seasonal = list(order = c(0, \n .     0, 1), period = 4))",
      "3. stop(\"non-stationary AR part from CSS\")"
     ]
    }
   ],
   "source": [
    "ftfinal.aic = Inf\n",
    "ftfinal.order = c(0,0,0)\n",
    "for (p in 1:5) for (d in 0:1) for (q in 1:5) {\n",
    "    ftcurrent.aic = AIC(arima(lg_earn, order=c(p, d, q),seasonal=list(order=c(0,0,1),period=4)))\n",
    "    if (ftcurrent.aic < ftfinal.aic) {\n",
    "        ftfinal.aic = ftcurrent.aic\n",
    "        ftfinal.order = c(p, d, q)\n",
    "        ftfinal.arima = arima(lg_earn, order=ftfinal.order)\n",
    "    }\n",
    "}"
   ]
  },
  {
   "cell_type": "code",
   "execution_count": 45,
   "metadata": {
    "collapsed": false
   },
   "outputs": [
    {
     "data": {
      "text/html": [
       "<ol class=list-inline>\n",
       "\t<li>2</li>\n",
       "\t<li>1</li>\n",
       "\t<li>4</li>\n",
       "</ol>\n"
      ],
      "text/latex": [
       "\\begin{enumerate*}\n",
       "\\item 2\n",
       "\\item 1\n",
       "\\item 4\n",
       "\\end{enumerate*}\n"
      ],
      "text/markdown": [
       "1. 2\n",
       "2. 1\n",
       "3. 4\n",
       "\n",
       "\n"
      ],
      "text/plain": [
       "[1] 2 1 4"
      ]
     },
     "metadata": {},
     "output_type": "display_data"
    },
    {
     "data": {
      "text/plain": [
       "\n",
       "Call:\n",
       "arima(x = lg_earn, order = ftfinal.order)\n",
       "\n",
       "Coefficients:\n",
       "          ar1      ar2      ma1     ma2      ma3     ma4\n",
       "      -0.0048  -0.9800  -0.3903  0.9829  -0.4274  0.4235\n",
       "s.e.   0.0195   0.0194   0.1158  0.0829   0.1053  0.1240\n",
       "\n",
       "sigma^2 estimated as 0.00929:  log likelihood = 94.8,  aic = -175.6"
      ]
     },
     "metadata": {},
     "output_type": "display_data"
    }
   ],
   "source": [
    "ftfinal.order\n",
    "ftfinal.arima"
   ]
  },
  {
   "cell_type": "code",
   "execution_count": 48,
   "metadata": {
    "collapsed": false
   },
   "outputs": [
    {
     "data": {
      "image/png": "[encoded data removed]",
      "text/plain": [
       "Plot with title \"p values for Ljung-Box statistic\""
      ]
     },
     "metadata": {},
     "output_type": "display_data"
    }
   ],
   "source": [
    "tsdiag(ftfinal.arima, gof = 24)"
   ]
  },
  {
   "cell_type": "markdown",
   "metadata": {},
   "source": [
    "As suspected the first model performs much better with seasonal component added to it. The AIC went down to -175. Looks like there is some long term relationship that the model cannot explain."
   ]
  },
  {
   "cell_type": "markdown",
   "metadata": {},
   "source": [
    "(iv)"
   ]
  },
  {
   "cell_type": "code",
   "execution_count": 50,
   "metadata": {
    "collapsed": false
   },
   "outputs": [],
   "source": [
    "source(\"backtest.R\")"
   ]
  },
  {
   "cell_type": "code",
   "execution_count": 51,
   "metadata": {
    "collapsed": false
   },
   "outputs": [
    {
     "name": "stdout",
     "output_type": "stream",
     "text": [
      "[1] \"RMSE of out-of-sample forecasts\"\n",
      "[1] 0.1033156\n",
      "[1] \"Mean absolute error of out-of-sample forecasts\"\n",
      "[1] 0.07891708\n",
      "[1] \"RMSE of out-of-sample forecasts\"\n",
      "[1] 0.1408561\n",
      "[1] \"Mean absolute error of out-of-sample forecasts\"\n",
      "[1] 0.1137484\n"
     ]
    }
   ],
   "source": [
    "mm1 = backtest(ftfinal.arima,lg_earn,75,1)\n",
    "mm2 = backtest(mm,lg_earn,75,1)"
   ]
  },
  {
   "cell_type": "markdown",
   "metadata": {},
   "source": [
    "The first model perform better out of sample. Its RMSE and MAE are both lower, this is due to its AR and MA components explaining more of the serial correlation."
   ]
  },
  {
   "cell_type": "markdown",
   "metadata": {},
   "source": [
    "Question 2"
   ]
  },
  {
   "cell_type": "code",
   "execution_count": 1,
   "metadata": {
    "collapsed": true
   },
   "outputs": [],
   "source": [
    "da2 = read.table(\"d-nflx3dxp913.txt\", header = TRUE)"
   ]
  },
  {
   "cell_type": "code",
   "execution_count": 2,
   "metadata": {
    "collapsed": false
   },
   "outputs": [
    {
     "data": {
      "text/html": [
       "<table>\n",
       "<thead><tr><th scope=col>PERMNO</th><th scope=col>date</th><th scope=col>nflx</th><th scope=col>vwretd</th><th scope=col>ewretd</th><th scope=col>sprtrn</th></tr></thead>\n",
       "<tbody>\n",
       "\t<tr><td>89393    </td><td>20090102 </td><td>-0.000669</td><td> 0.030501</td><td> 0.038274</td><td> 0.031608</td></tr>\n",
       "\t<tr><td>89393    </td><td>20090105 </td><td> 0.069300</td><td>-0.000580</td><td> 0.016764</td><td>-0.004668</td></tr>\n",
       "\t<tr><td>89393    </td><td>20090106 </td><td> 0.031309</td><td> 0.011297</td><td> 0.033647</td><td> 0.007817</td></tr>\n",
       "\t<tr><td>89393    </td><td>20090107 </td><td>-0.006982</td><td>-0.030489</td><td>-0.022271</td><td>-0.030010</td></tr>\n",
       "\t<tr><td>89393    </td><td>20090108 </td><td> 0.013452</td><td> 0.006283</td><td> 0.011896</td><td> 0.003397</td></tr>\n",
       "\t<tr><td>89393    </td><td>20090109 </td><td>-0.026848</td><td>-0.022410</td><td>-0.018748</td><td>-0.021303</td></tr>\n",
       "\t<tr><td>89393    </td><td>20090112 </td><td>-0.032548</td><td>-0.025560</td><td>-0.026589</td><td>-0.022564</td></tr>\n",
       "\t<tr><td>89393    </td><td>20090113 </td><td>-0.008651</td><td> 0.003514</td><td> 0.003554</td><td> 0.001758</td></tr>\n",
       "\t<tr><td>89393    </td><td>20090114 </td><td>-0.045249</td><td>-0.035197</td><td>-0.035065</td><td>-0.033460</td></tr>\n",
       "\t<tr><td>89393    </td><td>20090115 </td><td> 0.070413</td><td> 0.004632</td><td> 0.005630</td><td> 0.001329</td></tr>\n",
       "\t<tr><td>89393    </td><td>20090116 </td><td>-0.011385</td><td> 0.008439</td><td> 0.008792</td><td> 0.007562</td></tr>\n",
       "\t<tr><td>89393    </td><td>20090120 </td><td>-0.045745</td><td>-0.055273</td><td>-0.051506</td><td>-0.052816</td></tr>\n",
       "\t<tr><td>89393    </td><td>20090121 </td><td> 0.028830</td><td> 0.043228</td><td> 0.036151</td><td> 0.043491</td></tr>\n",
       "\t<tr><td>89393    </td><td>20090122 </td><td> 0.004888</td><td>-0.018218</td><td>-0.021960</td><td>-0.015162</td></tr>\n",
       "\t<tr><td>89393    </td><td>20090123 </td><td>-0.012970</td><td> 0.006841</td><td> 0.003373</td><td> 0.005378</td></tr>\n",
       "\t<tr><td>89393    </td><td>20090126 </td><td>-0.009527</td><td> 0.006132</td><td> 0.010067</td><td> 0.005553</td></tr>\n",
       "\t<tr><td>89393    </td><td>20090127 </td><td> 0.154892</td><td> 0.011296</td><td> 0.010037</td><td> 0.010926</td></tr>\n",
       "\t<tr><td>89393    </td><td>20090128 </td><td> 0.038484</td><td> 0.033780</td><td> 0.030523</td><td> 0.033558</td></tr>\n",
       "\t<tr><td>89393    </td><td>20090129 </td><td> 0.019912</td><td>-0.032823</td><td>-0.028890</td><td>-0.033120</td></tr>\n",
       "\t<tr><td>89393    </td><td>20090130 </td><td>-0.020065</td><td>-0.020768</td><td>-0.012829</td><td>-0.022789</td></tr>\n",
       "\t<tr><td>89393    </td><td>20090202 </td><td> 0.022413</td><td>-0.001067</td><td> 0.001559</td><td>-0.000533</td></tr>\n",
       "\t<tr><td>89393    </td><td>20090203 </td><td>-0.005683</td><td> 0.014357</td><td> 0.008983</td><td> 0.015834</td></tr>\n",
       "\t<tr><td>89393    </td><td>20090204 </td><td> 0.002994</td><td>-0.004440</td><td>-0.004053</td><td>-0.007489</td></tr>\n",
       "\t<tr><td>89393    </td><td>20090205 </td><td> 0.016825</td><td> 0.015526</td><td> 0.011978</td><td> 0.016366</td></tr>\n",
       "\t<tr><td>89393    </td><td>20090206 </td><td>-0.012543</td><td> 0.027933</td><td> 0.026723</td><td> 0.026896</td></tr>\n",
       "\t<tr><td>89393    </td><td>20090209 </td><td>-0.001622</td><td> 0.001233</td><td> 0.000768</td><td> 0.001485</td></tr>\n",
       "\t<tr><td>89393    </td><td>20090210 </td><td>-0.020845</td><td>-0.045998</td><td>-0.035051</td><td>-0.049121</td></tr>\n",
       "\t<tr><td>89393    </td><td>20090211 </td><td> 0.000000</td><td> 0.007304</td><td> 0.004636</td><td> 0.007955</td></tr>\n",
       "\t<tr><td>89393    </td><td>20090212 </td><td> 0.048659</td><td> 0.002613</td><td>-0.000766</td><td> 0.001739</td></tr>\n",
       "\t<tr><td>89393    </td><td>20090213 </td><td> 0.016082</td><td>-0.008815</td><td>-0.002111</td><td>-0.009998</td></tr>\n",
       "\t<tr><td>...</td><td>...</td><td>...</td><td>...</td><td>...</td><td>...</td></tr>\n",
       "\t<tr><td>89393    </td><td>20131118 </td><td>-0.022844</td><td>-0.004638</td><td>-0.004134</td><td>-0.003698</td></tr>\n",
       "\t<tr><td>89393    </td><td>20131119 </td><td>-0.013108</td><td>-0.003365</td><td>-0.004351</td><td>-0.002043</td></tr>\n",
       "\t<tr><td>89393    </td><td>20131120 </td><td> 0.006611</td><td>-0.003300</td><td>-0.003096</td><td>-0.003636</td></tr>\n",
       "\t<tr><td>89393    </td><td>20131121 </td><td> 0.026449</td><td> 0.008669</td><td> 0.009070</td><td> 0.008129</td></tr>\n",
       "\t<tr><td>89393    </td><td>20131122 </td><td>-0.001865</td><td> 0.004573</td><td> 0.003700</td><td> 0.004961</td></tr>\n",
       "\t<tr><td>89393    </td><td>20131125 </td><td> 0.006871</td><td>-0.001431</td><td>-0.000255</td><td>-0.001263</td></tr>\n",
       "\t<tr><td>89393    </td><td>20131126 </td><td> 0.014162</td><td> 0.001066</td><td> 0.004053</td><td> 0.000150</td></tr>\n",
       "\t<tr><td>89393    </td><td>20131127 </td><td> 0.020524</td><td> 0.002737</td><td> 0.005455</td><td> 0.002485</td></tr>\n",
       "\t<tr><td>89393    </td><td>20131129 </td><td> 0.009131</td><td> 0.000169</td><td> 0.003875</td><td>-0.000786</td></tr>\n",
       "\t<tr><td>89393    </td><td>20131202 </td><td>-0.005139</td><td>-0.003649</td><td>-0.007152</td><td>-0.002719</td></tr>\n",
       "\t<tr><td>89393    </td><td>20131203 </td><td>-0.002693</td><td>-0.003714</td><td>-0.003833</td><td>-0.003193</td></tr>\n",
       "\t<tr><td>89393    </td><td>20131204 </td><td>-0.018378</td><td>-0.000950</td><td>-0.000588</td><td>-0.001304</td></tr>\n",
       "\t<tr><td>89393    </td><td>20131205 </td><td> 0.005024</td><td>-0.003511</td><td>-0.001612</td><td>-0.004340</td></tr>\n",
       "\t<tr><td>89393    </td><td>20131206 </td><td>-0.010110</td><td> 0.009669</td><td> 0.006687</td><td> 0.011238</td></tr>\n",
       "\t<tr><td>89393    </td><td>20131209 </td><td> 0.003470</td><td> 0.001861</td><td>-0.000607</td><td> 0.001817</td></tr>\n",
       "\t<tr><td>89393    </td><td>20131210 </td><td> 0.020890</td><td>-0.002802</td><td>-0.002139</td><td>-0.003180</td></tr>\n",
       "\t<tr><td>89393    </td><td>20131211 </td><td> 0.002424</td><td>-0.012033</td><td>-0.011254</td><td>-0.011317</td></tr>\n",
       "\t<tr><td>89393    </td><td>20131212 </td><td> 0.025688</td><td>-0.002561</td><td>-0.000698</td><td>-0.003771</td></tr>\n",
       "\t<tr><td>89393    </td><td>20131213 </td><td>-0.011679</td><td> 0.001295</td><td> 0.003054</td><td>-0.000101</td></tr>\n",
       "\t<tr><td>89393    </td><td>20131216 </td><td>-0.007209</td><td> 0.006433</td><td> 0.006875</td><td> 0.006320</td></tr>\n",
       "\t<tr><td>89393    </td><td>20131217 </td><td> 0.023368</td><td>-0.002338</td><td>-0.000097</td><td>-0.003101</td></tr>\n",
       "\t<tr><td>89393    </td><td>20131218 </td><td> 0.003655</td><td> 0.014483</td><td> 0.008528</td><td> 0.016648</td></tr>\n",
       "\t<tr><td>89393    </td><td>20131219 </td><td> 0.001329</td><td>-0.001027</td><td>-0.001756</td><td>-0.000580</td></tr>\n",
       "\t<tr><td>89393    </td><td>20131220 </td><td>-0.002840</td><td> 0.006897</td><td> 0.010080</td><td> 0.004819</td></tr>\n",
       "\t<tr><td>89393    </td><td>20131223 </td><td> 0.013070</td><td> 0.006227</td><td> 0.008646</td><td> 0.005318</td></tr>\n",
       "\t<tr><td>89393    </td><td>20131224 </td><td>-0.005754</td><td> 0.003466</td><td> 0.004324</td><td> 0.002916</td></tr>\n",
       "\t<tr><td>89393    </td><td>20131226 </td><td>-0.003859</td><td> 0.003991</td><td> 0.002320</td><td> 0.004745</td></tr>\n",
       "\t<tr><td>89393    </td><td>20131227 </td><td>-0.025018</td><td>-0.000084</td><td> 0.001422</td><td>-0.000337</td></tr>\n",
       "\t<tr><td>89393    </td><td>20131230 </td><td>-0.001388</td><td> 0.000278</td><td> 0.000551</td><td>-0.000179</td></tr>\n",
       "\t<tr><td>89393    </td><td>20131231 </td><td> 0.003215</td><td> 0.004264</td><td> 0.003915</td><td> 0.003960</td></tr>\n",
       "</tbody>\n",
       "</table>\n"
      ],
      "text/latex": [
       "\\begin{tabular}{r|llllll}\n",
       " PERMNO & date & nflx & vwretd & ewretd & sprtrn\\\\\n",
       "\\hline\n",
       "\t 89393     & 20090102  & -0.000669 &  0.030501 &  0.038274 &  0.031608\\\\\n",
       "\t 89393     & 20090105  &  0.069300 & -0.000580 &  0.016764 & -0.004668\\\\\n",
       "\t 89393     & 20090106  &  0.031309 &  0.011297 &  0.033647 &  0.007817\\\\\n",
       "\t 89393     & 20090107  & -0.006982 & -0.030489 & -0.022271 & -0.030010\\\\\n",
       "\t 89393     & 20090108  &  0.013452 &  0.006283 &  0.011896 &  0.003397\\\\\n",
       "\t 89393     & 20090109  & -0.026848 & -0.022410 & -0.018748 & -0.021303\\\\\n",
       "\t 89393     & 20090112  & -0.032548 & -0.025560 & -0.026589 & -0.022564\\\\\n",
       "\t 89393     & 20090113  & -0.008651 &  0.003514 &  0.003554 &  0.001758\\\\\n",
       "\t 89393     & 20090114  & -0.045249 & -0.035197 & -0.035065 & -0.033460\\\\\n",
       "\t 89393     & 20090115  &  0.070413 &  0.004632 &  0.005630 &  0.001329\\\\\n",
       "\t 89393     & 20090116  & -0.011385 &  0.008439 &  0.008792 &  0.007562\\\\\n",
       "\t 89393     & 20090120  & -0.045745 & -0.055273 & -0.051506 & -0.052816\\\\\n",
       "\t 89393     & 20090121  &  0.028830 &  0.043228 &  0.036151 &  0.043491\\\\\n",
       "\t 89393     & 20090122  &  0.004888 & -0.018218 & -0.021960 & -0.015162\\\\\n",
       "\t 89393     & 20090123  & -0.012970 &  0.006841 &  0.003373 &  0.005378\\\\\n",
       "\t 89393     & 20090126  & -0.009527 &  0.006132 &  0.010067 &  0.005553\\\\\n",
       "\t 89393     & 20090127  &  0.154892 &  0.011296 &  0.010037 &  0.010926\\\\\n",
       "\t 89393     & 20090128  &  0.038484 &  0.033780 &  0.030523 &  0.033558\\\\\n",
       "\t 89393     & 20090129  &  0.019912 & -0.032823 & -0.028890 & -0.033120\\\\\n",
       "\t 89393     & 20090130  & -0.020065 & -0.020768 & -0.012829 & -0.022789\\\\\n",
       "\t 89393     & 20090202  &  0.022413 & -0.001067 &  0.001559 & -0.000533\\\\\n",
       "\t 89393     & 20090203  & -0.005683 &  0.014357 &  0.008983 &  0.015834\\\\\n",
       "\t 89393     & 20090204  &  0.002994 & -0.004440 & -0.004053 & -0.007489\\\\\n",
       "\t 89393     & 20090205  &  0.016825 &  0.015526 &  0.011978 &  0.016366\\\\\n",
       "\t 89393     & 20090206  & -0.012543 &  0.027933 &  0.026723 &  0.026896\\\\\n",
       "\t 89393     & 20090209  & -0.001622 &  0.001233 &  0.000768 &  0.001485\\\\\n",
       "\t 89393     & 20090210  & -0.020845 & -0.045998 & -0.035051 & -0.049121\\\\\n",
       "\t 89393     & 20090211  &  0.000000 &  0.007304 &  0.004636 &  0.007955\\\\\n",
       "\t 89393     & 20090212  &  0.048659 &  0.002613 & -0.000766 &  0.001739\\\\\n",
       "\t 89393     & 20090213  &  0.016082 & -0.008815 & -0.002111 & -0.009998\\\\\n",
       "\t ... & ... & ... & ... & ... & ...\\\\\n",
       "\t 89393     & 20131118  & -0.022844 & -0.004638 & -0.004134 & -0.003698\\\\\n",
       "\t 89393     & 20131119  & -0.013108 & -0.003365 & -0.004351 & -0.002043\\\\\n",
       "\t 89393     & 20131120  &  0.006611 & -0.003300 & -0.003096 & -0.003636\\\\\n",
       "\t 89393     & 20131121  &  0.026449 &  0.008669 &  0.009070 &  0.008129\\\\\n",
       "\t 89393     & 20131122  & -0.001865 &  0.004573 &  0.003700 &  0.004961\\\\\n",
       "\t 89393     & 20131125  &  0.006871 & -0.001431 & -0.000255 & -0.001263\\\\\n",
       "\t 89393     & 20131126  &  0.014162 &  0.001066 &  0.004053 &  0.000150\\\\\n",
       "\t 89393     & 20131127  &  0.020524 &  0.002737 &  0.005455 &  0.002485\\\\\n",
       "\t 89393     & 20131129  &  0.009131 &  0.000169 &  0.003875 & -0.000786\\\\\n",
       "\t 89393     & 20131202  & -0.005139 & -0.003649 & -0.007152 & -0.002719\\\\\n",
       "\t 89393     & 20131203  & -0.002693 & -0.003714 & -0.003833 & -0.003193\\\\\n",
       "\t 89393     & 20131204  & -0.018378 & -0.000950 & -0.000588 & -0.001304\\\\\n",
       "\t 89393     & 20131205  &  0.005024 & -0.003511 & -0.001612 & -0.004340\\\\\n",
       "\t 89393     & 20131206  & -0.010110 &  0.009669 &  0.006687 &  0.011238\\\\\n",
       "\t 89393     & 20131209  &  0.003470 &  0.001861 & -0.000607 &  0.001817\\\\\n",
       "\t 89393     & 20131210  &  0.020890 & -0.002802 & -0.002139 & -0.003180\\\\\n",
       "\t 89393     & 20131211  &  0.002424 & -0.012033 & -0.011254 & -0.011317\\\\\n",
       "\t 89393     & 20131212  &  0.025688 & -0.002561 & -0.000698 & -0.003771\\\\\n",
       "\t 89393     & 20131213  & -0.011679 &  0.001295 &  0.003054 & -0.000101\\\\\n",
       "\t 89393     & 20131216  & -0.007209 &  0.006433 &  0.006875 &  0.006320\\\\\n",
       "\t 89393     & 20131217  &  0.023368 & -0.002338 & -0.000097 & -0.003101\\\\\n",
       "\t 89393     & 20131218  &  0.003655 &  0.014483 &  0.008528 &  0.016648\\\\\n",
       "\t 89393     & 20131219  &  0.001329 & -0.001027 & -0.001756 & -0.000580\\\\\n",
       "\t 89393     & 20131220  & -0.002840 &  0.006897 &  0.010080 &  0.004819\\\\\n",
       "\t 89393     & 20131223  &  0.013070 &  0.006227 &  0.008646 &  0.005318\\\\\n",
       "\t 89393     & 20131224  & -0.005754 &  0.003466 &  0.004324 &  0.002916\\\\\n",
       "\t 89393     & 20131226  & -0.003859 &  0.003991 &  0.002320 &  0.004745\\\\\n",
       "\t 89393     & 20131227  & -0.025018 & -0.000084 &  0.001422 & -0.000337\\\\\n",
       "\t 89393     & 20131230  & -0.001388 &  0.000278 &  0.000551 & -0.000179\\\\\n",
       "\t 89393     & 20131231  &  0.003215 &  0.004264 &  0.003915 &  0.003960\\\\\n",
       "\\end{tabular}\n"
      ],
      "text/markdown": [
       "\n",
       "PERMNO | date | nflx | vwretd | ewretd | sprtrn | \n",
       "|---|---|---|---|---|---|---|---|---|---|---|---|---|---|---|---|---|---|---|---|---|---|---|---|---|---|---|---|---|---|---|---|---|---|---|---|---|---|---|---|---|---|---|---|---|---|---|---|---|---|---|---|---|---|---|---|---|---|---|---|---|\n",
       "| 89393     | 20090102  | -0.000669 |  0.030501 |  0.038274 |  0.031608 | \n",
       "| 89393     | 20090105  |  0.069300 | -0.000580 |  0.016764 | -0.004668 | \n",
       "| 89393     | 20090106  |  0.031309 |  0.011297 |  0.033647 |  0.007817 | \n",
       "| 89393     | 20090107  | -0.006982 | -0.030489 | -0.022271 | -0.030010 | \n",
       "| 89393     | 20090108  |  0.013452 |  0.006283 |  0.011896 |  0.003397 | \n",
       "| 89393     | 20090109  | -0.026848 | -0.022410 | -0.018748 | -0.021303 | \n",
       "| 89393     | 20090112  | -0.032548 | -0.025560 | -0.026589 | -0.022564 | \n",
       "| 89393     | 20090113  | -0.008651 |  0.003514 |  0.003554 |  0.001758 | \n",
       "| 89393     | 20090114  | -0.045249 | -0.035197 | -0.035065 | -0.033460 | \n",
       "| 89393     | 20090115  |  0.070413 |  0.004632 |  0.005630 |  0.001329 | \n",
       "| 89393     | 20090116  | -0.011385 |  0.008439 |  0.008792 |  0.007562 | \n",
       "| 89393     | 20090120  | -0.045745 | -0.055273 | -0.051506 | -0.052816 | \n",
       "| 89393     | 20090121  |  0.028830 |  0.043228 |  0.036151 |  0.043491 | \n",
       "| 89393     | 20090122  |  0.004888 | -0.018218 | -0.021960 | -0.015162 | \n",
       "| 89393     | 20090123  | -0.012970 |  0.006841 |  0.003373 |  0.005378 | \n",
       "| 89393     | 20090126  | -0.009527 |  0.006132 |  0.010067 |  0.005553 | \n",
       "| 89393     | 20090127  |  0.154892 |  0.011296 |  0.010037 |  0.010926 | \n",
       "| 89393     | 20090128  |  0.038484 |  0.033780 |  0.030523 |  0.033558 | \n",
       "| 89393     | 20090129  |  0.019912 | -0.032823 | -0.028890 | -0.033120 | \n",
       "| 89393     | 20090130  | -0.020065 | -0.020768 | -0.012829 | -0.022789 | \n",
       "| 89393     | 20090202  |  0.022413 | -0.001067 |  0.001559 | -0.000533 | \n",
       "| 89393     | 20090203  | -0.005683 |  0.014357 |  0.008983 |  0.015834 | \n",
       "| 89393     | 20090204  |  0.002994 | -0.004440 | -0.004053 | -0.007489 | \n",
       "| 89393     | 20090205  |  0.016825 |  0.015526 |  0.011978 |  0.016366 | \n",
       "| 89393     | 20090206  | -0.012543 |  0.027933 |  0.026723 |  0.026896 | \n",
       "| 89393     | 20090209  | -0.001622 |  0.001233 |  0.000768 |  0.001485 | \n",
       "| 89393     | 20090210  | -0.020845 | -0.045998 | -0.035051 | -0.049121 | \n",
       "| 89393     | 20090211  |  0.000000 |  0.007304 |  0.004636 |  0.007955 | \n",
       "| 89393     | 20090212  |  0.048659 |  0.002613 | -0.000766 |  0.001739 | \n",
       "| 89393     | 20090213  |  0.016082 | -0.008815 | -0.002111 | -0.009998 | \n",
       "| ... | ... | ... | ... | ... | ... | \n",
       "| 89393     | 20131118  | -0.022844 | -0.004638 | -0.004134 | -0.003698 | \n",
       "| 89393     | 20131119  | -0.013108 | -0.003365 | -0.004351 | -0.002043 | \n",
       "| 89393     | 20131120  |  0.006611 | -0.003300 | -0.003096 | -0.003636 | \n",
       "| 89393     | 20131121  |  0.026449 |  0.008669 |  0.009070 |  0.008129 | \n",
       "| 89393     | 20131122  | -0.001865 |  0.004573 |  0.003700 |  0.004961 | \n",
       "| 89393     | 20131125  |  0.006871 | -0.001431 | -0.000255 | -0.001263 | \n",
       "| 89393     | 20131126  |  0.014162 |  0.001066 |  0.004053 |  0.000150 | \n",
       "| 89393     | 20131127  |  0.020524 |  0.002737 |  0.005455 |  0.002485 | \n",
       "| 89393     | 20131129  |  0.009131 |  0.000169 |  0.003875 | -0.000786 | \n",
       "| 89393     | 20131202  | -0.005139 | -0.003649 | -0.007152 | -0.002719 | \n",
       "| 89393     | 20131203  | -0.002693 | -0.003714 | -0.003833 | -0.003193 | \n",
       "| 89393     | 20131204  | -0.018378 | -0.000950 | -0.000588 | -0.001304 | \n",
       "| 89393     | 20131205  |  0.005024 | -0.003511 | -0.001612 | -0.004340 | \n",
       "| 89393     | 20131206  | -0.010110 |  0.009669 |  0.006687 |  0.011238 | \n",
       "| 89393     | 20131209  |  0.003470 |  0.001861 | -0.000607 |  0.001817 | \n",
       "| 89393     | 20131210  |  0.020890 | -0.002802 | -0.002139 | -0.003180 | \n",
       "| 89393     | 20131211  |  0.002424 | -0.012033 | -0.011254 | -0.011317 | \n",
       "| 89393     | 20131212  |  0.025688 | -0.002561 | -0.000698 | -0.003771 | \n",
       "| 89393     | 20131213  | -0.011679 |  0.001295 |  0.003054 | -0.000101 | \n",
       "| 89393     | 20131216  | -0.007209 |  0.006433 |  0.006875 |  0.006320 | \n",
       "| 89393     | 20131217  |  0.023368 | -0.002338 | -0.000097 | -0.003101 | \n",
       "| 89393     | 20131218  |  0.003655 |  0.014483 |  0.008528 |  0.016648 | \n",
       "| 89393     | 20131219  |  0.001329 | -0.001027 | -0.001756 | -0.000580 | \n",
       "| 89393     | 20131220  | -0.002840 |  0.006897 |  0.010080 |  0.004819 | \n",
       "| 89393     | 20131223  |  0.013070 |  0.006227 |  0.008646 |  0.005318 | \n",
       "| 89393     | 20131224  | -0.005754 |  0.003466 |  0.004324 |  0.002916 | \n",
       "| 89393     | 20131226  | -0.003859 |  0.003991 |  0.002320 |  0.004745 | \n",
       "| 89393     | 20131227  | -0.025018 | -0.000084 |  0.001422 | -0.000337 | \n",
       "| 89393     | 20131230  | -0.001388 |  0.000278 |  0.000551 | -0.000179 | \n",
       "| 89393     | 20131231  |  0.003215 |  0.004264 |  0.003915 |  0.003960 | \n",
       "\n",
       "\n"
      ],
      "text/plain": [
       "     PERMNO date     nflx      vwretd    ewretd    sprtrn   \n",
       "1    89393  20090102 -0.000669  0.030501  0.038274  0.031608\n",
       "2    89393  20090105  0.069300 -0.000580  0.016764 -0.004668\n",
       "3    89393  20090106  0.031309  0.011297  0.033647  0.007817\n",
       "4    89393  20090107 -0.006982 -0.030489 -0.022271 -0.030010\n",
       "5    89393  20090108  0.013452  0.006283  0.011896  0.003397\n",
       "6    89393  20090109 -0.026848 -0.022410 -0.018748 -0.021303\n",
       "7    89393  20090112 -0.032548 -0.025560 -0.026589 -0.022564\n",
       "8    89393  20090113 -0.008651  0.003514  0.003554  0.001758\n",
       "9    89393  20090114 -0.045249 -0.035197 -0.035065 -0.033460\n",
       "10   89393  20090115  0.070413  0.004632  0.005630  0.001329\n",
       "11   89393  20090116 -0.011385  0.008439  0.008792  0.007562\n",
       "12   89393  20090120 -0.045745 -0.055273 -0.051506 -0.052816\n",
       "13   89393  20090121  0.028830  0.043228  0.036151  0.043491\n",
       "14   89393  20090122  0.004888 -0.018218 -0.021960 -0.015162\n",
       "15   89393  20090123 -0.012970  0.006841  0.003373  0.005378\n",
       "16   89393  20090126 -0.009527  0.006132  0.010067  0.005553\n",
       "17   89393  20090127  0.154892  0.011296  0.010037  0.010926\n",
       "18   89393  20090128  0.038484  0.033780  0.030523  0.033558\n",
       "19   89393  20090129  0.019912 -0.032823 -0.028890 -0.033120\n",
       "20   89393  20090130 -0.020065 -0.020768 -0.012829 -0.022789\n",
       "21   89393  20090202  0.022413 -0.001067  0.001559 -0.000533\n",
       "22   89393  20090203 -0.005683  0.014357  0.008983  0.015834\n",
       "23   89393  20090204  0.002994 -0.004440 -0.004053 -0.007489\n",
       "24   89393  20090205  0.016825  0.015526  0.011978  0.016366\n",
       "25   89393  20090206 -0.012543  0.027933  0.026723  0.026896\n",
       "26   89393  20090209 -0.001622  0.001233  0.000768  0.001485\n",
       "27   89393  20090210 -0.020845 -0.045998 -0.035051 -0.049121\n",
       "28   89393  20090211  0.000000  0.007304  0.004636  0.007955\n",
       "29   89393  20090212  0.048659  0.002613 -0.000766  0.001739\n",
       "30   89393  20090213  0.016082 -0.008815 -0.002111 -0.009998\n",
       "...  ...    ...      ...       ...       ...       ...      \n",
       "1229 89393  20131118 -0.022844 -0.004638 -0.004134 -0.003698\n",
       "1230 89393  20131119 -0.013108 -0.003365 -0.004351 -0.002043\n",
       "1231 89393  20131120  0.006611 -0.003300 -0.003096 -0.003636\n",
       "1232 89393  20131121  0.026449  0.008669  0.009070  0.008129\n",
       "1233 89393  20131122 -0.001865  0.004573  0.003700  0.004961\n",
       "1234 89393  20131125  0.006871 -0.001431 -0.000255 -0.001263\n",
       "1235 89393  20131126  0.014162  0.001066  0.004053  0.000150\n",
       "1236 89393  20131127  0.020524  0.002737  0.005455  0.002485\n",
       "1237 89393  20131129  0.009131  0.000169  0.003875 -0.000786\n",
       "1238 89393  20131202 -0.005139 -0.003649 -0.007152 -0.002719\n",
       "1239 89393  20131203 -0.002693 -0.003714 -0.003833 -0.003193\n",
       "1240 89393  20131204 -0.018378 -0.000950 -0.000588 -0.001304\n",
       "1241 89393  20131205  0.005024 -0.003511 -0.001612 -0.004340\n",
       "1242 89393  20131206 -0.010110  0.009669  0.006687  0.011238\n",
       "1243 89393  20131209  0.003470  0.001861 -0.000607  0.001817\n",
       "1244 89393  20131210  0.020890 -0.002802 -0.002139 -0.003180\n",
       "1245 89393  20131211  0.002424 -0.012033 -0.011254 -0.011317\n",
       "1246 89393  20131212  0.025688 -0.002561 -0.000698 -0.003771\n",
       "1247 89393  20131213 -0.011679  0.001295  0.003054 -0.000101\n",
       "1248 89393  20131216 -0.007209  0.006433  0.006875  0.006320\n",
       "1249 89393  20131217  0.023368 -0.002338 -0.000097 -0.003101\n",
       "1250 89393  20131218  0.003655  0.014483  0.008528  0.016648\n",
       "1251 89393  20131219  0.001329 -0.001027 -0.001756 -0.000580\n",
       "1252 89393  20131220 -0.002840  0.006897  0.010080  0.004819\n",
       "1253 89393  20131223  0.013070  0.006227  0.008646  0.005318\n",
       "1254 89393  20131224 -0.005754  0.003466  0.004324  0.002916\n",
       "1255 89393  20131226 -0.003859  0.003991  0.002320  0.004745\n",
       "1256 89393  20131227 -0.025018 -0.000084  0.001422 -0.000337\n",
       "1257 89393  20131230 -0.001388  0.000278  0.000551 -0.000179\n",
       "1258 89393  20131231  0.003215  0.004264  0.003915  0.003960"
      ]
     },
     "metadata": {},
     "output_type": "display_data"
    }
   ],
   "source": [
    "da2"
   ]
  },
  {
   "cell_type": "code",
   "execution_count": 3,
   "metadata": {
    "collapsed": false
   },
   "outputs": [],
   "source": [
    "lg_ret = log(da2$sprtrn + 1)"
   ]
  },
  {
   "cell_type": "code",
   "execution_count": 4,
   "metadata": {
    "collapsed": false
   },
   "outputs": [
    {
     "data": {
      "image/png": "[encoded data removed]",
      "text/plain": [
       "plot without title"
      ]
     },
     "metadata": {},
     "output_type": "display_data"
    }
   ],
   "source": [
    "plot(ts(lg_ret,frequency=1,start=c(2009,1)),type='l',xlab='year',ylab='Log Returns')"
   ]
  },
  {
   "cell_type": "markdown",
   "metadata": {},
   "source": [
    "Mean does look stationary around zero."
   ]
  },
  {
   "cell_type": "code",
   "execution_count": 5,
   "metadata": {
    "collapsed": false
   },
   "outputs": [
    {
     "data": {
      "text/plain": [
       "\n",
       "\tOne Sample t-test\n",
       "\n",
       "data:  lg_ret\n",
       "t = 1.6451, df = 1257, p-value = 0.1002\n",
       "alternative hypothesis: true mean is not equal to 0\n",
       "95 percent confidence interval:\n",
       " -0.0001096113  0.0012480166\n",
       "sample estimates:\n",
       "   mean of x \n",
       "0.0005692027 \n"
      ]
     },
     "metadata": {},
     "output_type": "display_data"
    }
   ],
   "source": [
    "t.test(lg_ret)"
   ]
  },
  {
   "cell_type": "markdown",
   "metadata": {},
   "source": [
    "From t-test expected log returns is zero."
   ]
  },
  {
   "cell_type": "code",
   "execution_count": 6,
   "metadata": {
    "collapsed": false
   },
   "outputs": [
    {
     "data": {
      "image/png": "[encoded data removed]",
      "text/plain": [
       "Plot with title \"Series  lg_ret\""
      ]
     },
     "metadata": {},
     "output_type": "display_data"
    }
   ],
   "source": [
    "acf(lg_ret)"
   ]
  },
  {
   "cell_type": "code",
   "execution_count": 7,
   "metadata": {
    "collapsed": false
   },
   "outputs": [
    {
     "data": {
      "text/plain": [
       "\n",
       "\tBox-Ljung test\n",
       "\n",
       "data:  lg_ret\n",
       "X-squared = 32.427, df = 10, p-value = 0.0003399\n"
      ]
     },
     "metadata": {},
     "output_type": "display_data"
    }
   ],
   "source": [
    "Box.test(lg_ret,lag=10,type='Ljung')"
   ]
  },
  {
   "cell_type": "markdown",
   "metadata": {},
   "source": [
    "From the Box-Ljung test we reject the null hypothesis of no serial correlation."
   ]
  },
  {
   "cell_type": "markdown",
   "metadata": {},
   "source": [
    "(ii)"
   ]
  },
  {
   "cell_type": "code",
   "execution_count": 8,
   "metadata": {
    "collapsed": false
   },
   "outputs": [
    {
     "name": "stderr",
     "output_type": "stream",
     "text": [
      "Warning message in arima(lg_ret, order = c(p, d, q), include.mean = F):\n",
      "\"possible convergence problem: optim gave code = 1\"Warning message in arima(lg_ret, order = c(p, d, q), include.mean = F):\n",
      "\"possible convergence problem: optim gave code = 1\"Warning message in log(s2):\n",
      "\"NaNs produced\"Warning message in log(s2):\n",
      "\"NaNs produced\"Warning message in log(s2):\n",
      "\"NaNs produced\"Warning message in log(s2):\n",
      "\"NaNs produced\"Warning message in log(s2):\n",
      "\"NaNs produced\"Warning message in log(s2):\n",
      "\"NaNs produced\"Warning message in log(s2):\n",
      "\"NaNs produced\""
     ]
    }
   ],
   "source": [
    "ftfinal.aic = Inf\n",
    "ftfinal.order = c(0,0,0)\n",
    "for (p in 1:5) for (d in 0:1) for (q in 1:5) {\n",
    "    ftcurrent.aic = AIC(arima(lg_ret, order=c(p, d, q),include.mean = F))\n",
    "    if (ftcurrent.aic < ftfinal.aic) {\n",
    "        ftfinal.aic = ftcurrent.aic\n",
    "        ftfinal.order = c(p, d, q)\n",
    "        ftfinal.arima = arima(lg_ret, order=ftfinal.order)\n",
    "    }\n",
    "}"
   ]
  },
  {
   "cell_type": "code",
   "execution_count": 9,
   "metadata": {
    "collapsed": false
   },
   "outputs": [
    {
     "data": {
      "text/html": [
       "<ol class=list-inline>\n",
       "\t<li>2</li>\n",
       "\t<li>0</li>\n",
       "\t<li>5</li>\n",
       "</ol>\n"
      ],
      "text/latex": [
       "\\begin{enumerate*}\n",
       "\\item 2\n",
       "\\item 0\n",
       "\\item 5\n",
       "\\end{enumerate*}\n"
      ],
      "text/markdown": [
       "1. 2\n",
       "2. 0\n",
       "3. 5\n",
       "\n",
       "\n"
      ],
      "text/plain": [
       "[1] 2 0 5"
      ]
     },
     "metadata": {},
     "output_type": "display_data"
    },
    {
     "name": "stderr",
     "output_type": "stream",
     "text": [
      "Warning message in sqrt(diag(x$var.coef)):\n",
      "\"NaNs produced\""
     ]
    },
    {
     "data": {
      "text/plain": [
       "\n",
       "Call:\n",
       "arima(x = lg_ret, order = ftfinal.order)\n",
       "\n",
       "Coefficients:\n",
       "         ar1      ar2     ma1     ma2      ma3     ma4      ma5  intercept\n",
       "      0.1689  -0.0539  -0.249  0.1011  -0.0696  0.0686  -0.0757      6e-04\n",
       "s.e.     NaN      NaN     NaN     NaN   0.0244     NaN   0.0296      3e-04\n",
       "\n",
       "sigma^2 estimated as 0.0001478:  log likelihood = 3762.56,  aic = -7507.13"
      ]
     },
     "metadata": {},
     "output_type": "display_data"
    }
   ],
   "source": [
    "ftfinal.order\n",
    "ftfinal.arima"
   ]
  },
  {
   "cell_type": "code",
   "execution_count": 10,
   "metadata": {
    "collapsed": false
   },
   "outputs": [
    {
     "data": {
      "image/png": "[encoded data removed]",
      "text/plain": [
       "Plot with title \"Series  ftfinal.arima$residuals\""
      ]
     },
     "metadata": {},
     "output_type": "display_data"
    }
   ],
   "source": [
    "acf(ftfinal.arima$residuals)"
   ]
  },
  {
   "cell_type": "code",
   "execution_count": 11,
   "metadata": {
    "collapsed": false
   },
   "outputs": [
    {
     "data": {
      "text/plain": [
       "\n",
       "\tBox-Ljung test\n",
       "\n",
       "data:  ftfinal.arima$residuals\n",
       "X-squared = 29.628, df = 24, p-value = 0.1974\n"
      ]
     },
     "metadata": {},
     "output_type": "display_data"
    }
   ],
   "source": [
    "Box.test(ftfinal.arima$residuals,lag=24,type='Ljung')"
   ]
  },
  {
   "cell_type": "markdown",
   "metadata": {},
   "source": [
    "Fail to reject null hypothesis of no serial correlation in residuals."
   ]
  },
  {
   "cell_type": "code",
   "execution_count": 12,
   "metadata": {
    "collapsed": false
   },
   "outputs": [
    {
     "data": {
      "image/png": "[encoded data removed]",
      "text/plain": [
       "Plot with title \"Series  ftfinal.arima$residuals^2\""
      ]
     },
     "metadata": {},
     "output_type": "display_data"
    }
   ],
   "source": [
    "acf(ftfinal.arima$residuals^2)"
   ]
  },
  {
   "cell_type": "code",
   "execution_count": 13,
   "metadata": {
    "collapsed": false
   },
   "outputs": [
    {
     "data": {
      "text/plain": [
       "\n",
       "\tBox-Ljung test\n",
       "\n",
       "data:  ftfinal.arima$residuals^2\n",
       "X-squared = 1069.4, df = 24, p-value < 2.2e-16\n"
      ]
     },
     "metadata": {},
     "output_type": "display_data"
    }
   ],
   "source": [
    "Box.test(ftfinal.arima$residuals^2,lag=24,type='Ljung')"
   ]
  },
  {
   "cell_type": "markdown",
   "metadata": {},
   "source": [
    "Squared residuals do have serial correlation. There is ARCH effect in this series"
   ]
  },
  {
   "cell_type": "markdown",
   "metadata": {},
   "source": [
    "(iii)"
   ]
  },
  {
   "cell_type": "code",
   "execution_count": 14,
   "metadata": {
    "collapsed": false
   },
   "outputs": [
    {
     "name": "stderr",
     "output_type": "stream",
     "text": [
      "Warning message:\n",
      "\"package 'fGarch' was built under R version 3.3.3\"Loading required package: timeDate\n",
      "Loading required package: timeSeries\n",
      "Loading required package: fBasics\n",
      "\n",
      "\n",
      "Rmetrics Package fBasics\n",
      "Analysing Markets and calculating Basic Statistics\n",
      "Copyright (C) 2005-2014 Rmetrics Association Zurich\n",
      "Educational Software for Financial Engineering and Computational Science\n",
      "Rmetrics is free software and comes with ABSOLUTELY NO WARRANTY.\n",
      "https://www.rmetrics.org --- Mail to: info@rmetrics.org\n"
     ]
    }
   ],
   "source": [
    "library(fGarch)"
   ]
  },
  {
   "cell_type": "markdown",
   "metadata": {},
   "source": [
    "Code below selects ARMA Garch with best AIC"
   ]
  },
  {
   "cell_type": "code",
   "execution_count": 51,
   "metadata": {
    "collapsed": false
   },
   "outputs": [
    {
     "name": "stderr",
     "output_type": "stream",
     "text": [
      "Warning message in arima(.series$x, order = c(u, 0, v), include.mean = include.mean):\n",
      "\"possible convergence problem: optim gave code = 1\"Warning message in arima(.series$x, order = c(u, 0, v), include.mean = include.mean):\n",
      "\"possible convergence problem: optim gave code = 1\"Warning message in arima(.series$x, order = c(u, 0, v), include.mean = include.mean):\n",
      "\"possible convergence problem: optim gave code = 1\"Warning message in arima(.series$x, order = c(u, 0, v), include.mean = include.mean):\n",
      "\"possible convergence problem: optim gave code = 1\"Warning message in arima(.series$x, order = c(u, 0, v), include.mean = include.mean):\n",
      "\"possible convergence problem: optim gave code = 1\"Warning message in arima(.series$x, order = c(u, 0, v), include.mean = include.mean):\n",
      "\"possible convergence problem: optim gave code = 1\"Warning message in arima(.series$x, order = c(u, 0, v), include.mean = include.mean):\n",
      "\"possible convergence problem: optim gave code = 1\"Warning message in arima(.series$x, order = c(u, 0, v), include.mean = include.mean):\n",
      "\"possible convergence problem: optim gave code = 1\"Warning message in sqrt(diag(fit$cvar)):\n",
      "\"NaNs produced\"Warning message in sqrt(diag(fit$cvar)):\n",
      "\"NaNs produced\"Warning message in sqrt(diag(fit$cvar)):\n",
      "\"NaNs produced\"Warning message in sqrt(diag(fit$cvar)):\n",
      "\"NaNs produced\"Warning message in arima(.series$x, order = c(u, 0, v), include.mean = include.mean):\n",
      "\"possible convergence problem: optim gave code = 1\"Warning message in arima(.series$x, order = c(u, 0, v), include.mean = include.mean):\n",
      "\"possible convergence problem: optim gave code = 1\"Warning message in arima(.series$x, order = c(u, 0, v), include.mean = include.mean):\n",
      "\"possible convergence problem: optim gave code = 1\"Warning message in arima(.series$x, order = c(u, 0, v), include.mean = include.mean):\n",
      "\"possible convergence problem: optim gave code = 1\"Warning message in arima(.series$x, order = c(u, 0, v), include.mean = include.mean):\n",
      "\"possible convergence problem: optim gave code = 1\"Warning message in arima(.series$x, order = c(u, 0, v), include.mean = include.mean):\n",
      "\"possible convergence problem: optim gave code = 1\"Warning message in arima(.series$x, order = c(u, 0, v), include.mean = include.mean):\n",
      "\"possible convergence problem: optim gave code = 1\"Warning message in arima(.series$x, order = c(u, 0, v), include.mean = include.mean):\n",
      "\"possible convergence problem: optim gave code = 1\"Warning message in arima(.series$x, order = c(u, 0, v), include.mean = include.mean):\n",
      "\"possible convergence problem: optim gave code = 1\"Warning message in arima(.series$x, order = c(u, 0, v), include.mean = include.mean):\n",
      "\"possible convergence problem: optim gave code = 1\"Warning message in arima(.series$x, order = c(u, 0, v), include.mean = include.mean):\n",
      "\"possible convergence problem: optim gave code = 1\"Warning message in arima(.series$x, order = c(u, 0, v), include.mean = include.mean):\n",
      "\"possible convergence problem: optim gave code = 1\"Warning message in arima(.series$x, order = c(u, 0, v), include.mean = include.mean):\n",
      "\"possible convergence problem: optim gave code = 1\"Warning message in arima(.series$x, order = c(u, 0, v), include.mean = include.mean):\n",
      "\"possible convergence problem: optim gave code = 1\"Warning message in arima(.series$x, order = c(u, 0, v), include.mean = include.mean):\n",
      "\"possible convergence problem: optim gave code = 1\"Warning message in arima(.series$x, order = c(u, 0, v), include.mean = include.mean):\n",
      "\"possible convergence problem: optim gave code = 1\"Warning message in sqrt(diag(fit$cvar)):\n",
      "\"NaNs produced\"Warning message in log(s2):\n",
      "\"NaNs produced\"Warning message in arima(.series$x, order = c(u, 0, v), include.mean = include.mean):\n",
      "\"possible convergence problem: optim gave code = 1\"Warning message in log(s2):\n",
      "\"NaNs produced\"Warning message in arima(.series$x, order = c(u, 0, v), include.mean = include.mean):\n",
      "\"possible convergence problem: optim gave code = 1\"Warning message in log(s2):\n",
      "\"NaNs produced\"Warning message in arima(.series$x, order = c(u, 0, v), include.mean = include.mean):\n",
      "\"possible convergence problem: optim gave code = 1\"Warning message in log(s2):\n",
      "\"NaNs produced\"Warning message in arima(.series$x, order = c(u, 0, v), include.mean = include.mean):\n",
      "\"possible convergence problem: optim gave code = 1\"Warning message in arima(.series$x, order = c(u, 0, v), include.mean = include.mean):\n",
      "\"possible convergence problem: optim gave code = 1\"Warning message in sqrt(diag(fit$cvar)):\n",
      "\"NaNs produced\"Warning message in arima(.series$x, order = c(u, 0, v), include.mean = include.mean):\n",
      "\"possible convergence problem: optim gave code = 1\"Warning message in arima(.series$x, order = c(u, 0, v), include.mean = include.mean):\n",
      "\"possible convergence problem: optim gave code = 1\"Warning message in arima(.series$x, order = c(u, 0, v), include.mean = include.mean):\n",
      "\"possible convergence problem: optim gave code = 1\"Warning message in arima(.series$x, order = c(u, 0, v), include.mean = include.mean):\n",
      "\"possible convergence problem: optim gave code = 1\"Warning message in arima(.series$x, order = c(u, 0, v), include.mean = include.mean):\n",
      "\"possible convergence problem: optim gave code = 1\"Warning message in arima(.series$x, order = c(u, 0, v), include.mean = include.mean):\n",
      "\"possible convergence problem: optim gave code = 1\"Warning message in arima(.series$x, order = c(u, 0, v), include.mean = include.mean):\n",
      "\"possible convergence problem: optim gave code = 1\"Warning message in arima(.series$x, order = c(u, 0, v), include.mean = include.mean):\n",
      "\"possible convergence problem: optim gave code = 1\"Warning message in arima(.series$x, order = c(u, 0, v), include.mean = include.mean):\n",
      "\"possible convergence problem: optim gave code = 1\"Warning message in arima(.series$x, order = c(u, 0, v), include.mean = include.mean):\n",
      "\"possible convergence problem: optim gave code = 1\"Warning message in arima(.series$x, order = c(u, 0, v), include.mean = include.mean):\n",
      "\"possible convergence problem: optim gave code = 1\"Warning message in arima(.series$x, order = c(u, 0, v), include.mean = include.mean):\n",
      "\"possible convergence problem: optim gave code = 1\"Warning message in arima(.series$x, order = c(u, 0, v), include.mean = include.mean):\n",
      "\"possible convergence problem: optim gave code = 1\"Warning message in arima(.series$x, order = c(u, 0, v), include.mean = include.mean):\n",
      "\"possible convergence problem: optim gave code = 1\"Warning message in arima(.series$x, order = c(u, 0, v), include.mean = include.mean):\n",
      "\"possible convergence problem: optim gave code = 1\""
     ]
    }
   ],
   "source": [
    "gafinal.aic = Inf\n",
    "gafinal.order = c(0,0,0)\n",
    "fit = garchFit(~garch(1,1), data = lg_ret, trace = F)\n",
    "\n",
    "for (p in 0:5) for (q in 0:5) for(a in 1:2) for(b in 1:2) {\n",
    "    gacurrent = garchFit(substitute(~arma(c,d)+garch(alp,beta), list(c= p,d = q,alp = a,beta = b)) , data = lg_ret, trace = FALSE)\n",
    "    gacurrent.aic = gacurrent@fit$ics[\"AIC\"]\n",
    "    if (gacurrent.aic < gafinal.aic) {\n",
    "        gafinal.aic = gacurrent.aic\n",
    "        gafinal.order = c(p, q, a, b)\n",
    "        fit = gacurrent\n",
    "    }\n",
    "}"
   ]
  },
  {
   "cell_type": "code",
   "execution_count": 52,
   "metadata": {
    "collapsed": false,
    "scrolled": true
   },
   "outputs": [
    {
     "data": {
      "text/html": [
       "<ol class=list-inline>\n",
       "\t<li>4</li>\n",
       "\t<li>3</li>\n",
       "\t<li>2</li>\n",
       "\t<li>1</li>\n",
       "</ol>\n"
      ],
      "text/latex": [
       "\\begin{enumerate*}\n",
       "\\item 4\n",
       "\\item 3\n",
       "\\item 2\n",
       "\\item 1\n",
       "\\end{enumerate*}\n"
      ],
      "text/markdown": [
       "1. 4\n",
       "2. 3\n",
       "3. 2\n",
       "4. 1\n",
       "\n",
       "\n"
      ],
      "text/plain": [
       "[1] 4 3 2 1"
      ]
     },
     "metadata": {},
     "output_type": "display_data"
    }
   ],
   "source": [
    "gafinal.order"
   ]
  },
  {
   "cell_type": "code",
   "execution_count": 53,
   "metadata": {
    "collapsed": false
   },
   "outputs": [
    {
     "name": "stdout",
     "output_type": "stream",
     "text": [
      "\n",
      "Title:\n",
      " GARCH Modelling \n",
      "\n",
      "Call:\n",
      " garchFit(formula = substitute(~arma(c, d) + garch(alp, beta), \n",
      "    list(c = p, d = q, alp = a, beta = b)), data = lg_ret, trace = FALSE) \n",
      "\n",
      "Mean and Variance Equation:\n",
      " data ~ arma(4, 3) + garch(2, 1)\n",
      "<environment: 0x0000000013644b98>\n",
      " [data = lg_ret]\n",
      "\n",
      "Conditional Distribution:\n",
      " norm \n",
      "\n",
      "Coefficient(s):\n",
      "         mu          ar1          ar2          ar3          ar4          ma1  \n",
      " 1.6049e-04  -5.5036e-01   4.1620e-01   9.2440e-01   2.6085e-02   4.9966e-01  \n",
      "        ma2          ma3        omega       alpha1       alpha2        beta1  \n",
      "-4.7066e-01  -9.3490e-01   4.0128e-06   1.0000e-08   1.5476e-01   8.1493e-01  \n",
      "\n",
      "Std. Errors:\n",
      " based on Hessian \n",
      "\n",
      "Error Analysis:\n",
      "         Estimate  Std. Error  t value Pr(>|t|)    \n",
      "mu      1.605e-04   1.076e-04    1.492 0.135815    \n",
      "ar1    -5.504e-01   3.270e-02  -16.830  < 2e-16 ***\n",
      "ar2     4.162e-01   4.467e-02    9.317  < 2e-16 ***\n",
      "ar3     9.244e-01   3.997e-02   23.126  < 2e-16 ***\n",
      "ar4     2.608e-02   2.823e-02    0.924 0.355457    \n",
      "ma1     4.997e-01   2.736e-02   18.263  < 2e-16 ***\n",
      "ma2    -4.707e-01   3.909e-02  -12.041  < 2e-16 ***\n",
      "ma3    -9.349e-01   2.615e-02  -35.756  < 2e-16 ***\n",
      "omega   4.013e-06   1.048e-06    3.830 0.000128 ***\n",
      "alpha1  1.000e-08   2.266e-02    0.000 1.000000    \n",
      "alpha2  1.548e-01   3.213e-02    4.818 1.45e-06 ***\n",
      "beta1   8.149e-01   2.648e-02   30.773  < 2e-16 ***\n",
      "---\n",
      "Signif. codes:  0 '***' 0.001 '**' 0.01 '*' 0.05 '.' 0.1 ' ' 1\n",
      "\n",
      "Log Likelihood:\n",
      " 4006.23    normalized:  3.184602 \n",
      "\n",
      "Description:\n",
      " Fri May 19 19:36:43 2017 by user: chris \n",
      "\n",
      "\n",
      "Standardised Residuals Tests:\n",
      "                                Statistic p-Value    \n",
      " Jarque-Bera Test   R    Chi^2  60.46538  7.41629e-14\n",
      " Shapiro-Wilk Test  R    W      0.9852658 5.4939e-10 \n",
      " Ljung-Box Test     R    Q(10)  8.240447  0.6053632  \n",
      " Ljung-Box Test     R    Q(15)  10.69701  0.7737621  \n",
      " Ljung-Box Test     R    Q(20)  12.11817  0.9119487  \n",
      " Ljung-Box Test     R^2  Q(10)  3.576425  0.9644395  \n",
      " Ljung-Box Test     R^2  Q(15)  8.103321  0.9195736  \n",
      " Ljung-Box Test     R^2  Q(20)  10.82548  0.9506232  \n",
      " LM Arch Test       R    TR^2   6.418648  0.8935264  \n",
      "\n",
      "Information Criterion Statistics:\n",
      "      AIC       BIC       SIC      HQIC \n",
      "-6.350127 -6.301123 -6.350307 -6.331710 \n",
      "\n"
     ]
    }
   ],
   "source": [
    "summary(fit)"
   ]
  },
  {
   "cell_type": "code",
   "execution_count": 54,
   "metadata": {
    "collapsed": false
   },
   "outputs": [
    {
     "data": {
      "image/png": "[encoded data removed]",
      "text/plain": [
       "Plot with title \"qnorm - QQ Plot\""
      ]
     },
     "metadata": {},
     "output_type": "display_data"
    }
   ],
   "source": [
    "plot(fit,which=13)"
   ]
  },
  {
   "cell_type": "markdown",
   "metadata": {},
   "source": [
    "Model passes all correlation tests. From QQ plot Normality assumption is violated."
   ]
  },
  {
   "cell_type": "markdown",
   "metadata": {},
   "source": [
    "(iv)"
   ]
  },
  {
   "cell_type": "code",
   "execution_count": 56,
   "metadata": {
    "collapsed": false
   },
   "outputs": [
    {
     "name": "stdout",
     "output_type": "stream",
     "text": [
      "\n",
      "Title:\n",
      " GARCH Modelling \n",
      "\n",
      "Call:\n",
      " garchFit(formula = ~arma(4, 3) + garch(2, 1), data = lg_ret, \n",
      "    cond.dist = \"std\", trace = FALSE) \n",
      "\n",
      "Mean and Variance Equation:\n",
      " data ~ arma(4, 3) + garch(2, 1)\n",
      "<environment: 0x000000001204eaa0>\n",
      " [data = lg_ret]\n",
      "\n",
      "Conditional Distribution:\n",
      " std \n",
      "\n",
      "Coefficient(s):\n",
      "         mu          ar1          ar2          ar3          ar4          ma1  \n",
      " 2.4498e-04  -5.5654e-01   4.0405e-01   9.0217e-01   1.3150e-02   5.1394e-01  \n",
      "        ma2          ma3        omega       alpha1       alpha2        beta1  \n",
      "-4.4948e-01  -9.1836e-01   4.0682e-06   1.0000e-08   1.6380e-01   8.1319e-01  \n",
      "      shape  \n",
      " 5.8516e+00  \n",
      "\n",
      "Std. Errors:\n",
      " based on Hessian \n",
      "\n",
      "Error Analysis:\n",
      "         Estimate  Std. Error  t value Pr(>|t|)    \n",
      "mu      2.450e-04   1.764e-04    1.389  0.16488    \n",
      "ar1    -5.565e-01   4.298e-02  -12.949  < 2e-16 ***\n",
      "ar2     4.041e-01   6.289e-02    6.425 1.32e-10 ***\n",
      "ar3     9.022e-01   5.286e-02   17.068  < 2e-16 ***\n",
      "ar4     1.315e-02   2.753e-02    0.478  0.63295    \n",
      "ma1     5.139e-01   3.649e-02   14.084  < 2e-16 ***\n",
      "ma2    -4.495e-01   5.085e-02   -8.839  < 2e-16 ***\n",
      "ma3    -9.184e-01   3.496e-02  -26.266  < 2e-16 ***\n",
      "omega   4.068e-06   1.364e-06    2.982  0.00286 ** \n",
      "alpha1  1.000e-08   2.689e-02    0.000  1.00000    \n",
      "alpha2  1.638e-01   4.104e-02    3.991 6.59e-05 ***\n",
      "beta1   8.132e-01   3.403e-02   23.894  < 2e-16 ***\n",
      "shape   5.852e+00   1.092e+00    5.357 8.44e-08 ***\n",
      "---\n",
      "Signif. codes:  0 '***' 0.001 '**' 0.01 '*' 0.05 '.' 0.1 ' ' 1\n",
      "\n",
      "Log Likelihood:\n",
      " 4025.578    normalized:  3.199982 \n",
      "\n",
      "Description:\n",
      " Fri May 19 19:45:13 2017 by user: chris \n",
      "\n",
      "\n",
      "Standardised Residuals Tests:\n",
      "                                Statistic p-Value     \n",
      " Jarque-Bera Test   R    Chi^2  65.42663  6.217249e-15\n",
      " Shapiro-Wilk Test  R    W      0.9845604 2.628596e-10\n",
      " Ljung-Box Test     R    Q(10)  7.605334  0.6673252   \n",
      " Ljung-Box Test     R    Q(15)  10.09045  0.814012    \n",
      " Ljung-Box Test     R    Q(20)  11.53086  0.9312779   \n",
      " Ljung-Box Test     R^2  Q(10)  3.050973  0.9801989   \n",
      " Ljung-Box Test     R^2  Q(15)  7.587809  0.9392437   \n",
      " Ljung-Box Test     R^2  Q(20)  10.47577  0.9587023   \n",
      " LM Arch Test       R    TR^2   5.420519  0.9424403   \n",
      "\n",
      "Information Criterion Statistics:\n",
      "      AIC       BIC       SIC      HQIC \n",
      "-6.379297 -6.326209 -6.379507 -6.359346 \n",
      "\n"
     ]
    }
   ],
   "source": [
    "ga.T = garchFit(~arma(4,3)+garch(2,1), data = lg_ret, trace = FALSE,cond.dist = \"std\")\n",
    "summary(ga.T)"
   ]
  },
  {
   "cell_type": "code",
   "execution_count": 57,
   "metadata": {
    "collapsed": false
   },
   "outputs": [
    {
     "data": {
      "image/png": "[encoded data removed]",
      "text/plain": [
       "Plot with title \"qstd - QQ Plot\""
      ]
     },
     "metadata": {},
     "output_type": "display_data"
    }
   ],
   "source": [
    "plot(ga.T,which=13)"
   ]
  },
  {
   "cell_type": "markdown",
   "metadata": {},
   "source": [
    "The model does well with the serial corellation tests. The t distribution assumption seems more correct then normal but t assumption still is violated."
   ]
  },
  {
   "cell_type": "markdown",
   "metadata": {},
   "source": [
    "(v)"
   ]
  },
  {
   "cell_type": "code",
   "execution_count": 65,
   "metadata": {
    "collapsed": false
   },
   "outputs": [
    {
     "data": {
      "text/html": [
       "<table>\n",
       "<thead><tr><th scope=col>meanForecast</th><th scope=col>meanError</th><th scope=col>standardDeviation</th></tr></thead>\n",
       "<tbody>\n",
       "\t<tr><td>0.0006967763</td><td>0.006354918 </td><td>0.006354918 </td></tr>\n",
       "</tbody>\n",
       "</table>\n"
      ],
      "text/latex": [
       "\\begin{tabular}{r|lll}\n",
       " meanForecast & meanError & standardDeviation\\\\\n",
       "\\hline\n",
       "\t 0.0006967763 & 0.006354918  & 0.006354918 \\\\\n",
       "\\end{tabular}\n"
      ],
      "text/markdown": [
       "\n",
       "meanForecast | meanError | standardDeviation | \n",
       "|---|\n",
       "| 0.0006967763 | 0.006354918  | 0.006354918  | \n",
       "\n",
       "\n"
      ],
      "text/plain": [
       "  meanForecast meanError   standardDeviation\n",
       "1 0.0006967763 0.006354918 0.006354918      "
      ]
     },
     "metadata": {},
     "output_type": "display_data"
    }
   ],
   "source": [
    "predict(ga.T,1)"
   ]
  },
  {
   "cell_type": "code",
   "execution_count": 66,
   "metadata": {
    "collapsed": false
   },
   "outputs": [
    {
     "data": {
      "text/html": [
       "<table>\n",
       "<thead><tr><th scope=col>meanForecast</th><th scope=col>meanError</th><th scope=col>standardDeviation</th></tr></thead>\n",
       "<tbody>\n",
       "\t<tr><td>0.0006967763</td><td>0.006354918 </td><td>0.006354918 </td></tr>\n",
       "\t<tr><td>0.0008638267</td><td>0.006209721 </td><td>0.006203817 </td></tr>\n",
       "</tbody>\n",
       "</table>\n"
      ],
      "text/latex": [
       "\\begin{tabular}{r|lll}\n",
       " meanForecast & meanError & standardDeviation\\\\\n",
       "\\hline\n",
       "\t 0.0006967763 & 0.006354918  & 0.006354918 \\\\\n",
       "\t 0.0008638267 & 0.006209721  & 0.006203817 \\\\\n",
       "\\end{tabular}\n"
      ],
      "text/markdown": [
       "\n",
       "meanForecast | meanError | standardDeviation | \n",
       "|---|---|\n",
       "| 0.0006967763 | 0.006354918  | 0.006354918  | \n",
       "| 0.0008638267 | 0.006209721  | 0.006203817  | \n",
       "\n",
       "\n"
      ],
      "text/plain": [
       "  meanForecast meanError   standardDeviation\n",
       "1 0.0006967763 0.006354918 0.006354918      \n",
       "2 0.0008638267 0.006209721 0.006203817      "
      ]
     },
     "metadata": {},
     "output_type": "display_data"
    }
   ],
   "source": [
    "predict(ga.T,2)"
   ]
  },
  {
   "cell_type": "markdown",
   "metadata": {
    "collapsed": true
   },
   "source": [
    "Question 3"
   ]
  },
  {
   "cell_type": "markdown",
   "metadata": {},
   "source": [
    "(i)"
   ]
  },
  {
   "cell_type": "code",
   "execution_count": 1,
   "metadata": {
    "collapsed": true
   },
   "outputs": [],
   "source": [
    "source(\"RMeasure.R\")\n",
    "source(\"RMfit.R\")\n",
    "library(\"fGarch\")\n",
    "library(readxl)"
   ]
  },
  {
   "cell_type": "code",
   "execution_count": 8,
   "metadata": {
    "collapsed": false
   },
   "outputs": [],
   "source": [
    "da3 = read_excel(\"AMZN.xlsx\")"
   ]
  },
  {
   "cell_type": "code",
   "execution_count": 9,
   "metadata": {
    "collapsed": false
   },
   "outputs": [
    {
     "data": {
      "text/html": [
       "<table>\n",
       "<thead><tr><th scope=col>Date</th><th scope=col>Open</th><th scope=col>High</th><th scope=col>Low</th><th scope=col>Close</th><th scope=col>Adj Close</th><th scope=col>Volume</th></tr></thead>\n",
       "<tbody>\n",
       "\t<tr><td>2002-01-03</td><td>11.13     </td><td>11.94     </td><td>11.05     </td><td>11.90     </td><td>11.90     </td><td>10875700  </td></tr>\n",
       "\t<tr><td>2002-01-04</td><td>12.02     </td><td>12.40     </td><td>11.95     </td><td>12.25     </td><td>12.25     </td><td>12687300  </td></tr>\n",
       "\t<tr><td>2002-01-07</td><td>12.08     </td><td>12.51     </td><td>12.08     </td><td>12.34     </td><td>12.34     </td><td>12182900  </td></tr>\n",
       "\t<tr><td>2002-01-08</td><td>12.27     </td><td>12.32     </td><td>11.75     </td><td>11.85     </td><td>11.85     </td><td> 6041100  </td></tr>\n",
       "\t<tr><td>2002-01-09</td><td>11.96     </td><td>12.17     </td><td>11.30     </td><td>11.53     </td><td>11.53     </td><td>10879600  </td></tr>\n",
       "\t<tr><td>2002-01-10</td><td>11.66     </td><td>11.67     </td><td>10.87     </td><td>11.04     </td><td>11.04     </td><td> 8125900  </td></tr>\n",
       "\t<tr><td>2002-01-11</td><td>11.03     </td><td>11.34     </td><td>10.93     </td><td>11.03     </td><td>11.03     </td><td> 4276800  </td></tr>\n",
       "\t<tr><td>2002-01-14</td><td>10.80     </td><td>10.83     </td><td>10.09     </td><td>10.11     </td><td>10.11     </td><td> 5973300  </td></tr>\n",
       "\t<tr><td>2002-01-15</td><td>10.34     </td><td>10.42     </td><td>10.16     </td><td>10.29     </td><td>10.29     </td><td> 5092300  </td></tr>\n",
       "\t<tr><td>2002-01-16</td><td>10.01     </td><td>10.01     </td><td> 9.03     </td><td> 9.13     </td><td> 9.13     </td><td>15039900  </td></tr>\n",
       "\t<tr><td>2002-01-17</td><td> 9.82     </td><td> 9.85     </td><td> 9.40     </td><td> 9.74     </td><td> 9.74     </td><td>16630700  </td></tr>\n",
       "\t<tr><td>2002-01-18</td><td> 9.60     </td><td>10.55     </td><td> 9.39     </td><td>10.16     </td><td>10.16     </td><td>11493500  </td></tr>\n",
       "\t<tr><td>2002-01-22</td><td>12.74     </td><td>12.79     </td><td>12.14     </td><td>12.60     </td><td>12.60     </td><td>56645900  </td></tr>\n",
       "\t<tr><td>2002-01-23</td><td>12.49     </td><td>12.60     </td><td>11.90     </td><td>12.47     </td><td>12.47     </td><td>18031600  </td></tr>\n",
       "\t<tr><td>2002-01-24</td><td>12.75     </td><td>14.06     </td><td>12.71     </td><td>14.01     </td><td>14.01     </td><td>23468600  </td></tr>\n",
       "\t<tr><td>2002-01-25</td><td>13.56     </td><td>15.39     </td><td>13.39     </td><td>14.44     </td><td>14.44     </td><td>30276500  </td></tr>\n",
       "\t<tr><td>2002-01-28</td><td>14.86     </td><td>15.77     </td><td>14.76     </td><td>15.50     </td><td>15.50     </td><td>23016000  </td></tr>\n",
       "\t<tr><td>2002-01-29</td><td>15.54     </td><td>15.55     </td><td>13.97     </td><td>14.22     </td><td>14.22     </td><td>20244900  </td></tr>\n",
       "\t<tr><td>2002-01-30</td><td>13.98     </td><td>14.25     </td><td>13.20     </td><td>13.90     </td><td>13.90     </td><td>14751800  </td></tr>\n",
       "\t<tr><td>2002-01-31</td><td>14.12     </td><td>14.49     </td><td>13.41     </td><td>14.19     </td><td>14.19     </td><td>10485300  </td></tr>\n",
       "\t<tr><td>2002-02-01</td><td>14.07     </td><td>14.09     </td><td>13.35     </td><td>13.73     </td><td>13.73     </td><td> 7801400  </td></tr>\n",
       "\t<tr><td>2002-02-04</td><td>12.91     </td><td>13.09     </td><td>12.43     </td><td>12.53     </td><td>12.53     </td><td>19135800  </td></tr>\n",
       "\t<tr><td>2002-02-05</td><td>11.98     </td><td>12.29     </td><td>11.16     </td><td>11.50     </td><td>11.50     </td><td>14315700  </td></tr>\n",
       "\t<tr><td>2002-02-06</td><td>11.90     </td><td>12.00     </td><td>11.20     </td><td>11.26     </td><td>11.26     </td><td> 8859400  </td></tr>\n",
       "\t<tr><td>2002-02-07</td><td>11.25     </td><td>11.85     </td><td>11.06     </td><td>11.24     </td><td>11.24     </td><td> 7172400  </td></tr>\n",
       "\t<tr><td>2002-02-08</td><td>11.51     </td><td>12.67     </td><td>11.50     </td><td>12.52     </td><td>12.52     </td><td> 6085600  </td></tr>\n",
       "\t<tr><td>2002-02-11</td><td>12.64     </td><td>13.50     </td><td>12.54     </td><td>13.30     </td><td>13.30     </td><td> 9469700  </td></tr>\n",
       "\t<tr><td>2002-02-12</td><td>13.03     </td><td>13.24     </td><td>12.50     </td><td>12.90     </td><td>12.90     </td><td> 7463400  </td></tr>\n",
       "\t<tr><td>2002-02-13</td><td>13.10     </td><td>13.33     </td><td>13.06     </td><td>13.29     </td><td>13.29     </td><td> 6040800  </td></tr>\n",
       "\t<tr><td>2002-02-14</td><td>13.34     </td><td>14.26     </td><td>13.30     </td><td>13.88     </td><td>13.88     </td><td> 9281500  </td></tr>\n",
       "\t<tr><td>...</td><td>...</td><td>...</td><td>...</td><td>...</td><td>...</td><td>...</td></tr>\n",
       "\t<tr><td>2017-04-04</td><td>891.50    </td><td>908.54    </td><td>890.28    </td><td>906.83    </td><td>906.83    </td><td>4984700   </td></tr>\n",
       "\t<tr><td>2017-04-05</td><td>910.82    </td><td>923.72    </td><td>905.62    </td><td>909.28    </td><td>909.28    </td><td>7508400   </td></tr>\n",
       "\t<tr><td>2017-04-06</td><td>913.80    </td><td>917.19    </td><td>894.49    </td><td>898.28    </td><td>898.28    </td><td>6344100   </td></tr>\n",
       "\t<tr><td>2017-04-07</td><td>899.65    </td><td>900.09    </td><td>889.31    </td><td>894.88    </td><td>894.88    </td><td>3710900   </td></tr>\n",
       "\t<tr><td>2017-04-10</td><td>899.63    </td><td>908.51    </td><td>899.00    </td><td>907.04    </td><td>907.04    </td><td>3184300   </td></tr>\n",
       "\t<tr><td>2017-04-11</td><td>907.04    </td><td>911.24    </td><td>897.50    </td><td>902.36    </td><td>902.36    </td><td>3012700   </td></tr>\n",
       "\t<tr><td>2017-04-12</td><td>903.09    </td><td>904.09    </td><td>895.25    </td><td>896.23    </td><td>896.23    </td><td>2456100   </td></tr>\n",
       "\t<tr><td>2017-04-13</td><td>891.45    </td><td>894.97    </td><td>884.49    </td><td>884.67    </td><td>884.67    </td><td>3174600   </td></tr>\n",
       "\t<tr><td>2017-04-17</td><td>887.50    </td><td>902.38    </td><td>887.50    </td><td>901.99    </td><td>901.99    </td><td>2854700   </td></tr>\n",
       "\t<tr><td>2017-04-18</td><td>900.99    </td><td>909.61    </td><td>900.78    </td><td>903.78    </td><td>903.78    </td><td>2999200   </td></tr>\n",
       "\t<tr><td>2017-04-19</td><td>907.84    </td><td>910.50    </td><td>897.37    </td><td>899.20    </td><td>899.20    </td><td>2870200   </td></tr>\n",
       "\t<tr><td>2017-04-20</td><td>899.70    </td><td>905.32    </td><td>896.29    </td><td>902.06    </td><td>902.06    </td><td>2814400   </td></tr>\n",
       "\t<tr><td>2017-04-21</td><td>902.67    </td><td>903.65    </td><td>896.77    </td><td>898.53    </td><td>898.53    </td><td>2420500   </td></tr>\n",
       "\t<tr><td>2017-04-24</td><td>908.68    </td><td>909.99    </td><td>903.82    </td><td>907.41    </td><td>907.41    </td><td>3122900   </td></tr>\n",
       "\t<tr><td>2017-04-25</td><td>907.04    </td><td>909.48    </td><td>903.00    </td><td>907.62    </td><td>907.62    </td><td>3380600   </td></tr>\n",
       "\t<tr><td>2017-04-26</td><td>910.30    </td><td>915.75    </td><td>907.56    </td><td>909.29    </td><td>909.29    </td><td>2608900   </td></tr>\n",
       "\t<tr><td>2017-04-27</td><td>914.39    </td><td>921.86    </td><td>912.11    </td><td>918.38    </td><td>918.38    </td><td>5305500   </td></tr>\n",
       "\t<tr><td>2017-04-28</td><td>948.83    </td><td>949.59    </td><td>924.33    </td><td>924.99    </td><td>924.99    </td><td>7364700   </td></tr>\n",
       "\t<tr><td>2017-05-01</td><td>927.80    </td><td>954.40    </td><td>927.80    </td><td>948.23    </td><td>948.23    </td><td>5466500   </td></tr>\n",
       "\t<tr><td>2017-05-02</td><td>946.65    </td><td>950.10    </td><td>941.41    </td><td>946.94    </td><td>946.94    </td><td>3848800   </td></tr>\n",
       "\t<tr><td>2017-05-03</td><td>946.00    </td><td>946.00    </td><td>935.90    </td><td>941.03    </td><td>941.03    </td><td>3582700   </td></tr>\n",
       "\t<tr><td>2017-05-04</td><td>944.75    </td><td>945.00    </td><td>934.22    </td><td>937.53    </td><td>937.53    </td><td>2418400   </td></tr>\n",
       "\t<tr><td>2017-05-05</td><td>940.52    </td><td>940.79    </td><td>930.30    </td><td>934.15    </td><td>934.15    </td><td>2866400   </td></tr>\n",
       "\t<tr><td>2017-05-08</td><td>940.95    </td><td>949.05    </td><td>939.21    </td><td>949.04    </td><td>949.04    </td><td>3415700   </td></tr>\n",
       "\t<tr><td>2017-05-09</td><td>952.80    </td><td>957.89    </td><td>950.20    </td><td>952.82    </td><td>952.82    </td><td>3262100   </td></tr>\n",
       "\t<tr><td>2017-05-10</td><td>953.50    </td><td>953.75    </td><td>945.00    </td><td>948.95    </td><td>948.95    </td><td>2096500   </td></tr>\n",
       "\t<tr><td>2017-05-11</td><td>945.11    </td><td>950.29    </td><td>940.78    </td><td>947.62    </td><td>947.62    </td><td>2194100   </td></tr>\n",
       "\t<tr><td>2017-05-12</td><td>954.50    </td><td>962.79    </td><td>951.53    </td><td>961.35    </td><td>961.35    </td><td>3625900   </td></tr>\n",
       "\t<tr><td>2017-05-15</td><td>958.73    </td><td>963.15    </td><td>956.06    </td><td>957.97    </td><td>957.97    </td><td>4270600   </td></tr>\n",
       "\t<tr><td>2017-05-16</td><td>961.00    </td><td>970.06    </td><td>960.91    </td><td>966.07    </td><td>966.07    </td><td>3126100   </td></tr>\n",
       "</tbody>\n",
       "</table>\n"
      ],
      "text/latex": [
       "\\begin{tabular}{r|lllllll}\n",
       " Date & Open & High & Low & Close & Adj Close & Volume\\\\\n",
       "\\hline\n",
       "\t 2002-01-03 & 11.13      & 11.94      & 11.05      & 11.90      & 11.90      & 10875700  \\\\\n",
       "\t 2002-01-04 & 12.02      & 12.40      & 11.95      & 12.25      & 12.25      & 12687300  \\\\\n",
       "\t 2002-01-07 & 12.08      & 12.51      & 12.08      & 12.34      & 12.34      & 12182900  \\\\\n",
       "\t 2002-01-08 & 12.27      & 12.32      & 11.75      & 11.85      & 11.85      &  6041100  \\\\\n",
       "\t 2002-01-09 & 11.96      & 12.17      & 11.30      & 11.53      & 11.53      & 10879600  \\\\\n",
       "\t 2002-01-10 & 11.66      & 11.67      & 10.87      & 11.04      & 11.04      &  8125900  \\\\\n",
       "\t 2002-01-11 & 11.03      & 11.34      & 10.93      & 11.03      & 11.03      &  4276800  \\\\\n",
       "\t 2002-01-14 & 10.80      & 10.83      & 10.09      & 10.11      & 10.11      &  5973300  \\\\\n",
       "\t 2002-01-15 & 10.34      & 10.42      & 10.16      & 10.29      & 10.29      &  5092300  \\\\\n",
       "\t 2002-01-16 & 10.01      & 10.01      &  9.03      &  9.13      &  9.13      & 15039900  \\\\\n",
       "\t 2002-01-17 &  9.82      &  9.85      &  9.40      &  9.74      &  9.74      & 16630700  \\\\\n",
       "\t 2002-01-18 &  9.60      & 10.55      &  9.39      & 10.16      & 10.16      & 11493500  \\\\\n",
       "\t 2002-01-22 & 12.74      & 12.79      & 12.14      & 12.60      & 12.60      & 56645900  \\\\\n",
       "\t 2002-01-23 & 12.49      & 12.60      & 11.90      & 12.47      & 12.47      & 18031600  \\\\\n",
       "\t 2002-01-24 & 12.75      & 14.06      & 12.71      & 14.01      & 14.01      & 23468600  \\\\\n",
       "\t 2002-01-25 & 13.56      & 15.39      & 13.39      & 14.44      & 14.44      & 30276500  \\\\\n",
       "\t 2002-01-28 & 14.86      & 15.77      & 14.76      & 15.50      & 15.50      & 23016000  \\\\\n",
       "\t 2002-01-29 & 15.54      & 15.55      & 13.97      & 14.22      & 14.22      & 20244900  \\\\\n",
       "\t 2002-01-30 & 13.98      & 14.25      & 13.20      & 13.90      & 13.90      & 14751800  \\\\\n",
       "\t 2002-01-31 & 14.12      & 14.49      & 13.41      & 14.19      & 14.19      & 10485300  \\\\\n",
       "\t 2002-02-01 & 14.07      & 14.09      & 13.35      & 13.73      & 13.73      &  7801400  \\\\\n",
       "\t 2002-02-04 & 12.91      & 13.09      & 12.43      & 12.53      & 12.53      & 19135800  \\\\\n",
       "\t 2002-02-05 & 11.98      & 12.29      & 11.16      & 11.50      & 11.50      & 14315700  \\\\\n",
       "\t 2002-02-06 & 11.90      & 12.00      & 11.20      & 11.26      & 11.26      &  8859400  \\\\\n",
       "\t 2002-02-07 & 11.25      & 11.85      & 11.06      & 11.24      & 11.24      &  7172400  \\\\\n",
       "\t 2002-02-08 & 11.51      & 12.67      & 11.50      & 12.52      & 12.52      &  6085600  \\\\\n",
       "\t 2002-02-11 & 12.64      & 13.50      & 12.54      & 13.30      & 13.30      &  9469700  \\\\\n",
       "\t 2002-02-12 & 13.03      & 13.24      & 12.50      & 12.90      & 12.90      &  7463400  \\\\\n",
       "\t 2002-02-13 & 13.10      & 13.33      & 13.06      & 13.29      & 13.29      &  6040800  \\\\\n",
       "\t 2002-02-14 & 13.34      & 14.26      & 13.30      & 13.88      & 13.88      &  9281500  \\\\\n",
       "\t ... & ... & ... & ... & ... & ... & ...\\\\\n",
       "\t 2017-04-04 & 891.50     & 908.54     & 890.28     & 906.83     & 906.83     & 4984700   \\\\\n",
       "\t 2017-04-05 & 910.82     & 923.72     & 905.62     & 909.28     & 909.28     & 7508400   \\\\\n",
       "\t 2017-04-06 & 913.80     & 917.19     & 894.49     & 898.28     & 898.28     & 6344100   \\\\\n",
       "\t 2017-04-07 & 899.65     & 900.09     & 889.31     & 894.88     & 894.88     & 3710900   \\\\\n",
       "\t 2017-04-10 & 899.63     & 908.51     & 899.00     & 907.04     & 907.04     & 3184300   \\\\\n",
       "\t 2017-04-11 & 907.04     & 911.24     & 897.50     & 902.36     & 902.36     & 3012700   \\\\\n",
       "\t 2017-04-12 & 903.09     & 904.09     & 895.25     & 896.23     & 896.23     & 2456100   \\\\\n",
       "\t 2017-04-13 & 891.45     & 894.97     & 884.49     & 884.67     & 884.67     & 3174600   \\\\\n",
       "\t 2017-04-17 & 887.50     & 902.38     & 887.50     & 901.99     & 901.99     & 2854700   \\\\\n",
       "\t 2017-04-18 & 900.99     & 909.61     & 900.78     & 903.78     & 903.78     & 2999200   \\\\\n",
       "\t 2017-04-19 & 907.84     & 910.50     & 897.37     & 899.20     & 899.20     & 2870200   \\\\\n",
       "\t 2017-04-20 & 899.70     & 905.32     & 896.29     & 902.06     & 902.06     & 2814400   \\\\\n",
       "\t 2017-04-21 & 902.67     & 903.65     & 896.77     & 898.53     & 898.53     & 2420500   \\\\\n",
       "\t 2017-04-24 & 908.68     & 909.99     & 903.82     & 907.41     & 907.41     & 3122900   \\\\\n",
       "\t 2017-04-25 & 907.04     & 909.48     & 903.00     & 907.62     & 907.62     & 3380600   \\\\\n",
       "\t 2017-04-26 & 910.30     & 915.75     & 907.56     & 909.29     & 909.29     & 2608900   \\\\\n",
       "\t 2017-04-27 & 914.39     & 921.86     & 912.11     & 918.38     & 918.38     & 5305500   \\\\\n",
       "\t 2017-04-28 & 948.83     & 949.59     & 924.33     & 924.99     & 924.99     & 7364700   \\\\\n",
       "\t 2017-05-01 & 927.80     & 954.40     & 927.80     & 948.23     & 948.23     & 5466500   \\\\\n",
       "\t 2017-05-02 & 946.65     & 950.10     & 941.41     & 946.94     & 946.94     & 3848800   \\\\\n",
       "\t 2017-05-03 & 946.00     & 946.00     & 935.90     & 941.03     & 941.03     & 3582700   \\\\\n",
       "\t 2017-05-04 & 944.75     & 945.00     & 934.22     & 937.53     & 937.53     & 2418400   \\\\\n",
       "\t 2017-05-05 & 940.52     & 940.79     & 930.30     & 934.15     & 934.15     & 2866400   \\\\\n",
       "\t 2017-05-08 & 940.95     & 949.05     & 939.21     & 949.04     & 949.04     & 3415700   \\\\\n",
       "\t 2017-05-09 & 952.80     & 957.89     & 950.20     & 952.82     & 952.82     & 3262100   \\\\\n",
       "\t 2017-05-10 & 953.50     & 953.75     & 945.00     & 948.95     & 948.95     & 2096500   \\\\\n",
       "\t 2017-05-11 & 945.11     & 950.29     & 940.78     & 947.62     & 947.62     & 2194100   \\\\\n",
       "\t 2017-05-12 & 954.50     & 962.79     & 951.53     & 961.35     & 961.35     & 3625900   \\\\\n",
       "\t 2017-05-15 & 958.73     & 963.15     & 956.06     & 957.97     & 957.97     & 4270600   \\\\\n",
       "\t 2017-05-16 & 961.00     & 970.06     & 960.91     & 966.07     & 966.07     & 3126100   \\\\\n",
       "\\end{tabular}\n"
      ],
      "text/markdown": [
       "\n",
       "Date | Open | High | Low | Close | Adj Close | Volume | \n",
       "|---|---|---|---|---|---|---|---|---|---|---|---|---|---|---|---|---|---|---|---|---|---|---|---|---|---|---|---|---|---|---|---|---|---|---|---|---|---|---|---|---|---|---|---|---|---|---|---|---|---|---|---|---|---|---|---|---|---|---|---|---|\n",
       "| 2002-01-03 | 11.13      | 11.94      | 11.05      | 11.90      | 11.90      | 10875700   | \n",
       "| 2002-01-04 | 12.02      | 12.40      | 11.95      | 12.25      | 12.25      | 12687300   | \n",
       "| 2002-01-07 | 12.08      | 12.51      | 12.08      | 12.34      | 12.34      | 12182900   | \n",
       "| 2002-01-08 | 12.27      | 12.32      | 11.75      | 11.85      | 11.85      |  6041100   | \n",
       "| 2002-01-09 | 11.96      | 12.17      | 11.30      | 11.53      | 11.53      | 10879600   | \n",
       "| 2002-01-10 | 11.66      | 11.67      | 10.87      | 11.04      | 11.04      |  8125900   | \n",
       "| 2002-01-11 | 11.03      | 11.34      | 10.93      | 11.03      | 11.03      |  4276800   | \n",
       "| 2002-01-14 | 10.80      | 10.83      | 10.09      | 10.11      | 10.11      |  5973300   | \n",
       "| 2002-01-15 | 10.34      | 10.42      | 10.16      | 10.29      | 10.29      |  5092300   | \n",
       "| 2002-01-16 | 10.01      | 10.01      |  9.03      |  9.13      |  9.13      | 15039900   | \n",
       "| 2002-01-17 |  9.82      |  9.85      |  9.40      |  9.74      |  9.74      | 16630700   | \n",
       "| 2002-01-18 |  9.60      | 10.55      |  9.39      | 10.16      | 10.16      | 11493500   | \n",
       "| 2002-01-22 | 12.74      | 12.79      | 12.14      | 12.60      | 12.60      | 56645900   | \n",
       "| 2002-01-23 | 12.49      | 12.60      | 11.90      | 12.47      | 12.47      | 18031600   | \n",
       "| 2002-01-24 | 12.75      | 14.06      | 12.71      | 14.01      | 14.01      | 23468600   | \n",
       "| 2002-01-25 | 13.56      | 15.39      | 13.39      | 14.44      | 14.44      | 30276500   | \n",
       "| 2002-01-28 | 14.86      | 15.77      | 14.76      | 15.50      | 15.50      | 23016000   | \n",
       "| 2002-01-29 | 15.54      | 15.55      | 13.97      | 14.22      | 14.22      | 20244900   | \n",
       "| 2002-01-30 | 13.98      | 14.25      | 13.20      | 13.90      | 13.90      | 14751800   | \n",
       "| 2002-01-31 | 14.12      | 14.49      | 13.41      | 14.19      | 14.19      | 10485300   | \n",
       "| 2002-02-01 | 14.07      | 14.09      | 13.35      | 13.73      | 13.73      |  7801400   | \n",
       "| 2002-02-04 | 12.91      | 13.09      | 12.43      | 12.53      | 12.53      | 19135800   | \n",
       "| 2002-02-05 | 11.98      | 12.29      | 11.16      | 11.50      | 11.50      | 14315700   | \n",
       "| 2002-02-06 | 11.90      | 12.00      | 11.20      | 11.26      | 11.26      |  8859400   | \n",
       "| 2002-02-07 | 11.25      | 11.85      | 11.06      | 11.24      | 11.24      |  7172400   | \n",
       "| 2002-02-08 | 11.51      | 12.67      | 11.50      | 12.52      | 12.52      |  6085600   | \n",
       "| 2002-02-11 | 12.64      | 13.50      | 12.54      | 13.30      | 13.30      |  9469700   | \n",
       "| 2002-02-12 | 13.03      | 13.24      | 12.50      | 12.90      | 12.90      |  7463400   | \n",
       "| 2002-02-13 | 13.10      | 13.33      | 13.06      | 13.29      | 13.29      |  6040800   | \n",
       "| 2002-02-14 | 13.34      | 14.26      | 13.30      | 13.88      | 13.88      |  9281500   | \n",
       "| ... | ... | ... | ... | ... | ... | ... | \n",
       "| 2017-04-04 | 891.50     | 908.54     | 890.28     | 906.83     | 906.83     | 4984700    | \n",
       "| 2017-04-05 | 910.82     | 923.72     | 905.62     | 909.28     | 909.28     | 7508400    | \n",
       "| 2017-04-06 | 913.80     | 917.19     | 894.49     | 898.28     | 898.28     | 6344100    | \n",
       "| 2017-04-07 | 899.65     | 900.09     | 889.31     | 894.88     | 894.88     | 3710900    | \n",
       "| 2017-04-10 | 899.63     | 908.51     | 899.00     | 907.04     | 907.04     | 3184300    | \n",
       "| 2017-04-11 | 907.04     | 911.24     | 897.50     | 902.36     | 902.36     | 3012700    | \n",
       "| 2017-04-12 | 903.09     | 904.09     | 895.25     | 896.23     | 896.23     | 2456100    | \n",
       "| 2017-04-13 | 891.45     | 894.97     | 884.49     | 884.67     | 884.67     | 3174600    | \n",
       "| 2017-04-17 | 887.50     | 902.38     | 887.50     | 901.99     | 901.99     | 2854700    | \n",
       "| 2017-04-18 | 900.99     | 909.61     | 900.78     | 903.78     | 903.78     | 2999200    | \n",
       "| 2017-04-19 | 907.84     | 910.50     | 897.37     | 899.20     | 899.20     | 2870200    | \n",
       "| 2017-04-20 | 899.70     | 905.32     | 896.29     | 902.06     | 902.06     | 2814400    | \n",
       "| 2017-04-21 | 902.67     | 903.65     | 896.77     | 898.53     | 898.53     | 2420500    | \n",
       "| 2017-04-24 | 908.68     | 909.99     | 903.82     | 907.41     | 907.41     | 3122900    | \n",
       "| 2017-04-25 | 907.04     | 909.48     | 903.00     | 907.62     | 907.62     | 3380600    | \n",
       "| 2017-04-26 | 910.30     | 915.75     | 907.56     | 909.29     | 909.29     | 2608900    | \n",
       "| 2017-04-27 | 914.39     | 921.86     | 912.11     | 918.38     | 918.38     | 5305500    | \n",
       "| 2017-04-28 | 948.83     | 949.59     | 924.33     | 924.99     | 924.99     | 7364700    | \n",
       "| 2017-05-01 | 927.80     | 954.40     | 927.80     | 948.23     | 948.23     | 5466500    | \n",
       "| 2017-05-02 | 946.65     | 950.10     | 941.41     | 946.94     | 946.94     | 3848800    | \n",
       "| 2017-05-03 | 946.00     | 946.00     | 935.90     | 941.03     | 941.03     | 3582700    | \n",
       "| 2017-05-04 | 944.75     | 945.00     | 934.22     | 937.53     | 937.53     | 2418400    | \n",
       "| 2017-05-05 | 940.52     | 940.79     | 930.30     | 934.15     | 934.15     | 2866400    | \n",
       "| 2017-05-08 | 940.95     | 949.05     | 939.21     | 949.04     | 949.04     | 3415700    | \n",
       "| 2017-05-09 | 952.80     | 957.89     | 950.20     | 952.82     | 952.82     | 3262100    | \n",
       "| 2017-05-10 | 953.50     | 953.75     | 945.00     | 948.95     | 948.95     | 2096500    | \n",
       "| 2017-05-11 | 945.11     | 950.29     | 940.78     | 947.62     | 947.62     | 2194100    | \n",
       "| 2017-05-12 | 954.50     | 962.79     | 951.53     | 961.35     | 961.35     | 3625900    | \n",
       "| 2017-05-15 | 958.73     | 963.15     | 956.06     | 957.97     | 957.97     | 4270600    | \n",
       "| 2017-05-16 | 961.00     | 970.06     | 960.91     | 966.07     | 966.07     | 3126100    | \n",
       "\n",
       "\n"
      ],
      "text/plain": [
       "     Date       Open   High   Low    Close  Adj Close Volume  \n",
       "1    2002-01-03 11.13  11.94  11.05  11.90  11.90     10875700\n",
       "2    2002-01-04 12.02  12.40  11.95  12.25  12.25     12687300\n",
       "3    2002-01-07 12.08  12.51  12.08  12.34  12.34     12182900\n",
       "4    2002-01-08 12.27  12.32  11.75  11.85  11.85      6041100\n",
       "5    2002-01-09 11.96  12.17  11.30  11.53  11.53     10879600\n",
       "6    2002-01-10 11.66  11.67  10.87  11.04  11.04      8125900\n",
       "7    2002-01-11 11.03  11.34  10.93  11.03  11.03      4276800\n",
       "8    2002-01-14 10.80  10.83  10.09  10.11  10.11      5973300\n",
       "9    2002-01-15 10.34  10.42  10.16  10.29  10.29      5092300\n",
       "10   2002-01-16 10.01  10.01   9.03   9.13   9.13     15039900\n",
       "11   2002-01-17  9.82   9.85   9.40   9.74   9.74     16630700\n",
       "12   2002-01-18  9.60  10.55   9.39  10.16  10.16     11493500\n",
       "13   2002-01-22 12.74  12.79  12.14  12.60  12.60     56645900\n",
       "14   2002-01-23 12.49  12.60  11.90  12.47  12.47     18031600\n",
       "15   2002-01-24 12.75  14.06  12.71  14.01  14.01     23468600\n",
       "16   2002-01-25 13.56  15.39  13.39  14.44  14.44     30276500\n",
       "17   2002-01-28 14.86  15.77  14.76  15.50  15.50     23016000\n",
       "18   2002-01-29 15.54  15.55  13.97  14.22  14.22     20244900\n",
       "19   2002-01-30 13.98  14.25  13.20  13.90  13.90     14751800\n",
       "20   2002-01-31 14.12  14.49  13.41  14.19  14.19     10485300\n",
       "21   2002-02-01 14.07  14.09  13.35  13.73  13.73      7801400\n",
       "22   2002-02-04 12.91  13.09  12.43  12.53  12.53     19135800\n",
       "23   2002-02-05 11.98  12.29  11.16  11.50  11.50     14315700\n",
       "24   2002-02-06 11.90  12.00  11.20  11.26  11.26      8859400\n",
       "25   2002-02-07 11.25  11.85  11.06  11.24  11.24      7172400\n",
       "26   2002-02-08 11.51  12.67  11.50  12.52  12.52      6085600\n",
       "27   2002-02-11 12.64  13.50  12.54  13.30  13.30      9469700\n",
       "28   2002-02-12 13.03  13.24  12.50  12.90  12.90      7463400\n",
       "29   2002-02-13 13.10  13.33  13.06  13.29  13.29      6040800\n",
       "30   2002-02-14 13.34  14.26  13.30  13.88  13.88      9281500\n",
       "...  ...        ...    ...    ...    ...    ...       ...     \n",
       "3840 2017-04-04 891.50 908.54 890.28 906.83 906.83    4984700 \n",
       "3841 2017-04-05 910.82 923.72 905.62 909.28 909.28    7508400 \n",
       "3842 2017-04-06 913.80 917.19 894.49 898.28 898.28    6344100 \n",
       "3843 2017-04-07 899.65 900.09 889.31 894.88 894.88    3710900 \n",
       "3844 2017-04-10 899.63 908.51 899.00 907.04 907.04    3184300 \n",
       "3845 2017-04-11 907.04 911.24 897.50 902.36 902.36    3012700 \n",
       "3846 2017-04-12 903.09 904.09 895.25 896.23 896.23    2456100 \n",
       "3847 2017-04-13 891.45 894.97 884.49 884.67 884.67    3174600 \n",
       "3848 2017-04-17 887.50 902.38 887.50 901.99 901.99    2854700 \n",
       "3849 2017-04-18 900.99 909.61 900.78 903.78 903.78    2999200 \n",
       "3850 2017-04-19 907.84 910.50 897.37 899.20 899.20    2870200 \n",
       "3851 2017-04-20 899.70 905.32 896.29 902.06 902.06    2814400 \n",
       "3852 2017-04-21 902.67 903.65 896.77 898.53 898.53    2420500 \n",
       "3853 2017-04-24 908.68 909.99 903.82 907.41 907.41    3122900 \n",
       "3854 2017-04-25 907.04 909.48 903.00 907.62 907.62    3380600 \n",
       "3855 2017-04-26 910.30 915.75 907.56 909.29 909.29    2608900 \n",
       "3856 2017-04-27 914.39 921.86 912.11 918.38 918.38    5305500 \n",
       "3857 2017-04-28 948.83 949.59 924.33 924.99 924.99    7364700 \n",
       "3858 2017-05-01 927.80 954.40 927.80 948.23 948.23    5466500 \n",
       "3859 2017-05-02 946.65 950.10 941.41 946.94 946.94    3848800 \n",
       "3860 2017-05-03 946.00 946.00 935.90 941.03 941.03    3582700 \n",
       "3861 2017-05-04 944.75 945.00 934.22 937.53 937.53    2418400 \n",
       "3862 2017-05-05 940.52 940.79 930.30 934.15 934.15    2866400 \n",
       "3863 2017-05-08 940.95 949.05 939.21 949.04 949.04    3415700 \n",
       "3864 2017-05-09 952.80 957.89 950.20 952.82 952.82    3262100 \n",
       "3865 2017-05-10 953.50 953.75 945.00 948.95 948.95    2096500 \n",
       "3866 2017-05-11 945.11 950.29 940.78 947.62 947.62    2194100 \n",
       "3867 2017-05-12 954.50 962.79 951.53 961.35 961.35    3625900 \n",
       "3868 2017-05-15 958.73 963.15 956.06 957.97 957.97    4270600 \n",
       "3869 2017-05-16 961.00 970.06 960.91 966.07 966.07    3126100 "
      ]
     },
     "metadata": {},
     "output_type": "display_data"
    }
   ],
   "source": [
    "da3"
   ]
  },
  {
   "cell_type": "code",
   "execution_count": 34,
   "metadata": {
    "collapsed": false
   },
   "outputs": [],
   "source": [
    "da3[\"lgac\"] <-(log(da3['Adj Close']))"
   ]
  },
  {
   "cell_type": "code",
   "execution_count": 52,
   "metadata": {
    "collapsed": false
   },
   "outputs": [
    {
     "data": {
      "image/png": "[encoded data removed]",
      "text/plain": [
       "plot without title"
      ]
     },
     "metadata": {},
     "output_type": "display_data"
    }
   ],
   "source": [
    "plot(ts(da3[\"lgac\"],frequency=365,start=c(2002,1)),type='l',xlab='year',ylab='Log Adj Close')"
   ]
  },
  {
   "cell_type": "code",
   "execution_count": 54,
   "metadata": {
    "collapsed": false
   },
   "outputs": [],
   "source": [
    "vec = diff(da3[[\"lgac\"]])"
   ]
  },
  {
   "cell_type": "code",
   "execution_count": 55,
   "metadata": {
    "collapsed": false
   },
   "outputs": [
    {
     "name": "stdout",
     "output_type": "stream",
     "text": [
      "[1] -8417.276\n",
      "  0:    -8417.2764: 0.900000\n",
      "  3:    -8607.4360: 0.971020\n",
      "  6:    -8686.2318: 0.990468\n",
      "\n",
      "Coefficient(s):\n",
      "        Estimate  Std. Error  t value   Pr(>|t|)    \n",
      "alpha 0.99048590  0.00089819  1102.76 < 2.22e-16 ***\n",
      "---\n",
      "Signif. codes:  0 '***' 0.001 '**' 0.01 '*' 0.05 '.' 0.1 ' ' 1\n",
      "\n",
      " Volatility prediction:\n",
      "     Orig      Vpred\n",
      "[1,] 3868 0.01250008\n",
      "\n",
      " Risk measure based on RiskMetrics:\n",
      "      prob        VaR         ES\n",
      "[1,] 0.950 0.02056081 0.02578408\n",
      "[2,] 0.990 0.02907954 0.03331540\n",
      "[3,] 0.999 0.03862816 0.04208891\n"
     ]
    }
   ],
   "source": [
    "RMfit(vec)"
   ]
  },
  {
   "cell_type": "markdown",
   "metadata": {},
   "source": [
    "The fitted Igarch alpha is .9904859"
   ]
  },
  {
   "cell_type": "code",
   "execution_count": 56,
   "metadata": {
    "collapsed": false
   },
   "outputs": [
    {
     "data": {
      "text/html": [
       "29079.54"
      ],
      "text/latex": [
       "29079.54"
      ],
      "text/markdown": [
       "29079.54"
      ],
      "text/plain": [
       "[1] 29079.54"
      ]
     },
     "metadata": {},
     "output_type": "display_data"
    },
    {
     "data": {
      "text/html": [
       "33315.4"
      ],
      "text/latex": [
       "33315.4"
      ],
      "text/markdown": [
       "33315.4"
      ],
      "text/plain": [
       "[1] 33315.4"
      ]
     },
     "metadata": {},
     "output_type": "display_data"
    }
   ],
   "source": [
    "1000000*0.02907954\n",
    "1000000*0.03331540"
   ]
  },
  {
   "cell_type": "markdown",
   "metadata": {},
   "source": [
    "The VAR is $29079.54\n",
    "\n",
    "The ES is $33315.4"
   ]
  },
  {
   "cell_type": "code",
   "execution_count": 58,
   "metadata": {
    "collapsed": false
   },
   "outputs": [
    {
     "data": {
      "text/html": [
       "91957.5797099728"
      ],
      "text/latex": [
       "91957.5797099728"
      ],
      "text/markdown": [
       "91957.5797099728"
      ],
      "text/plain": [
       "[1] 91957.58"
      ]
     },
     "metadata": {},
     "output_type": "display_data"
    }
   ],
   "source": [
    "sqrt(10)*0.02907954*1000000"
   ]
  },
  {
   "cell_type": "markdown",
   "metadata": {},
   "source": [
    "The 10 day VAR is $91957"
   ]
  },
  {
   "cell_type": "markdown",
   "metadata": {},
   "source": [
    "(ii)"
   ]
  },
  {
   "cell_type": "markdown",
   "metadata": {},
   "source": [
    "Fitting GARCH(1,1) with Normal Innovations"
   ]
  },
  {
   "cell_type": "code",
   "execution_count": 65,
   "metadata": {
    "collapsed": true
   },
   "outputs": [],
   "source": [
    "m4=garchFit(~garch(1,1),data=vec,include.mean=F,trace=F)"
   ]
  },
  {
   "cell_type": "code",
   "execution_count": 66,
   "metadata": {
    "collapsed": false
   },
   "outputs": [
    {
     "name": "stdout",
     "output_type": "stream",
     "text": [
      "\n",
      "Title:\n",
      " GARCH Modelling \n",
      "\n",
      "Call:\n",
      " garchFit(formula = ~garch(1, 1), data = vec, include.mean = F, \n",
      "    trace = F) \n",
      "\n",
      "Mean and Variance Equation:\n",
      " data ~ garch(1, 1)\n",
      "<environment: 0x000000000753a068>\n",
      " [data = vec]\n",
      "\n",
      "Conditional Distribution:\n",
      " norm \n",
      "\n",
      "Coefficient(s):\n",
      "     omega      alpha1       beta1  \n",
      "4.1227e-05  8.1621e-02  8.6791e-01  \n",
      "\n",
      "Std. Errors:\n",
      " based on Hessian \n",
      "\n",
      "Error Analysis:\n",
      "        Estimate  Std. Error  t value Pr(>|t|)    \n",
      "omega  4.123e-05   7.178e-06    5.744 9.26e-09 ***\n",
      "alpha1 8.162e-02   1.380e-02    5.917 3.29e-09 ***\n",
      "beta1  8.679e-01   1.915e-02   45.312  < 2e-16 ***\n",
      "---\n",
      "Signif. codes:  0 '***' 0.001 '**' 0.01 '*' 0.05 '.' 0.1 ' ' 1\n",
      "\n",
      "Log Likelihood:\n",
      " 8671.47    normalized:  2.241848 \n",
      "\n",
      "Description:\n",
      " Tue May 23 15:26:20 2017 by user: chris \n",
      "\n",
      "\n",
      "Standardised Residuals Tests:\n",
      "                                Statistic p-Value  \n",
      " Jarque-Bera Test   R    Chi^2  44506.34  0        \n",
      " Shapiro-Wilk Test  R    W      0.8801718 0        \n",
      " Ljung-Box Test     R    Q(10)  6.838319  0.7406154\n",
      " Ljung-Box Test     R    Q(15)  8.148861  0.917676 \n",
      " Ljung-Box Test     R    Q(20)  12.37134  0.9027021\n",
      " Ljung-Box Test     R^2  Q(10)  2.725375  0.987169 \n",
      " Ljung-Box Test     R^2  Q(15)  3.583722  0.9988135\n",
      " Ljung-Box Test     R^2  Q(20)  5.059153  0.9996961\n",
      " LM Arch Test       R    TR^2   3.725125  0.9879013\n",
      "\n",
      "Information Criterion Statistics:\n",
      "      AIC       BIC       SIC      HQIC \n",
      "-4.482146 -4.477290 -4.482147 -4.480421 \n",
      "\n"
     ]
    }
   ],
   "source": [
    "summary(m4)"
   ]
  },
  {
   "cell_type": "markdown",
   "metadata": {},
   "source": [
    "All tests show model is adequate\n",
    "\n",
    "One day ahead forecast"
   ]
  },
  {
   "cell_type": "code",
   "execution_count": 68,
   "metadata": {
    "collapsed": false
   },
   "outputs": [
    {
     "data": {
      "text/html": [
       "<table>\n",
       "<thead><tr><th scope=col>meanForecast</th><th scope=col>meanError</th><th scope=col>standardDeviation</th></tr></thead>\n",
       "<tbody>\n",
       "\t<tr><td>0         </td><td>0.01901282</td><td>0.01901282</td></tr>\n",
       "</tbody>\n",
       "</table>\n"
      ],
      "text/latex": [
       "\\begin{tabular}{r|lll}\n",
       " meanForecast & meanError & standardDeviation\\\\\n",
       "\\hline\n",
       "\t 0          & 0.01901282 & 0.01901282\\\\\n",
       "\\end{tabular}\n"
      ],
      "text/markdown": [
       "\n",
       "meanForecast | meanError | standardDeviation | \n",
       "|---|\n",
       "| 0          | 0.01901282 | 0.01901282 | \n",
       "\n",
       "\n"
      ],
      "text/plain": [
       "  meanForecast meanError  standardDeviation\n",
       "1 0            0.01901282 0.01901282       "
      ]
     },
     "metadata": {},
     "output_type": "display_data"
    }
   ],
   "source": [
    "predict(m4,1)"
   ]
  },
  {
   "cell_type": "code",
   "execution_count": 69,
   "metadata": {
    "collapsed": false
   },
   "outputs": [
    {
     "name": "stdout",
     "output_type": "stream",
     "text": [
      "\n",
      " Risk Measures for selected probabilities: \n",
      "       prob        VaR         ES\n",
      "[1,] 0.9500 0.03127331 0.03921799\n",
      "[2,] 0.9900 0.04423043 0.05067324\n",
      "[3,] 0.9990 0.05875403 0.06401788\n",
      "[4,] 0.9999 0.07070899 0.07526186\n"
     ]
    }
   ],
   "source": [
    "RMeasure(0,.01901282)"
   ]
  },
  {
   "cell_type": "code",
   "execution_count": 70,
   "metadata": {
    "collapsed": false
   },
   "outputs": [
    {
     "data": {
      "text/html": [
       "44230.43"
      ],
      "text/latex": [
       "44230.43"
      ],
      "text/markdown": [
       "44230.43"
      ],
      "text/plain": [
       "[1] 44230.43"
      ]
     },
     "metadata": {},
     "output_type": "display_data"
    },
    {
     "data": {
      "text/html": [
       "50673.24"
      ],
      "text/latex": [
       "50673.24"
      ],
      "text/markdown": [
       "50673.24"
      ],
      "text/plain": [
       "[1] 50673.24"
      ]
     },
     "metadata": {},
     "output_type": "display_data"
    }
   ],
   "source": [
    "0.04423043*1000000\n",
    "0.05067324*1000000"
   ]
  },
  {
   "cell_type": "markdown",
   "metadata": {},
   "source": [
    "VAR is $44230.43\n",
    "\n",
    "ES is $50673.24"
   ]
  },
  {
   "cell_type": "markdown",
   "metadata": {},
   "source": [
    "(iii)"
   ]
  },
  {
   "cell_type": "code",
   "execution_count": 71,
   "metadata": {
    "collapsed": true
   },
   "outputs": [],
   "source": [
    "m5 = garchFit(~garch(1,1),data=vec,include.mean=F,trace=F,cond.dist = \"std\")"
   ]
  },
  {
   "cell_type": "code",
   "execution_count": 72,
   "metadata": {
    "collapsed": false
   },
   "outputs": [
    {
     "name": "stdout",
     "output_type": "stream",
     "text": [
      "\n",
      "Title:\n",
      " GARCH Modelling \n",
      "\n",
      "Call:\n",
      " garchFit(formula = ~garch(1, 1), data = vec, cond.dist = \"std\", \n",
      "    include.mean = F, trace = F) \n",
      "\n",
      "Mean and Variance Equation:\n",
      " data ~ garch(1, 1)\n",
      "<environment: 0x0000000008469460>\n",
      " [data = vec]\n",
      "\n",
      "Conditional Distribution:\n",
      " std \n",
      "\n",
      "Coefficient(s):\n",
      "     omega      alpha1       beta1       shape  \n",
      "1.5264e-06  2.1294e-02  9.7604e-01  3.6161e+00  \n",
      "\n",
      "Std. Errors:\n",
      " based on Hessian \n",
      "\n",
      "Error Analysis:\n",
      "        Estimate  Std. Error  t value Pr(>|t|)    \n",
      "omega  1.526e-06   7.032e-07    2.171     0.03 *  \n",
      "alpha1 2.129e-02   3.344e-03    6.368 1.91e-10 ***\n",
      "beta1  9.760e-01   3.446e-03  283.211  < 2e-16 ***\n",
      "shape  3.616e+00   2.046e-01   17.675  < 2e-16 ***\n",
      "---\n",
      "Signif. codes:  0 '***' 0.001 '**' 0.01 '*' 0.05 '.' 0.1 ' ' 1\n",
      "\n",
      "Log Likelihood:\n",
      " 9270.755    normalized:  2.396782 \n",
      "\n",
      "Description:\n",
      " Tue May 23 15:34:22 2017 by user: chris \n",
      "\n",
      "\n",
      "Standardised Residuals Tests:\n",
      "                                Statistic p-Value  \n",
      " Jarque-Bera Test   R    Chi^2  60366.36  0        \n",
      " Shapiro-Wilk Test  R    W      0.8688648 0        \n",
      " Ljung-Box Test     R    Q(10)  6.690499  0.7543049\n",
      " Ljung-Box Test     R    Q(15)  8.430288  0.9053764\n",
      " Ljung-Box Test     R    Q(20)  12.56888  0.8951064\n",
      " Ljung-Box Test     R^2  Q(10)  2.166931  0.9948932\n",
      " Ljung-Box Test     R^2  Q(15)  3.315594  0.9992568\n",
      " Ljung-Box Test     R^2  Q(20)  5.271496  0.9995828\n",
      " LM Arch Test       R    TR^2   2.98661   0.9956378\n",
      "\n",
      "Information Criterion Statistics:\n",
      "      AIC       BIC       SIC      HQIC \n",
      "-4.791497 -4.785023 -4.791499 -4.789198 \n",
      "\n"
     ]
    }
   ],
   "source": [
    "summary(m5)"
   ]
  },
  {
   "cell_type": "markdown",
   "metadata": {},
   "source": [
    "Model is adequate bases on tests\n",
    "\n",
    "One day forecast"
   ]
  },
  {
   "cell_type": "code",
   "execution_count": 73,
   "metadata": {
    "collapsed": false
   },
   "outputs": [
    {
     "data": {
      "text/html": [
       "<table>\n",
       "<thead><tr><th scope=col>meanForecast</th><th scope=col>meanError</th><th scope=col>standardDeviation</th></tr></thead>\n",
       "<tbody>\n",
       "\t<tr><td>0         </td><td>0.01228168</td><td>0.01228168</td></tr>\n",
       "</tbody>\n",
       "</table>\n"
      ],
      "text/latex": [
       "\\begin{tabular}{r|lll}\n",
       " meanForecast & meanError & standardDeviation\\\\\n",
       "\\hline\n",
       "\t 0          & 0.01228168 & 0.01228168\\\\\n",
       "\\end{tabular}\n"
      ],
      "text/markdown": [
       "\n",
       "meanForecast | meanError | standardDeviation | \n",
       "|---|\n",
       "| 0          | 0.01228168 | 0.01228168 | \n",
       "\n",
       "\n"
      ],
      "text/plain": [
       "  meanForecast meanError  standardDeviation\n",
       "1 0            0.01228168 0.01228168       "
      ]
     },
     "metadata": {},
     "output_type": "display_data"
    }
   ],
   "source": [
    "predict(m5,1)"
   ]
  },
  {
   "cell_type": "code",
   "execution_count": 74,
   "metadata": {
    "collapsed": false
   },
   "outputs": [
    {
     "name": "stdout",
     "output_type": "stream",
     "text": [
      "\n",
      " Risk Measures for selected probabilities: \n",
      "       prob        VaR         ES\n",
      "[1,] 0.9500 0.02020157 0.02533358\n",
      "[2,] 0.9900 0.02857146 0.03273331\n",
      "[3,] 0.9990 0.03795324 0.04135352\n",
      "[4,] 0.9999 0.04567577 0.04861678\n"
     ]
    }
   ],
   "source": [
    "RMeasure(0,0.01228168)"
   ]
  },
  {
   "cell_type": "code",
   "execution_count": 75,
   "metadata": {
    "collapsed": false
   },
   "outputs": [
    {
     "data": {
      "text/html": [
       "28571.46"
      ],
      "text/latex": [
       "28571.46"
      ],
      "text/markdown": [
       "28571.46"
      ],
      "text/plain": [
       "[1] 28571.46"
      ]
     },
     "metadata": {},
     "output_type": "display_data"
    },
    {
     "data": {
      "text/html": [
       "32733.31"
      ],
      "text/latex": [
       "32733.31"
      ],
      "text/markdown": [
       "32733.31"
      ],
      "text/plain": [
       "[1] 32733.31"
      ]
     },
     "metadata": {},
     "output_type": "display_data"
    }
   ],
   "source": [
    ".02857146*1000000\n",
    "0.03273331*1000000"
   ]
  },
  {
   "cell_type": "markdown",
   "metadata": {},
   "source": [
    "VAR is $28571.46\n",
    "\n",
    "ES is $32733.31"
   ]
  },
  {
   "cell_type": "code",
   "execution_count": 76,
   "metadata": {
    "collapsed": false
   },
   "outputs": [
    {
     "data": {
      "image/png": "[encoded data removed]",
      "text/plain": [
       "Plot with title \"qnorm - QQ Plot\""
      ]
     },
     "metadata": {},
     "output_type": "display_data"
    },
    {
     "data": {
      "image/png": "[encoded data removed]",
      "text/plain": [
       "Plot with title \"qstd - QQ Plot\""
      ]
     },
     "metadata": {},
     "output_type": "display_data"
    }
   ],
   "source": [
    "plot(m4,which=13)# Gaussian\n",
    "plot(m5,which=13)# student T"
   ]
  },
  {
   "cell_type": "markdown",
   "metadata": {},
   "source": [
    "GARCH(1,1) with T innovations looks more appropriate."
   ]
  }
 ],
 "metadata": {
  "kernelspec": {
   "display_name": "R",
   "language": "R",
   "name": "ir"
  },
  "language_info": {
   "codemirror_mode": "r",
   "file_extension": ".r",
   "mimetype": "text/x-r-source",
   "name": "R",
   "pygments_lexer": "r",
   "version": "3.3.2"
  }
 },
 "nbformat": 4,
 "nbformat_minor": 2
}
