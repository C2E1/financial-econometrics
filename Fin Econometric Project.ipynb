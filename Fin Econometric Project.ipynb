{
 "cells": [
  {
   "cell_type": "markdown",
   "metadata": {},
   "source": [
    "Christian Colon\n",
    "\n",
    "Question 1"
   ]
  },
  {
   "cell_type": "markdown",
   "metadata": {},
   "source": [
    "(i)"
   ]
  },
  {
   "cell_type": "code",
   "execution_count": 1,
   "metadata": {
    "collapsed": true
   },
   "outputs": [],
   "source": [
    "da=read.table(\"m-umcsent.txt\",header=TRUE)"
   ]
  },
  {
   "cell_type": "code",
   "execution_count": 2,
   "metadata": {
    "collapsed": false,
    "scrolled": true
   },
   "outputs": [
    {
     "data": {
      "text/html": [
       "<table>\n",
       "<thead><tr><th scope=col>year</th><th scope=col>mon</th><th scope=col>day</th><th scope=col>VALUE</th></tr></thead>\n",
       "<tbody>\n",
       "\t<tr><td>1978</td><td> 1  </td><td>1   </td><td>83.7</td></tr>\n",
       "\t<tr><td>1978</td><td> 2  </td><td>1   </td><td>84.3</td></tr>\n",
       "\t<tr><td>1978</td><td> 3  </td><td>1   </td><td>78.8</td></tr>\n",
       "\t<tr><td>1978</td><td> 4  </td><td>1   </td><td>81.6</td></tr>\n",
       "\t<tr><td>1978</td><td> 5  </td><td>1   </td><td>82.9</td></tr>\n",
       "\t<tr><td>1978</td><td> 6  </td><td>1   </td><td>80.0</td></tr>\n",
       "\t<tr><td>1978</td><td> 7  </td><td>1   </td><td>82.4</td></tr>\n",
       "\t<tr><td>1978</td><td> 8  </td><td>1   </td><td>78.4</td></tr>\n",
       "\t<tr><td>1978</td><td> 9  </td><td>1   </td><td>80.4</td></tr>\n",
       "\t<tr><td>1978</td><td>10  </td><td>1   </td><td>79.3</td></tr>\n",
       "\t<tr><td>1978</td><td>11  </td><td>1   </td><td>75.0</td></tr>\n",
       "\t<tr><td>1978</td><td>12  </td><td>1   </td><td>66.1</td></tr>\n",
       "\t<tr><td>1979</td><td> 1  </td><td>1   </td><td>72.1</td></tr>\n",
       "\t<tr><td>1979</td><td> 2  </td><td>1   </td><td>73.9</td></tr>\n",
       "\t<tr><td>1979</td><td> 3  </td><td>1   </td><td>68.4</td></tr>\n",
       "\t<tr><td>1979</td><td> 4  </td><td>1   </td><td>66.0</td></tr>\n",
       "\t<tr><td>1979</td><td> 5  </td><td>1   </td><td>68.1</td></tr>\n",
       "\t<tr><td>1979</td><td> 6  </td><td>1   </td><td>65.8</td></tr>\n",
       "\t<tr><td>1979</td><td> 7  </td><td>1   </td><td>60.4</td></tr>\n",
       "\t<tr><td>1979</td><td> 8  </td><td>1   </td><td>64.5</td></tr>\n",
       "\t<tr><td>1979</td><td> 9  </td><td>1   </td><td>66.7</td></tr>\n",
       "\t<tr><td>1979</td><td>10  </td><td>1   </td><td>62.1</td></tr>\n",
       "\t<tr><td>1979</td><td>11  </td><td>1   </td><td>63.3</td></tr>\n",
       "\t<tr><td>1979</td><td>12  </td><td>1   </td><td>61.0</td></tr>\n",
       "\t<tr><td>1980</td><td> 1  </td><td>1   </td><td>67.0</td></tr>\n",
       "\t<tr><td>1980</td><td> 2  </td><td>1   </td><td>66.9</td></tr>\n",
       "\t<tr><td>1980</td><td> 3  </td><td>1   </td><td>56.5</td></tr>\n",
       "\t<tr><td>1980</td><td> 4  </td><td>1   </td><td>52.7</td></tr>\n",
       "\t<tr><td>1980</td><td> 5  </td><td>1   </td><td>51.7</td></tr>\n",
       "\t<tr><td>1980</td><td> 6  </td><td>1   </td><td>58.7</td></tr>\n",
       "\t<tr><td>...</td><td>...</td><td>...</td><td>...</td></tr>\n",
       "\t<tr><td>2011</td><td> 3  </td><td>1   </td><td>67.5</td></tr>\n",
       "\t<tr><td>2011</td><td> 4  </td><td>1   </td><td>69.8</td></tr>\n",
       "\t<tr><td>2011</td><td> 5  </td><td>1   </td><td>74.3</td></tr>\n",
       "\t<tr><td>2011</td><td> 6  </td><td>1   </td><td>71.5</td></tr>\n",
       "\t<tr><td>2011</td><td> 7  </td><td>1   </td><td>63.7</td></tr>\n",
       "\t<tr><td>2011</td><td> 8  </td><td>1   </td><td>55.8</td></tr>\n",
       "\t<tr><td>2011</td><td> 9  </td><td>1   </td><td>59.5</td></tr>\n",
       "\t<tr><td>2011</td><td>10  </td><td>1   </td><td>60.8</td></tr>\n",
       "\t<tr><td>2011</td><td>11  </td><td>1   </td><td>63.7</td></tr>\n",
       "\t<tr><td>2011</td><td>12  </td><td>1   </td><td>69.9</td></tr>\n",
       "\t<tr><td>2012</td><td> 1  </td><td>1   </td><td>75.0</td></tr>\n",
       "\t<tr><td>2012</td><td> 2  </td><td>1   </td><td>75.3</td></tr>\n",
       "\t<tr><td>2012</td><td> 3  </td><td>1   </td><td>76.2</td></tr>\n",
       "\t<tr><td>2012</td><td> 4  </td><td>1   </td><td>76.4</td></tr>\n",
       "\t<tr><td>2012</td><td> 5  </td><td>1   </td><td>79.3</td></tr>\n",
       "\t<tr><td>2012</td><td> 6  </td><td>1   </td><td>73.2</td></tr>\n",
       "\t<tr><td>2012</td><td> 7  </td><td>1   </td><td>72.3</td></tr>\n",
       "\t<tr><td>2012</td><td> 8  </td><td>1   </td><td>74.3</td></tr>\n",
       "\t<tr><td>2012</td><td> 9  </td><td>1   </td><td>78.3</td></tr>\n",
       "\t<tr><td>2012</td><td>10  </td><td>1   </td><td>82.6</td></tr>\n",
       "\t<tr><td>2012</td><td>11  </td><td>1   </td><td>82.7</td></tr>\n",
       "\t<tr><td>2012</td><td>12  </td><td>1   </td><td>72.9</td></tr>\n",
       "\t<tr><td>2013</td><td> 1  </td><td>1   </td><td>73.8</td></tr>\n",
       "\t<tr><td>2013</td><td> 2  </td><td>1   </td><td>77.6</td></tr>\n",
       "\t<tr><td>2013</td><td> 3  </td><td>1   </td><td>78.6</td></tr>\n",
       "\t<tr><td>2013</td><td> 4  </td><td>1   </td><td>76.4</td></tr>\n",
       "\t<tr><td>2013</td><td> 5  </td><td>1   </td><td>84.5</td></tr>\n",
       "\t<tr><td>2013</td><td> 6  </td><td>1   </td><td>84.1</td></tr>\n",
       "\t<tr><td>2013</td><td> 7  </td><td>1   </td><td>85.1</td></tr>\n",
       "\t<tr><td>2013</td><td> 8  </td><td>1   </td><td>82.1</td></tr>\n",
       "</tbody>\n",
       "</table>\n"
      ],
      "text/latex": [
       "\\begin{tabular}{r|llll}\n",
       " year & mon & day & VALUE\\\\\n",
       "\\hline\n",
       "\t 1978 &  1   & 1    & 83.7\\\\\n",
       "\t 1978 &  2   & 1    & 84.3\\\\\n",
       "\t 1978 &  3   & 1    & 78.8\\\\\n",
       "\t 1978 &  4   & 1    & 81.6\\\\\n",
       "\t 1978 &  5   & 1    & 82.9\\\\\n",
       "\t 1978 &  6   & 1    & 80.0\\\\\n",
       "\t 1978 &  7   & 1    & 82.4\\\\\n",
       "\t 1978 &  8   & 1    & 78.4\\\\\n",
       "\t 1978 &  9   & 1    & 80.4\\\\\n",
       "\t 1978 & 10   & 1    & 79.3\\\\\n",
       "\t 1978 & 11   & 1    & 75.0\\\\\n",
       "\t 1978 & 12   & 1    & 66.1\\\\\n",
       "\t 1979 &  1   & 1    & 72.1\\\\\n",
       "\t 1979 &  2   & 1    & 73.9\\\\\n",
       "\t 1979 &  3   & 1    & 68.4\\\\\n",
       "\t 1979 &  4   & 1    & 66.0\\\\\n",
       "\t 1979 &  5   & 1    & 68.1\\\\\n",
       "\t 1979 &  6   & 1    & 65.8\\\\\n",
       "\t 1979 &  7   & 1    & 60.4\\\\\n",
       "\t 1979 &  8   & 1    & 64.5\\\\\n",
       "\t 1979 &  9   & 1    & 66.7\\\\\n",
       "\t 1979 & 10   & 1    & 62.1\\\\\n",
       "\t 1979 & 11   & 1    & 63.3\\\\\n",
       "\t 1979 & 12   & 1    & 61.0\\\\\n",
       "\t 1980 &  1   & 1    & 67.0\\\\\n",
       "\t 1980 &  2   & 1    & 66.9\\\\\n",
       "\t 1980 &  3   & 1    & 56.5\\\\\n",
       "\t 1980 &  4   & 1    & 52.7\\\\\n",
       "\t 1980 &  5   & 1    & 51.7\\\\\n",
       "\t 1980 &  6   & 1    & 58.7\\\\\n",
       "\t ... & ... & ... & ...\\\\\n",
       "\t 2011 &  3   & 1    & 67.5\\\\\n",
       "\t 2011 &  4   & 1    & 69.8\\\\\n",
       "\t 2011 &  5   & 1    & 74.3\\\\\n",
       "\t 2011 &  6   & 1    & 71.5\\\\\n",
       "\t 2011 &  7   & 1    & 63.7\\\\\n",
       "\t 2011 &  8   & 1    & 55.8\\\\\n",
       "\t 2011 &  9   & 1    & 59.5\\\\\n",
       "\t 2011 & 10   & 1    & 60.8\\\\\n",
       "\t 2011 & 11   & 1    & 63.7\\\\\n",
       "\t 2011 & 12   & 1    & 69.9\\\\\n",
       "\t 2012 &  1   & 1    & 75.0\\\\\n",
       "\t 2012 &  2   & 1    & 75.3\\\\\n",
       "\t 2012 &  3   & 1    & 76.2\\\\\n",
       "\t 2012 &  4   & 1    & 76.4\\\\\n",
       "\t 2012 &  5   & 1    & 79.3\\\\\n",
       "\t 2012 &  6   & 1    & 73.2\\\\\n",
       "\t 2012 &  7   & 1    & 72.3\\\\\n",
       "\t 2012 &  8   & 1    & 74.3\\\\\n",
       "\t 2012 &  9   & 1    & 78.3\\\\\n",
       "\t 2012 & 10   & 1    & 82.6\\\\\n",
       "\t 2012 & 11   & 1    & 82.7\\\\\n",
       "\t 2012 & 12   & 1    & 72.9\\\\\n",
       "\t 2013 &  1   & 1    & 73.8\\\\\n",
       "\t 2013 &  2   & 1    & 77.6\\\\\n",
       "\t 2013 &  3   & 1    & 78.6\\\\\n",
       "\t 2013 &  4   & 1    & 76.4\\\\\n",
       "\t 2013 &  5   & 1    & 84.5\\\\\n",
       "\t 2013 &  6   & 1    & 84.1\\\\\n",
       "\t 2013 &  7   & 1    & 85.1\\\\\n",
       "\t 2013 &  8   & 1    & 82.1\\\\\n",
       "\\end{tabular}\n"
      ],
      "text/markdown": [
       "\n",
       "year | mon | day | VALUE | \n",
       "|---|---|---|---|---|---|---|---|---|---|---|---|---|---|---|---|---|---|---|---|---|---|---|---|---|---|---|---|---|---|---|---|---|---|---|---|---|---|---|---|---|---|---|---|---|---|---|---|---|---|---|---|---|---|---|---|---|---|---|---|---|\n",
       "| 1978 |  1   | 1    | 83.7 | \n",
       "| 1978 |  2   | 1    | 84.3 | \n",
       "| 1978 |  3   | 1    | 78.8 | \n",
       "| 1978 |  4   | 1    | 81.6 | \n",
       "| 1978 |  5   | 1    | 82.9 | \n",
       "| 1978 |  6   | 1    | 80.0 | \n",
       "| 1978 |  7   | 1    | 82.4 | \n",
       "| 1978 |  8   | 1    | 78.4 | \n",
       "| 1978 |  9   | 1    | 80.4 | \n",
       "| 1978 | 10   | 1    | 79.3 | \n",
       "| 1978 | 11   | 1    | 75.0 | \n",
       "| 1978 | 12   | 1    | 66.1 | \n",
       "| 1979 |  1   | 1    | 72.1 | \n",
       "| 1979 |  2   | 1    | 73.9 | \n",
       "| 1979 |  3   | 1    | 68.4 | \n",
       "| 1979 |  4   | 1    | 66.0 | \n",
       "| 1979 |  5   | 1    | 68.1 | \n",
       "| 1979 |  6   | 1    | 65.8 | \n",
       "| 1979 |  7   | 1    | 60.4 | \n",
       "| 1979 |  8   | 1    | 64.5 | \n",
       "| 1979 |  9   | 1    | 66.7 | \n",
       "| 1979 | 10   | 1    | 62.1 | \n",
       "| 1979 | 11   | 1    | 63.3 | \n",
       "| 1979 | 12   | 1    | 61.0 | \n",
       "| 1980 |  1   | 1    | 67.0 | \n",
       "| 1980 |  2   | 1    | 66.9 | \n",
       "| 1980 |  3   | 1    | 56.5 | \n",
       "| 1980 |  4   | 1    | 52.7 | \n",
       "| 1980 |  5   | 1    | 51.7 | \n",
       "| 1980 |  6   | 1    | 58.7 | \n",
       "| ... | ... | ... | ... | \n",
       "| 2011 |  3   | 1    | 67.5 | \n",
       "| 2011 |  4   | 1    | 69.8 | \n",
       "| 2011 |  5   | 1    | 74.3 | \n",
       "| 2011 |  6   | 1    | 71.5 | \n",
       "| 2011 |  7   | 1    | 63.7 | \n",
       "| 2011 |  8   | 1    | 55.8 | \n",
       "| 2011 |  9   | 1    | 59.5 | \n",
       "| 2011 | 10   | 1    | 60.8 | \n",
       "| 2011 | 11   | 1    | 63.7 | \n",
       "| 2011 | 12   | 1    | 69.9 | \n",
       "| 2012 |  1   | 1    | 75.0 | \n",
       "| 2012 |  2   | 1    | 75.3 | \n",
       "| 2012 |  3   | 1    | 76.2 | \n",
       "| 2012 |  4   | 1    | 76.4 | \n",
       "| 2012 |  5   | 1    | 79.3 | \n",
       "| 2012 |  6   | 1    | 73.2 | \n",
       "| 2012 |  7   | 1    | 72.3 | \n",
       "| 2012 |  8   | 1    | 74.3 | \n",
       "| 2012 |  9   | 1    | 78.3 | \n",
       "| 2012 | 10   | 1    | 82.6 | \n",
       "| 2012 | 11   | 1    | 82.7 | \n",
       "| 2012 | 12   | 1    | 72.9 | \n",
       "| 2013 |  1   | 1    | 73.8 | \n",
       "| 2013 |  2   | 1    | 77.6 | \n",
       "| 2013 |  3   | 1    | 78.6 | \n",
       "| 2013 |  4   | 1    | 76.4 | \n",
       "| 2013 |  5   | 1    | 84.5 | \n",
       "| 2013 |  6   | 1    | 84.1 | \n",
       "| 2013 |  7   | 1    | 85.1 | \n",
       "| 2013 |  8   | 1    | 82.1 | \n",
       "\n",
       "\n"
      ],
      "text/plain": [
       "    year mon day VALUE\n",
       "1   1978  1  1   83.7 \n",
       "2   1978  2  1   84.3 \n",
       "3   1978  3  1   78.8 \n",
       "4   1978  4  1   81.6 \n",
       "5   1978  5  1   82.9 \n",
       "6   1978  6  1   80.0 \n",
       "7   1978  7  1   82.4 \n",
       "8   1978  8  1   78.4 \n",
       "9   1978  9  1   80.4 \n",
       "10  1978 10  1   79.3 \n",
       "11  1978 11  1   75.0 \n",
       "12  1978 12  1   66.1 \n",
       "13  1979  1  1   72.1 \n",
       "14  1979  2  1   73.9 \n",
       "15  1979  3  1   68.4 \n",
       "16  1979  4  1   66.0 \n",
       "17  1979  5  1   68.1 \n",
       "18  1979  6  1   65.8 \n",
       "19  1979  7  1   60.4 \n",
       "20  1979  8  1   64.5 \n",
       "21  1979  9  1   66.7 \n",
       "22  1979 10  1   62.1 \n",
       "23  1979 11  1   63.3 \n",
       "24  1979 12  1   61.0 \n",
       "25  1980  1  1   67.0 \n",
       "26  1980  2  1   66.9 \n",
       "27  1980  3  1   56.5 \n",
       "28  1980  4  1   52.7 \n",
       "29  1980  5  1   51.7 \n",
       "30  1980  6  1   58.7 \n",
       "... ...  ... ... ...  \n",
       "399 2011  3  1   67.5 \n",
       "400 2011  4  1   69.8 \n",
       "401 2011  5  1   74.3 \n",
       "402 2011  6  1   71.5 \n",
       "403 2011  7  1   63.7 \n",
       "404 2011  8  1   55.8 \n",
       "405 2011  9  1   59.5 \n",
       "406 2011 10  1   60.8 \n",
       "407 2011 11  1   63.7 \n",
       "408 2011 12  1   69.9 \n",
       "409 2012  1  1   75.0 \n",
       "410 2012  2  1   75.3 \n",
       "411 2012  3  1   76.2 \n",
       "412 2012  4  1   76.4 \n",
       "413 2012  5  1   79.3 \n",
       "414 2012  6  1   73.2 \n",
       "415 2012  7  1   72.3 \n",
       "416 2012  8  1   74.3 \n",
       "417 2012  9  1   78.3 \n",
       "418 2012 10  1   82.6 \n",
       "419 2012 11  1   82.7 \n",
       "420 2012 12  1   72.9 \n",
       "421 2013  1  1   73.8 \n",
       "422 2013  2  1   77.6 \n",
       "423 2013  3  1   78.6 \n",
       "424 2013  4  1   76.4 \n",
       "425 2013  5  1   84.5 \n",
       "426 2013  6  1   84.1 \n",
       "427 2013  7  1   85.1 \n",
       "428 2013  8  1   82.1 "
      ]
     },
     "metadata": {},
     "output_type": "display_data"
    }
   ],
   "source": [
    "da"
   ]
  },
  {
   "cell_type": "code",
   "execution_count": 3,
   "metadata": {
    "collapsed": true
   },
   "outputs": [],
   "source": [
    "da_ts = ts(da$VALUE,frequency=12,start=c(1978,1))"
   ]
  },
  {
   "cell_type": "code",
   "execution_count": 4,
   "metadata": {
    "collapsed": false
   },
   "outputs": [
    {
     "data": {
      "image/png": "[encoded data removed]",
      "text/plain": [
       "plot without title"
      ]
     },
     "metadata": {},
     "output_type": "display_data"
    }
   ],
   "source": [
    "plot(da_ts,type='l',xlab='year',ylab='Value')"
   ]
  },
  {
   "cell_type": "markdown",
   "metadata": {},
   "source": [
    "(ii)"
   ]
  },
  {
   "cell_type": "code",
   "execution_count": 5,
   "metadata": {
    "collapsed": false
   },
   "outputs": [
    {
     "data": {
      "image/png": "[encoded data removed]",
      "text/plain": [
       "Plot with title \"Series  da$VALUE\""
      ]
     },
     "metadata": {},
     "output_type": "display_data"
    }
   ],
   "source": [
    "acf(da$VALUE,lag=45)"
   ]
  },
  {
   "cell_type": "markdown",
   "metadata": {},
   "source": [
    "The ACFs of the series are high and decay slowly. So there is unit root in this series."
   ]
  },
  {
   "cell_type": "markdown",
   "metadata": {},
   "source": [
    "(iii)"
   ]
  },
  {
   "cell_type": "code",
   "execution_count": 6,
   "metadata": {
    "collapsed": true
   },
   "outputs": [],
   "source": [
    "firdiff = diff(da$VALUE)"
   ]
  },
  {
   "cell_type": "code",
   "execution_count": 7,
   "metadata": {
    "collapsed": false
   },
   "outputs": [
    {
     "data": {
      "image/png": "[encoded data removed]",
      "text/plain": [
       "Plot with title \"Series  firdiff\""
      ]
     },
     "metadata": {},
     "output_type": "display_data"
    }
   ],
   "source": [
    "acf(firdiff)"
   ]
  },
  {
   "cell_type": "markdown",
   "metadata": {},
   "source": [
    "Correlation looks less persistant."
   ]
  },
  {
   "cell_type": "code",
   "execution_count": 8,
   "metadata": {
    "collapsed": false,
    "scrolled": true
   },
   "outputs": [
    {
     "data": {
      "text/plain": [
       "\n",
       "\tOne Sample t-test\n",
       "\n",
       "data:  firdiff\n",
       "t = -0.019349, df = 426, p-value = 0.9846\n",
       "alternative hypothesis: true mean is not equal to 0\n",
       "95 percent confidence interval:\n",
       " -0.3843808  0.3768867\n",
       "sample estimates:\n",
       "   mean of x \n",
       "-0.003747073 \n"
      ]
     },
     "metadata": {},
     "output_type": "display_data"
    }
   ],
   "source": [
    "t.test(firdiff)"
   ]
  },
  {
   "cell_type": "markdown",
   "metadata": {},
   "source": [
    "From t-test we can conclude that mean is not statistically different from zero."
   ]
  },
  {
   "cell_type": "markdown",
   "metadata": {
    "collapsed": true
   },
   "source": [
    "(iv)"
   ]
  },
  {
   "cell_type": "code",
   "execution_count": 9,
   "metadata": {
    "collapsed": false
   },
   "outputs": [
    {
     "data": {
      "text/plain": [
       "\n",
       "\tBox-Ljung test\n",
       "\n",
       "data:  firdiff\n",
       "X-squared = 24.111, df = 12, p-value = 0.01965\n"
      ]
     },
     "metadata": {},
     "output_type": "display_data"
    }
   ],
   "source": [
    "Box.test(firdiff,lag=12,type='Ljung')"
   ]
  },
  {
   "cell_type": "markdown",
   "metadata": {},
   "source": [
    "The p value is .01 which is less than .05. We reject the null hypothesis, there is serial correlation present."
   ]
  },
  {
   "cell_type": "markdown",
   "metadata": {},
   "source": [
    "(v)"
   ]
  },
  {
   "cell_type": "code",
   "execution_count": 10,
   "metadata": {
    "collapsed": true
   },
   "outputs": [],
   "source": [
    "firdiff.ar = ar(firdiff, na.action=na.omit, method = 'mle')"
   ]
  },
  {
   "cell_type": "code",
   "execution_count": 11,
   "metadata": {
    "collapsed": false
   },
   "outputs": [
    {
     "data": {
      "text/html": [
       "5"
      ],
      "text/latex": [
       "5"
      ],
      "text/markdown": [
       "5"
      ],
      "text/plain": [
       "[1] 5"
      ]
     },
     "metadata": {},
     "output_type": "display_data"
    }
   ],
   "source": [
    "firdiff.ar$order"
   ]
  },
  {
   "cell_type": "markdown",
   "metadata": {},
   "source": [
    "The AR model is order 5."
   ]
  },
  {
   "cell_type": "markdown",
   "metadata": {},
   "source": [
    "(vi)"
   ]
  },
  {
   "cell_type": "markdown",
   "metadata": {},
   "source": [
    "AR coeffiecients"
   ]
  },
  {
   "cell_type": "code",
   "execution_count": 12,
   "metadata": {
    "collapsed": false
   },
   "outputs": [
    {
     "data": {
      "text/html": [
       "<ol class=list-inline>\n",
       "\t<li>-0.0498630904553942</li>\n",
       "\t<li>-0.126617943496124</li>\n",
       "\t<li>-0.082967873827306</li>\n",
       "\t<li>-0.0498211893637461</li>\n",
       "\t<li>-0.110665021986876</li>\n",
       "</ol>\n"
      ],
      "text/latex": [
       "\\begin{enumerate*}\n",
       "\\item -0.0498630904553942\n",
       "\\item -0.126617943496124\n",
       "\\item -0.082967873827306\n",
       "\\item -0.0498211893637461\n",
       "\\item -0.110665021986876\n",
       "\\end{enumerate*}\n"
      ],
      "text/markdown": [
       "1. -0.0498630904553942\n",
       "2. -0.126617943496124\n",
       "3. -0.082967873827306\n",
       "4. -0.0498211893637461\n",
       "5. -0.110665021986876\n",
       "\n",
       "\n"
      ],
      "text/plain": [
       "[1] -0.04986309 -0.12661794 -0.08296787 -0.04982119 -0.11066502"
      ]
     },
     "metadata": {},
     "output_type": "display_data"
    }
   ],
   "source": [
    "firdiff.ar$ar"
   ]
  },
  {
   "cell_type": "markdown",
   "metadata": {},
   "source": [
    "All negative coeffiecents corresponding to the the negative ACF for the first 5 lags."
   ]
  },
  {
   "cell_type": "markdown",
   "metadata": {},
   "source": [
    "(vi)"
   ]
  },
  {
   "cell_type": "code",
   "execution_count": 13,
   "metadata": {
    "collapsed": false
   },
   "outputs": [],
   "source": [
    "m1 = arima(firdiff,order=c(5,0,0),include.mean = F);"
   ]
  },
  {
   "cell_type": "code",
   "execution_count": 14,
   "metadata": {
    "collapsed": false
   },
   "outputs": [
    {
     "data": {
      "text/plain": [
       "\n",
       "Call:\n",
       "arima(x = firdiff, order = c(5, 0, 0), include.mean = F)\n",
       "\n",
       "Coefficients:\n",
       "          ar1      ar2      ar3      ar4      ar5\n",
       "      -0.0499  -0.1266  -0.0830  -0.0498  -0.1107\n",
       "s.e.   0.0481   0.0481   0.0483   0.0483   0.0483\n",
       "\n",
       "sigma^2 estimated as 15.46:  log likelihood = -1190.59,  aic = 2393.17"
      ]
     },
     "metadata": {},
     "output_type": "display_data"
    }
   ],
   "source": [
    "m1"
   ]
  },
  {
   "cell_type": "code",
   "execution_count": 15,
   "metadata": {
    "collapsed": false
   },
   "outputs": [
    {
     "data": {
      "image/png": "[encoded data removed]",
      "text/plain": [
       "Plot with title \"p values for Ljung-Box statistic\""
      ]
     },
     "metadata": {},
     "output_type": "display_data"
    }
   ],
   "source": [
    "tsdiag(m1,gof=24)"
   ]
  },
  {
   "cell_type": "markdown",
   "metadata": {},
   "source": [
    "The model explains much of the serial correlation. We do expect 5% of lags to be significant, so lag 12 being significant is not an issue."
   ]
  },
  {
   "cell_type": "markdown",
   "metadata": {},
   "source": [
    "(vi)"
   ]
  },
  {
   "cell_type": "markdown",
   "metadata": {},
   "source": [
    "This model could imply business cycles. Model explained pattern in serial correlation"
   ]
  },
  {
   "cell_type": "markdown",
   "metadata": {},
   "source": [
    "(viii)"
   ]
  },
  {
   "cell_type": "code",
   "execution_count": 16,
   "metadata": {
    "collapsed": false
   },
   "outputs": [
    {
     "name": "stderr",
     "output_type": "stream",
     "text": [
      "Warning message:\n",
      "\"package 'forecast' was built under R version 3.3.3\""
     ]
    }
   ],
   "source": [
    "library(forecast)"
   ]
  },
  {
   "cell_type": "code",
   "execution_count": 17,
   "metadata": {
    "collapsed": false
   },
   "outputs": [
    {
     "data": {
      "text/plain": [
       "    Point Forecast     Lo 80    Hi 80     Lo 95    Hi 95\n",
       "428     -0.1038796 -5.143164 4.935405 -7.810800 7.603041\n",
       "429     -0.5743992 -5.619948 4.471149 -8.290899 7.142101\n",
       "430      0.2851835 -4.799001 5.369368 -7.490406 8.060773\n",
       "431      0.1059215 -4.990650 5.202493 -7.688612 7.900455"
      ]
     },
     "metadata": {},
     "output_type": "display_data"
    }
   ],
   "source": [
    "forecast(m1, h=4)"
   ]
  },
  {
   "cell_type": "markdown",
   "metadata": {},
   "source": [
    "1 period:-0.1038796 95% CI(-7.810800,7.603041)\n",
    "\n",
    "2 period:-0.5743992 95% CI(-8.290899,7.142101)\n",
    "\n",
    "3 period:0.2851835 95% CI(-7.490406,8.060773)\n",
    "\n",
    "4 period:0.1059215 95% CI(-7.688612,7.900455) \n"
   ]
  },
  {
   "cell_type": "markdown",
   "metadata": {},
   "source": [
    "Question 2"
   ]
  },
  {
   "cell_type": "markdown",
   "metadata": {},
   "source": [
    "(i)"
   ]
  },
  {
   "cell_type": "markdown",
   "metadata": {},
   "source": [
    "Only the abs value of t-ratio for ar2 ,ar3,ar5 were greater than 1.2"
   ]
  },
  {
   "cell_type": "code",
   "execution_count": 18,
   "metadata": {
    "collapsed": false
   },
   "outputs": [
    {
     "name": "stderr",
     "output_type": "stream",
     "text": [
      "Warning message in arima(firdiff, order = c(5, 0, 0), fixed = c(0, NA, NA, 0, NA), :\n",
      "\"some AR parameters were fixed: setting transform.pars = FALSE\""
     ]
    }
   ],
   "source": [
    "m1.f = arima(firdiff,order=c(5,0,0), fixed= c(0,NA,NA,0,NA),include.mean = F)"
   ]
  },
  {
   "cell_type": "code",
   "execution_count": 19,
   "metadata": {
    "collapsed": false
   },
   "outputs": [
    {
     "data": {
      "text/plain": [
       "\n",
       "Call:\n",
       "arima(x = firdiff, order = c(5, 0, 0), include.mean = F, fixed = c(0, NA, NA, \n",
       "    0, NA))\n",
       "\n",
       "Coefficients:\n",
       "      ar1      ar2      ar3  ar4      ar5\n",
       "        0  -0.1191  -0.0754    0  -0.1067\n",
       "s.e.    0   0.0479   0.0480    0   0.0483\n",
       "\n",
       "sigma^2 estimated as 15.54:  log likelihood = -1191.59,  aic = 2391.17"
      ]
     },
     "metadata": {},
     "output_type": "display_data"
    }
   ],
   "source": [
    "m1.f"
   ]
  },
  {
   "cell_type": "markdown",
   "metadata": {},
   "source": [
    "(ii)"
   ]
  },
  {
   "cell_type": "code",
   "execution_count": 20,
   "metadata": {
    "collapsed": false
   },
   "outputs": [
    {
     "data": {
      "image/png": "[encoded data removed]",
      "text/plain": [
       "Plot with title \"p values for Ljung-Box statistic\""
      ]
     },
     "metadata": {},
     "output_type": "display_data"
    }
   ],
   "source": [
    "tsdiag(m1.f,gof=24)"
   ]
  },
  {
   "cell_type": "markdown",
   "metadata": {},
   "source": [
    "Yes the same reasoning as for the original model also explains why this model is adequate. Much of the autocorrelation is explained."
   ]
  },
  {
   "cell_type": "markdown",
   "metadata": {},
   "source": [
    "(iii)"
   ]
  },
  {
   "cell_type": "markdown",
   "metadata": {},
   "source": [
    "Comparing both by AIC shows that the fixed model(without a1 and a4) should be preferred, because its AIC is lower, likely due to its fewer parameters. "
   ]
  },
  {
   "cell_type": "markdown",
   "metadata": {},
   "source": [
    "(iv)"
   ]
  },
  {
   "cell_type": "code",
   "execution_count": 21,
   "metadata": {
    "collapsed": true
   },
   "outputs": [],
   "source": [
    "source(\"backtest.R\")"
   ]
  },
  {
   "cell_type": "code",
   "execution_count": 22,
   "metadata": {
    "collapsed": false
   },
   "outputs": [
    {
     "name": "stdout",
     "output_type": "stream",
     "text": [
      "[1] \"RMSE of out-of-sample forecasts\"\n",
      "[1] 4.002229\n",
      "[1] \"Mean absolute error of out-of-sample forecasts\"\n",
      "[1] 3.120026\n"
     ]
    }
   ],
   "source": [
    "m1.bt = backtest(m1,firdiff,380,1)"
   ]
  },
  {
   "cell_type": "code",
   "execution_count": 23,
   "metadata": {
    "collapsed": false
   },
   "outputs": [
    {
     "name": "stdout",
     "output_type": "stream",
     "text": [
      "[1] \"RMSE of out-of-sample forecasts\"\n",
      "[1] 4.002229\n",
      "[1] \"Mean absolute error of out-of-sample forecasts\"\n",
      "[1] 3.120026\n"
     ]
    }
   ],
   "source": [
    "m1.f.bt = backtest(m1.f,firdiff,380,1)"
   ]
  },
  {
   "cell_type": "markdown",
   "metadata": {},
   "source": [
    "Both have the same forecast error."
   ]
  },
  {
   "cell_type": "markdown",
   "metadata": {},
   "source": [
    "Question 3"
   ]
  },
  {
   "cell_type": "markdown",
   "metadata": {},
   "source": [
    "(i)"
   ]
  },
  {
   "cell_type": "code",
   "execution_count": 24,
   "metadata": {
    "collapsed": false
   },
   "outputs": [],
   "source": [
    "d2 = read.table(\"m-unempmean.txt\", header = TRUE)"
   ]
  },
  {
   "cell_type": "code",
   "execution_count": 25,
   "metadata": {
    "collapsed": false
   },
   "outputs": [
    {
     "data": {
      "image/png": "[encoded data removed]",
      "text/plain": [
       "plot without title"
      ]
     },
     "metadata": {},
     "output_type": "display_data"
    }
   ],
   "source": [
    "d2_ts = ts(d2$Value,frequency=12,start=c(1948,1))\n",
    "plot(d2_ts,xlab='year',ylab='Value')"
   ]
  },
  {
   "cell_type": "code",
   "execution_count": 26,
   "metadata": {
    "collapsed": false
   },
   "outputs": [
    {
     "data": {
      "image/png": "[encoded data removed]",
      "text/plain": [
       "Plot with title \"Series  d2$Value\""
      ]
     },
     "metadata": {},
     "output_type": "display_data"
    }
   ],
   "source": [
    "acf(d2$Value)"
   ]
  },
  {
   "cell_type": "markdown",
   "metadata": {},
   "source": [
    "The ACFs of the series are high and decay slowly. So there is unit root in this series."
   ]
  },
  {
   "cell_type": "markdown",
   "metadata": {},
   "source": [
    "(ii)"
   ]
  },
  {
   "cell_type": "code",
   "execution_count": 27,
   "metadata": {
    "collapsed": true
   },
   "outputs": [],
   "source": [
    "rt = diff(d2$Value)"
   ]
  },
  {
   "cell_type": "code",
   "execution_count": 28,
   "metadata": {
    "collapsed": false
   },
   "outputs": [
    {
     "data": {
      "image/png": "[encoded data removed]",
      "text/plain": [
       "plot without title"
      ]
     },
     "metadata": {},
     "output_type": "display_data"
    }
   ],
   "source": [
    "plot(rt,type = \"l\")"
   ]
  },
  {
   "cell_type": "code",
   "execution_count": 29,
   "metadata": {
    "collapsed": false
   },
   "outputs": [
    {
     "data": {
      "text/plain": [
       "\n",
       "\tOne Sample t-test\n",
       "\n",
       "data:  rt\n",
       "t = 1.6507, df = 793, p-value = 0.0992\n",
       "alternative hypothesis: true mean is not equal to 0\n",
       "95 percent confidence interval:\n",
       " -0.006362152  0.073616560\n",
       "sample estimates:\n",
       "mean of x \n",
       "0.0336272 \n"
      ]
     },
     "metadata": {},
     "output_type": "display_data"
    }
   ],
   "source": [
    "t.test(rt)"
   ]
  },
  {
   "cell_type": "markdown",
   "metadata": {},
   "source": [
    "Based on t-test, we fail to reject the null hypothesis. The mean is not statistically different from zero."
   ]
  },
  {
   "cell_type": "markdown",
   "metadata": {},
   "source": [
    "(iii)"
   ]
  },
  {
   "cell_type": "code",
   "execution_count": 30,
   "metadata": {
    "collapsed": true
   },
   "outputs": [],
   "source": [
    "rt.ar = ar(rt, na.action=na.omit, method = 'mle')"
   ]
  },
  {
   "cell_type": "code",
   "execution_count": 31,
   "metadata": {
    "collapsed": false
   },
   "outputs": [
    {
     "data": {
      "text/html": [
       "12"
      ],
      "text/latex": [
       "12"
      ],
      "text/markdown": [
       "12"
      ],
      "text/plain": [
       "[1] 12"
      ]
     },
     "metadata": {},
     "output_type": "display_data"
    },
    {
     "data": {
      "text/html": [
       "<ol class=list-inline>\n",
       "\t<li>-0.136432544257198</li>\n",
       "\t<li>0.11242309371916</li>\n",
       "\t<li>0.107053410664642</li>\n",
       "\t<li>0.115471138912401</li>\n",
       "\t<li>0.0728904991227174</li>\n",
       "\t<li>0.0755586422883852</li>\n",
       "\t<li>0.0894120492498684</li>\n",
       "\t<li>-0.0617882277150185</li>\n",
       "\t<li>0.0681478723328925</li>\n",
       "\t<li>0.0604510590889147</li>\n",
       "\t<li>0.0205295672001107</li>\n",
       "\t<li>-0.0731138610829961</li>\n",
       "</ol>\n"
      ],
      "text/latex": [
       "\\begin{enumerate*}\n",
       "\\item -0.136432544257198\n",
       "\\item 0.11242309371916\n",
       "\\item 0.107053410664642\n",
       "\\item 0.115471138912401\n",
       "\\item 0.0728904991227174\n",
       "\\item 0.0755586422883852\n",
       "\\item 0.0894120492498684\n",
       "\\item -0.0617882277150185\n",
       "\\item 0.0681478723328925\n",
       "\\item 0.0604510590889147\n",
       "\\item 0.0205295672001107\n",
       "\\item -0.0731138610829961\n",
       "\\end{enumerate*}\n"
      ],
      "text/markdown": [
       "1. -0.136432544257198\n",
       "2. 0.11242309371916\n",
       "3. 0.107053410664642\n",
       "4. 0.115471138912401\n",
       "5. 0.0728904991227174\n",
       "6. 0.0755586422883852\n",
       "7. 0.0894120492498684\n",
       "8. -0.0617882277150185\n",
       "9. 0.0681478723328925\n",
       "10. 0.0604510590889147\n",
       "11. 0.0205295672001107\n",
       "12. -0.0731138610829961\n",
       "\n",
       "\n"
      ],
      "text/plain": [
       " [1] -0.13643254  0.11242309  0.10705341  0.11547114  0.07289050  0.07555864\n",
       " [7]  0.08941205 -0.06178823  0.06814787  0.06045106  0.02052957 -0.07311386"
      ]
     },
     "metadata": {},
     "output_type": "display_data"
    }
   ],
   "source": [
    "rt.ar$order\n",
    "rt.ar$ar"
   ]
  },
  {
   "cell_type": "code",
   "execution_count": 32,
   "metadata": {
    "collapsed": true
   },
   "outputs": [],
   "source": [
    "m3 = arima(rt,order=c(12,0,0),include.mean = F)"
   ]
  },
  {
   "cell_type": "code",
   "execution_count": 33,
   "metadata": {
    "collapsed": false,
    "scrolled": true
   },
   "outputs": [
    {
     "data": {
      "image/png": "[encoded data removed]",
      "text/plain": [
       "Plot with title \"p values for Ljung-Box statistic\""
      ]
     },
     "metadata": {},
     "output_type": "display_data"
    }
   ],
   "source": [
    "tsdiag(m3,gof=24)"
   ]
  },
  {
   "cell_type": "markdown",
   "metadata": {},
   "source": [
    "The model explains much of the serial correlation. We do expect 5% of lags to be significant, so lag 24 being significant is not an issue. The model is adequate."
   ]
  },
  {
   "cell_type": "markdown",
   "metadata": {},
   "source": [
    "(iv)"
   ]
  },
  {
   "cell_type": "code",
   "execution_count": 34,
   "metadata": {
    "collapsed": false
   },
   "outputs": [
    {
     "data": {
      "text/plain": [
       "\n",
       "Call:\n",
       "arima(x = rt, order = c(12, 0, 0), include.mean = F)\n",
       "\n",
       "Coefficients:\n",
       "          ar1     ar2     ar3     ar4     ar5     ar6     ar7      ar8     ar9\n",
       "      -0.1351  0.1134  0.1083  0.1165  0.0738  0.0770  0.0903  -0.0609  0.0687\n",
       "s.e.   0.0355  0.0358  0.0361  0.0363  0.0365  0.0366  0.0365   0.0366  0.0365\n",
       "        ar10    ar11     ar12\n",
       "      0.0609  0.0228  -0.0723\n",
       "s.e.  0.0366  0.0364   0.0362\n",
       "\n",
       "sigma^2 estimated as 0.2968:  log likelihood = -644.61,  aic = 1315.22"
      ]
     },
     "metadata": {},
     "output_type": "display_data"
    }
   ],
   "source": [
    "m3"
   ]
  },
  {
   "cell_type": "markdown",
   "metadata": {
    "collapsed": true
   },
   "source": [
    "(v)"
   ]
  },
  {
   "cell_type": "markdown",
   "metadata": {},
   "source": [
    "Seasonal Model"
   ]
  },
  {
   "cell_type": "code",
   "execution_count": 35,
   "metadata": {
    "collapsed": true
   },
   "outputs": [],
   "source": [
    "ms = arima(rt, order = c(2, 0, 1), seasonal =list(order = c(1, 0, 1), period = 12), include.mean = F)"
   ]
  },
  {
   "cell_type": "code",
   "execution_count": 36,
   "metadata": {
    "collapsed": false
   },
   "outputs": [
    {
     "data": {
      "text/plain": [
       "\n",
       "Call:\n",
       "arima(x = rt, order = c(2, 0, 1), seasonal = list(order = c(1, 0, 1), period = 12), \n",
       "    include.mean = F)\n",
       "\n",
       "Coefficients:\n",
       "         ar1     ar2      ma1    sar1     sma1\n",
       "      0.6538  0.2637  -0.8022  0.5662  -0.7429\n",
       "s.e.  0.0478  0.0360   0.0382  0.0755   0.0585\n",
       "\n",
       "sigma^2 estimated as 0.2926:  log likelihood = -639.43,  aic = 1290.85"
      ]
     },
     "metadata": {},
     "output_type": "display_data"
    }
   ],
   "source": [
    "ms"
   ]
  },
  {
   "cell_type": "code",
   "execution_count": 37,
   "metadata": {
    "collapsed": false
   },
   "outputs": [
    {
     "data": {
      "image/png": "[encoded data removed]",
      "text/plain": [
       "Plot with title \"p values for Ljung-Box statistic\""
      ]
     },
     "metadata": {},
     "output_type": "display_data"
    }
   ],
   "source": [
    "tsdiag(ms,gof=24)"
   ]
  },
  {
   "cell_type": "markdown",
   "metadata": {},
   "source": [
    "This seasonal model is adequate. Much of the serial correlation is explained. Lag 8 is most likely significant due to sampling variation."
   ]
  },
  {
   "cell_type": "markdown",
   "metadata": {},
   "source": [
    "(vi)"
   ]
  },
  {
   "cell_type": "markdown",
   "metadata": {},
   "source": [
    "The seasonal model had a better in-sample fit due to its AIC being lower than the AR(12) model."
   ]
  },
  {
   "cell_type": "markdown",
   "metadata": {
    "collapsed": true
   },
   "source": [
    "(vii)"
   ]
  },
  {
   "cell_type": "code",
   "execution_count": 38,
   "metadata": {
    "collapsed": false
   },
   "outputs": [
    {
     "name": "stdout",
     "output_type": "stream",
     "text": [
      "[1] \"RMSE of out-of-sample forecasts\"\n",
      "[1] 0.9434657\n",
      "[1] \"Mean absolute error of out-of-sample forecasts\"\n",
      "[1] 0.7388721\n",
      "[1] \"RMSE of out-of-sample forecasts\"\n",
      "[1] 0.972803\n",
      "[1] \"Mean absolute error of out-of-sample forecasts\"\n",
      "[1] 0.7645786\n"
     ]
    }
   ],
   "source": [
    "ms.bt = backtest(ms,rt,750,1)\n",
    "m3.bt = backtest(m3,rt,750,1)"
   ]
  },
  {
   "cell_type": "markdown",
   "metadata": {},
   "source": [
    "The seasonal model performs better with out of sample forecast due to its RMSE and MAE being smaller."
   ]
  },
  {
   "cell_type": "markdown",
   "metadata": {},
   "source": [
    "Question 4"
   ]
  },
  {
   "cell_type": "markdown",
   "metadata": {},
   "source": [
    "(i)"
   ]
  },
  {
   "cell_type": "code",
   "execution_count": 39,
   "metadata": {
    "collapsed": false
   },
   "outputs": [],
   "source": [
    "da4 = read.table(\"m-coilwtico.txt\", header = TRUE)"
   ]
  },
  {
   "cell_type": "code",
   "execution_count": 40,
   "metadata": {
    "collapsed": false
   },
   "outputs": [
    {
     "data": {
      "image/png": "[encoded data removed]",
      "text/plain": [
       "plot without title"
      ]
     },
     "metadata": {},
     "output_type": "display_data"
    }
   ],
   "source": [
    "da4_ts = ts(da4$VALUE,frequency=12,start=c(1986,1))\n",
    "plot(da4_ts,xlab='year',ylab='Value')"
   ]
  },
  {
   "cell_type": "code",
   "execution_count": 41,
   "metadata": {
    "collapsed": false
   },
   "outputs": [],
   "source": [
    "lgdiff = diff(log(da4$VALUE))"
   ]
  },
  {
   "cell_type": "code",
   "execution_count": 42,
   "metadata": {
    "collapsed": false
   },
   "outputs": [
    {
     "data": {
      "image/png": "[encoded data removed]",
      "text/plain": [
       "plot without title"
      ]
     },
     "metadata": {},
     "output_type": "display_data"
    }
   ],
   "source": [
    "plot(lgdiff, type =\"l\")"
   ]
  },
  {
   "cell_type": "code",
   "execution_count": 43,
   "metadata": {
    "collapsed": false
   },
   "outputs": [
    {
     "data": {
      "image/png": "[encoded data removed]",
      "text/plain": [
       "Plot with title \"Series  lgdiff\""
      ]
     },
     "metadata": {},
     "output_type": "display_data"
    }
   ],
   "source": [
    "acf(lgdiff)"
   ]
  },
  {
   "cell_type": "code",
   "execution_count": 44,
   "metadata": {
    "collapsed": false
   },
   "outputs": [
    {
     "data": {
      "text/plain": [
       "\n",
       "\tBox-Ljung test\n",
       "\n",
       "data:  lgdiff\n",
       "X-squared = 45.355, df = 10, p-value = 1.877e-06\n"
      ]
     },
     "metadata": {},
     "output_type": "display_data"
    }
   ],
   "source": [
    "Box.test(lgdiff,lag=10,type='Ljung')"
   ]
  },
  {
   "cell_type": "markdown",
   "metadata": {},
   "source": [
    "From the Box-Ljung test we reject the null hypothesis of no serial correlation. This model does not explain away the serial correlation. This can be seen in the acf where the second, sixth and fiftenth lag are significant."
   ]
  },
  {
   "cell_type": "markdown",
   "metadata": {},
   "source": [
    "(ii)"
   ]
  },
  {
   "cell_type": "code",
   "execution_count": 45,
   "metadata": {
    "collapsed": true
   },
   "outputs": [],
   "source": [
    "lgdiff.ar = ar(lgdiff, na.action=na.omit, method = 'mle')"
   ]
  },
  {
   "cell_type": "code",
   "execution_count": 46,
   "metadata": {
    "collapsed": false
   },
   "outputs": [
    {
     "data": {
      "text/html": [
       "1"
      ],
      "text/latex": [
       "1"
      ],
      "text/markdown": [
       "1"
      ],
      "text/plain": [
       "[1] 1"
      ]
     },
     "metadata": {},
     "output_type": "display_data"
    }
   ],
   "source": [
    "lgdiff.ar$order"
   ]
  },
  {
   "cell_type": "code",
   "execution_count": 47,
   "metadata": {
    "collapsed": false
   },
   "outputs": [
    {
     "data": {
      "text/html": [
       "0.300118573669837"
      ],
      "text/latex": [
       "0.300118573669837"
      ],
      "text/markdown": [
       "0.300118573669837"
      ],
      "text/plain": [
       "[1] 0.3001186"
      ]
     },
     "metadata": {},
     "output_type": "display_data"
    }
   ],
   "source": [
    "lgdiff.ar$ar"
   ]
  },
  {
   "cell_type": "code",
   "execution_count": 48,
   "metadata": {
    "collapsed": false
   },
   "outputs": [],
   "source": [
    "lgdiff.ar = arima(lgdiff, order = c(1, 0, 0), include.mean = F)"
   ]
  },
  {
   "cell_type": "code",
   "execution_count": 49,
   "metadata": {
    "collapsed": false
   },
   "outputs": [
    {
     "data": {
      "text/plain": [
       "\n",
       "Call:\n",
       "arima(x = lgdiff, order = c(1, 0, 0), include.mean = F)\n",
       "\n",
       "Coefficients:\n",
       "         ar1\n",
       "      0.3002\n",
       "s.e.  0.0517\n",
       "\n",
       "sigma^2 estimated as 0.007018:  log likelihood = 382.87,  aic = -761.74"
      ]
     },
     "metadata": {},
     "output_type": "display_data"
    }
   ],
   "source": [
    "lgdiff.ar"
   ]
  },
  {
   "cell_type": "code",
   "execution_count": 50,
   "metadata": {
    "collapsed": false
   },
   "outputs": [
    {
     "data": {
      "image/png": "[encoded data removed]",
      "text/plain": [
       "Plot with title \"p values for Ljung-Box statistic\""
      ]
     },
     "metadata": {},
     "output_type": "display_data"
    }
   ],
   "source": [
    "tsdiag(lgdiff.ar)"
   ]
  },
  {
   "cell_type": "markdown",
   "metadata": {},
   "source": [
    "This model explains the serial correlation. The AR(1) has explained the serial correlation at lag 1. The only lag that is significant is lag 6. This likely does not mean anything and we expect 5% of lags to be significant anyway."
   ]
  },
  {
   "cell_type": "markdown",
   "metadata": {},
   "source": [
    "(iii)"
   ]
  },
  {
   "cell_type": "code",
   "execution_count": 51,
   "metadata": {
    "collapsed": true
   },
   "outputs": [],
   "source": [
    "m5 = arima(lgdiff, order = c(3, 0, 2), include.mean = F)"
   ]
  },
  {
   "cell_type": "code",
   "execution_count": 52,
   "metadata": {
    "collapsed": false
   },
   "outputs": [
    {
     "data": {
      "text/plain": [
       "\n",
       "Call:\n",
       "arima(x = lgdiff, order = c(3, 0, 2), include.mean = F)\n",
       "\n",
       "Coefficients:\n",
       "         ar1      ar2     ar3      ma1     ma2\n",
       "      0.5016  -1.0560  0.3105  -0.2022  0.9999\n",
       "s.e.  0.0527   0.0117  0.0524   0.0133  0.0109\n",
       "\n",
       "sigma^2 estimated as 0.006865:  log likelihood = 385.18,  aic = -758.37"
      ]
     },
     "metadata": {},
     "output_type": "display_data"
    }
   ],
   "source": [
    "m5"
   ]
  },
  {
   "cell_type": "markdown",
   "metadata": {},
   "source": [
    "Based on in-sample fitting the AR(1) model is preferred due to its AIC being smaller than the ARMA(3,2) AIC."
   ]
  },
  {
   "cell_type": "markdown",
   "metadata": {
    "collapsed": true
   },
   "source": [
    "Question 5"
   ]
  },
  {
   "cell_type": "markdown",
   "metadata": {},
   "source": [
    "(i)"
   ]
  },
  {
   "cell_type": "code",
   "execution_count": 53,
   "metadata": {
    "collapsed": false
   },
   "outputs": [
    {
     "data": {
      "text/html": [
       "<table>\n",
       "<thead><tr><th scope=col>DATE</th><th scope=col>PS_LEVEL</th><th scope=col>PS_INNOV</th><th scope=col>PS_VWF</th></tr></thead>\n",
       "<tbody>\n",
       "\t<tr><td>19620831    </td><td>-0.017627253</td><td> 0.004329826</td><td>-99         </td></tr>\n",
       "\t<tr><td>19620928    </td><td>-0.004085483</td><td> 0.013518034</td><td>-99         </td></tr>\n",
       "\t<tr><td>19621031    </td><td>-0.104229891</td><td>-0.072595301</td><td>-99         </td></tr>\n",
       "\t<tr><td>19621130    </td><td>-0.019620252</td><td> 0.030973926</td><td>-99         </td></tr>\n",
       "\t<tr><td>19621231    </td><td>-0.005288012</td><td> 0.014779172</td><td>-99         </td></tr>\n",
       "\t<tr><td>19630131    </td><td>-0.055790672</td><td> 0.011711929</td><td>-99         </td></tr>\n",
       "\t<tr><td>19630228    </td><td> 0.014402543</td><td> 0.027714666</td><td>-99         </td></tr>\n",
       "\t<tr><td>19630329    </td><td>-0.023372166</td><td>-0.018708041</td><td>-99         </td></tr>\n",
       "\t<tr><td>19630430    </td><td> 0.054126597</td><td> 0.079976796</td><td>-99         </td></tr>\n",
       "\t<tr><td>19630531    </td><td> 0.003541092</td><td>-0.011725728</td><td>-99         </td></tr>\n",
       "\t<tr><td>19630628    </td><td> 0.009591518</td><td> 0.001493525</td><td>-99         </td></tr>\n",
       "\t<tr><td>19630731    </td><td> 0.014324982</td><td> 0.022082170</td><td>-99         </td></tr>\n",
       "\t<tr><td>19630830    </td><td> 0.033767399</td><td> 0.040269337</td><td>-99         </td></tr>\n",
       "\t<tr><td>19630930    </td><td>-0.007538195</td><td> 0.021514475</td><td>-99         </td></tr>\n",
       "\t<tr><td>19631031    </td><td> 0.026805610</td><td> 0.034198811</td><td>-99         </td></tr>\n",
       "\t<tr><td>19631129    </td><td>-0.053130346</td><td>-0.058536018</td><td>-99         </td></tr>\n",
       "\t<tr><td>19631231    </td><td>-0.020570904</td><td> 0.015522011</td><td>-99         </td></tr>\n",
       "\t<tr><td>19640131    </td><td>-0.071359366</td><td>-0.053335223</td><td>-99         </td></tr>\n",
       "\t<tr><td>19640228    </td><td>-0.024746600</td><td> 0.015097805</td><td>-99         </td></tr>\n",
       "\t<tr><td>19640331    </td><td> 0.031386002</td><td> 0.043632214</td><td>-99         </td></tr>\n",
       "\t<tr><td>19640430    </td><td>-0.040663830</td><td>-0.026169597</td><td>-99         </td></tr>\n",
       "\t<tr><td>19640528    </td><td>-0.025722419</td><td>-0.004382887</td><td>-99         </td></tr>\n",
       "\t<tr><td>19640630    </td><td>-0.056559794</td><td>-0.008775452</td><td>-99         </td></tr>\n",
       "\t<tr><td>19640731    </td><td> 0.058182491</td><td> 0.058164328</td><td>-99         </td></tr>\n",
       "\t<tr><td>19640831    </td><td>-0.048509276</td><td>-0.043094792</td><td>-99         </td></tr>\n",
       "\t<tr><td>19640930    </td><td>-0.008161616</td><td> 0.014805747</td><td>-99         </td></tr>\n",
       "\t<tr><td>19641030    </td><td> 0.012932947</td><td> 0.039931642</td><td>-99         </td></tr>\n",
       "\t<tr><td>19641130    </td><td> 0.014885003</td><td>-0.002670145</td><td>-99         </td></tr>\n",
       "\t<tr><td>19641231    </td><td>-0.026728730</td><td>-0.011919462</td><td>-99         </td></tr>\n",
       "\t<tr><td>19650129    </td><td> 0.037920508</td><td> 0.072047655</td><td>-99         </td></tr>\n",
       "\t<tr><td>...</td><td>...</td><td>...</td><td>...</td></tr>\n",
       "\t<tr><td>20110729    </td><td>-0.022752383</td><td> 0.007739380</td><td> 0.019813641</td></tr>\n",
       "\t<tr><td>20110831    </td><td>-0.058754623</td><td>-0.052825482</td><td>-0.042288497</td></tr>\n",
       "\t<tr><td>20110930    </td><td> 0.025495592</td><td> 0.048615398</td><td>-0.075368937</td></tr>\n",
       "\t<tr><td>20111031    </td><td>-0.045890671</td><td> 0.020107629</td><td> 0.078267712</td></tr>\n",
       "\t<tr><td>20111130    </td><td>-0.094145647</td><td>-0.023966739</td><td> 0.027003892</td></tr>\n",
       "\t<tr><td>20111230    </td><td> 0.008947916</td><td> 0.051970612</td><td>-0.067774657</td></tr>\n",
       "\t<tr><td>20120131    </td><td> 0.019560934</td><td> 0.052429547</td><td>-0.023426706</td></tr>\n",
       "\t<tr><td>20120229    </td><td> 0.031888505</td><td> 0.010828742</td><td> 0.019621765</td></tr>\n",
       "\t<tr><td>20120330    </td><td>-0.018776984</td><td>-0.006336692</td><td>-0.073605333</td></tr>\n",
       "\t<tr><td>20120430    </td><td> 0.009275240</td><td>-0.012390436</td><td> 0.002535687</td></tr>\n",
       "\t<tr><td>20120531    </td><td> 0.083093785</td><td>-0.005861755</td><td>-0.016857022</td></tr>\n",
       "\t<tr><td>20120629    </td><td> 0.017916217</td><td>-0.000111304</td><td>-0.000434039</td></tr>\n",
       "\t<tr><td>20120731    </td><td> 0.016491404</td><td> 0.102225756</td><td> 0.002928652</td></tr>\n",
       "\t<tr><td>20120831    </td><td>-0.041707502</td><td>-0.021347842</td><td>-0.011518036</td></tr>\n",
       "\t<tr><td>20120928    </td><td> 0.047363448</td><td> 0.039034689</td><td>-0.005335169</td></tr>\n",
       "\t<tr><td>20121031    </td><td>-0.033238034</td><td>-0.040995666</td><td>-0.008654840</td></tr>\n",
       "\t<tr><td>20121130    </td><td>-0.012847750</td><td>-0.056341699</td><td>-0.001776169</td></tr>\n",
       "\t<tr><td>20121231    </td><td> 0.010393307</td><td> 0.031089589</td><td> 0.008346476</td></tr>\n",
       "\t<tr><td>20130131    </td><td> 0.015600185</td><td> 0.028627651</td><td>-0.023810106</td></tr>\n",
       "\t<tr><td>20130228    </td><td>-0.025118423</td><td>-0.014757569</td><td>-0.020213601</td></tr>\n",
       "\t<tr><td>20130328    </td><td> 0.025632534</td><td> 0.074142427</td><td> 0.026199448</td></tr>\n",
       "\t<tr><td>20130430    </td><td>-0.001288189</td><td>-0.012000380</td><td>-0.037837839</td></tr>\n",
       "\t<tr><td>20130531    </td><td> 0.013053265</td><td> 0.030022216</td><td>-0.012831654</td></tr>\n",
       "\t<tr><td>20130628    </td><td>-0.003605311</td><td> 0.053609247</td><td>-0.008934466</td></tr>\n",
       "\t<tr><td>20130731    </td><td>-0.019082708</td><td> 0.009571570</td><td> 0.005910441</td></tr>\n",
       "\t<tr><td>20130830    </td><td>-0.037169342</td><td> 0.006145171</td><td> 0.023470244</td></tr>\n",
       "\t<tr><td>20130930    </td><td>-0.038915088</td><td>-0.020945362</td><td>-0.004690482</td></tr>\n",
       "\t<tr><td>20131031    </td><td> 0.052477499</td><td> 0.096861762</td><td>-0.006858544</td></tr>\n",
       "\t<tr><td>20131129    </td><td>-0.088081651</td><td> 0.021478379</td><td>-0.038972725</td></tr>\n",
       "\t<tr><td>20131231    </td><td> 0.029965256</td><td> 0.017571482</td><td>-0.005347073</td></tr>\n",
       "</tbody>\n",
       "</table>\n"
      ],
      "text/latex": [
       "\\begin{tabular}{r|llll}\n",
       " DATE & PS\\_LEVEL & PS\\_INNOV & PS\\_VWF\\\\\n",
       "\\hline\n",
       "\t 19620831     & -0.017627253 &  0.004329826 & -99         \\\\\n",
       "\t 19620928     & -0.004085483 &  0.013518034 & -99         \\\\\n",
       "\t 19621031     & -0.104229891 & -0.072595301 & -99         \\\\\n",
       "\t 19621130     & -0.019620252 &  0.030973926 & -99         \\\\\n",
       "\t 19621231     & -0.005288012 &  0.014779172 & -99         \\\\\n",
       "\t 19630131     & -0.055790672 &  0.011711929 & -99         \\\\\n",
       "\t 19630228     &  0.014402543 &  0.027714666 & -99         \\\\\n",
       "\t 19630329     & -0.023372166 & -0.018708041 & -99         \\\\\n",
       "\t 19630430     &  0.054126597 &  0.079976796 & -99         \\\\\n",
       "\t 19630531     &  0.003541092 & -0.011725728 & -99         \\\\\n",
       "\t 19630628     &  0.009591518 &  0.001493525 & -99         \\\\\n",
       "\t 19630731     &  0.014324982 &  0.022082170 & -99         \\\\\n",
       "\t 19630830     &  0.033767399 &  0.040269337 & -99         \\\\\n",
       "\t 19630930     & -0.007538195 &  0.021514475 & -99         \\\\\n",
       "\t 19631031     &  0.026805610 &  0.034198811 & -99         \\\\\n",
       "\t 19631129     & -0.053130346 & -0.058536018 & -99         \\\\\n",
       "\t 19631231     & -0.020570904 &  0.015522011 & -99         \\\\\n",
       "\t 19640131     & -0.071359366 & -0.053335223 & -99         \\\\\n",
       "\t 19640228     & -0.024746600 &  0.015097805 & -99         \\\\\n",
       "\t 19640331     &  0.031386002 &  0.043632214 & -99         \\\\\n",
       "\t 19640430     & -0.040663830 & -0.026169597 & -99         \\\\\n",
       "\t 19640528     & -0.025722419 & -0.004382887 & -99         \\\\\n",
       "\t 19640630     & -0.056559794 & -0.008775452 & -99         \\\\\n",
       "\t 19640731     &  0.058182491 &  0.058164328 & -99         \\\\\n",
       "\t 19640831     & -0.048509276 & -0.043094792 & -99         \\\\\n",
       "\t 19640930     & -0.008161616 &  0.014805747 & -99         \\\\\n",
       "\t 19641030     &  0.012932947 &  0.039931642 & -99         \\\\\n",
       "\t 19641130     &  0.014885003 & -0.002670145 & -99         \\\\\n",
       "\t 19641231     & -0.026728730 & -0.011919462 & -99         \\\\\n",
       "\t 19650129     &  0.037920508 &  0.072047655 & -99         \\\\\n",
       "\t ... & ... & ... & ...\\\\\n",
       "\t 20110729     & -0.022752383 &  0.007739380 &  0.019813641\\\\\n",
       "\t 20110831     & -0.058754623 & -0.052825482 & -0.042288497\\\\\n",
       "\t 20110930     &  0.025495592 &  0.048615398 & -0.075368937\\\\\n",
       "\t 20111031     & -0.045890671 &  0.020107629 &  0.078267712\\\\\n",
       "\t 20111130     & -0.094145647 & -0.023966739 &  0.027003892\\\\\n",
       "\t 20111230     &  0.008947916 &  0.051970612 & -0.067774657\\\\\n",
       "\t 20120131     &  0.019560934 &  0.052429547 & -0.023426706\\\\\n",
       "\t 20120229     &  0.031888505 &  0.010828742 &  0.019621765\\\\\n",
       "\t 20120330     & -0.018776984 & -0.006336692 & -0.073605333\\\\\n",
       "\t 20120430     &  0.009275240 & -0.012390436 &  0.002535687\\\\\n",
       "\t 20120531     &  0.083093785 & -0.005861755 & -0.016857022\\\\\n",
       "\t 20120629     &  0.017916217 & -0.000111304 & -0.000434039\\\\\n",
       "\t 20120731     &  0.016491404 &  0.102225756 &  0.002928652\\\\\n",
       "\t 20120831     & -0.041707502 & -0.021347842 & -0.011518036\\\\\n",
       "\t 20120928     &  0.047363448 &  0.039034689 & -0.005335169\\\\\n",
       "\t 20121031     & -0.033238034 & -0.040995666 & -0.008654840\\\\\n",
       "\t 20121130     & -0.012847750 & -0.056341699 & -0.001776169\\\\\n",
       "\t 20121231     &  0.010393307 &  0.031089589 &  0.008346476\\\\\n",
       "\t 20130131     &  0.015600185 &  0.028627651 & -0.023810106\\\\\n",
       "\t 20130228     & -0.025118423 & -0.014757569 & -0.020213601\\\\\n",
       "\t 20130328     &  0.025632534 &  0.074142427 &  0.026199448\\\\\n",
       "\t 20130430     & -0.001288189 & -0.012000380 & -0.037837839\\\\\n",
       "\t 20130531     &  0.013053265 &  0.030022216 & -0.012831654\\\\\n",
       "\t 20130628     & -0.003605311 &  0.053609247 & -0.008934466\\\\\n",
       "\t 20130731     & -0.019082708 &  0.009571570 &  0.005910441\\\\\n",
       "\t 20130830     & -0.037169342 &  0.006145171 &  0.023470244\\\\\n",
       "\t 20130930     & -0.038915088 & -0.020945362 & -0.004690482\\\\\n",
       "\t 20131031     &  0.052477499 &  0.096861762 & -0.006858544\\\\\n",
       "\t 20131129     & -0.088081651 &  0.021478379 & -0.038972725\\\\\n",
       "\t 20131231     &  0.029965256 &  0.017571482 & -0.005347073\\\\\n",
       "\\end{tabular}\n"
      ],
      "text/markdown": [
       "\n",
       "DATE | PS_LEVEL | PS_INNOV | PS_VWF | \n",
       "|---|---|---|---|---|---|---|---|---|---|---|---|---|---|---|---|---|---|---|---|---|---|---|---|---|---|---|---|---|---|---|---|---|---|---|---|---|---|---|---|---|---|---|---|---|---|---|---|---|---|---|---|---|---|---|---|---|---|---|---|---|\n",
       "| 19620831     | -0.017627253 |  0.004329826 | -99          | \n",
       "| 19620928     | -0.004085483 |  0.013518034 | -99          | \n",
       "| 19621031     | -0.104229891 | -0.072595301 | -99          | \n",
       "| 19621130     | -0.019620252 |  0.030973926 | -99          | \n",
       "| 19621231     | -0.005288012 |  0.014779172 | -99          | \n",
       "| 19630131     | -0.055790672 |  0.011711929 | -99          | \n",
       "| 19630228     |  0.014402543 |  0.027714666 | -99          | \n",
       "| 19630329     | -0.023372166 | -0.018708041 | -99          | \n",
       "| 19630430     |  0.054126597 |  0.079976796 | -99          | \n",
       "| 19630531     |  0.003541092 | -0.011725728 | -99          | \n",
       "| 19630628     |  0.009591518 |  0.001493525 | -99          | \n",
       "| 19630731     |  0.014324982 |  0.022082170 | -99          | \n",
       "| 19630830     |  0.033767399 |  0.040269337 | -99          | \n",
       "| 19630930     | -0.007538195 |  0.021514475 | -99          | \n",
       "| 19631031     |  0.026805610 |  0.034198811 | -99          | \n",
       "| 19631129     | -0.053130346 | -0.058536018 | -99          | \n",
       "| 19631231     | -0.020570904 |  0.015522011 | -99          | \n",
       "| 19640131     | -0.071359366 | -0.053335223 | -99          | \n",
       "| 19640228     | -0.024746600 |  0.015097805 | -99          | \n",
       "| 19640331     |  0.031386002 |  0.043632214 | -99          | \n",
       "| 19640430     | -0.040663830 | -0.026169597 | -99          | \n",
       "| 19640528     | -0.025722419 | -0.004382887 | -99          | \n",
       "| 19640630     | -0.056559794 | -0.008775452 | -99          | \n",
       "| 19640731     |  0.058182491 |  0.058164328 | -99          | \n",
       "| 19640831     | -0.048509276 | -0.043094792 | -99          | \n",
       "| 19640930     | -0.008161616 |  0.014805747 | -99          | \n",
       "| 19641030     |  0.012932947 |  0.039931642 | -99          | \n",
       "| 19641130     |  0.014885003 | -0.002670145 | -99          | \n",
       "| 19641231     | -0.026728730 | -0.011919462 | -99          | \n",
       "| 19650129     |  0.037920508 |  0.072047655 | -99          | \n",
       "| ... | ... | ... | ... | \n",
       "| 20110729     | -0.022752383 |  0.007739380 |  0.019813641 | \n",
       "| 20110831     | -0.058754623 | -0.052825482 | -0.042288497 | \n",
       "| 20110930     |  0.025495592 |  0.048615398 | -0.075368937 | \n",
       "| 20111031     | -0.045890671 |  0.020107629 |  0.078267712 | \n",
       "| 20111130     | -0.094145647 | -0.023966739 |  0.027003892 | \n",
       "| 20111230     |  0.008947916 |  0.051970612 | -0.067774657 | \n",
       "| 20120131     |  0.019560934 |  0.052429547 | -0.023426706 | \n",
       "| 20120229     |  0.031888505 |  0.010828742 |  0.019621765 | \n",
       "| 20120330     | -0.018776984 | -0.006336692 | -0.073605333 | \n",
       "| 20120430     |  0.009275240 | -0.012390436 |  0.002535687 | \n",
       "| 20120531     |  0.083093785 | -0.005861755 | -0.016857022 | \n",
       "| 20120629     |  0.017916217 | -0.000111304 | -0.000434039 | \n",
       "| 20120731     |  0.016491404 |  0.102225756 |  0.002928652 | \n",
       "| 20120831     | -0.041707502 | -0.021347842 | -0.011518036 | \n",
       "| 20120928     |  0.047363448 |  0.039034689 | -0.005335169 | \n",
       "| 20121031     | -0.033238034 | -0.040995666 | -0.008654840 | \n",
       "| 20121130     | -0.012847750 | -0.056341699 | -0.001776169 | \n",
       "| 20121231     |  0.010393307 |  0.031089589 |  0.008346476 | \n",
       "| 20130131     |  0.015600185 |  0.028627651 | -0.023810106 | \n",
       "| 20130228     | -0.025118423 | -0.014757569 | -0.020213601 | \n",
       "| 20130328     |  0.025632534 |  0.074142427 |  0.026199448 | \n",
       "| 20130430     | -0.001288189 | -0.012000380 | -0.037837839 | \n",
       "| 20130531     |  0.013053265 |  0.030022216 | -0.012831654 | \n",
       "| 20130628     | -0.003605311 |  0.053609247 | -0.008934466 | \n",
       "| 20130731     | -0.019082708 |  0.009571570 |  0.005910441 | \n",
       "| 20130830     | -0.037169342 |  0.006145171 |  0.023470244 | \n",
       "| 20130930     | -0.038915088 | -0.020945362 | -0.004690482 | \n",
       "| 20131031     |  0.052477499 |  0.096861762 | -0.006858544 | \n",
       "| 20131129     | -0.088081651 |  0.021478379 | -0.038972725 | \n",
       "| 20131231     |  0.029965256 |  0.017571482 | -0.005347073 | \n",
       "\n",
       "\n"
      ],
      "text/plain": [
       "    DATE     PS_LEVEL     PS_INNOV     PS_VWF      \n",
       "1   19620831 -0.017627253  0.004329826 -99         \n",
       "2   19620928 -0.004085483  0.013518034 -99         \n",
       "3   19621031 -0.104229891 -0.072595301 -99         \n",
       "4   19621130 -0.019620252  0.030973926 -99         \n",
       "5   19621231 -0.005288012  0.014779172 -99         \n",
       "6   19630131 -0.055790672  0.011711929 -99         \n",
       "7   19630228  0.014402543  0.027714666 -99         \n",
       "8   19630329 -0.023372166 -0.018708041 -99         \n",
       "9   19630430  0.054126597  0.079976796 -99         \n",
       "10  19630531  0.003541092 -0.011725728 -99         \n",
       "11  19630628  0.009591518  0.001493525 -99         \n",
       "12  19630731  0.014324982  0.022082170 -99         \n",
       "13  19630830  0.033767399  0.040269337 -99         \n",
       "14  19630930 -0.007538195  0.021514475 -99         \n",
       "15  19631031  0.026805610  0.034198811 -99         \n",
       "16  19631129 -0.053130346 -0.058536018 -99         \n",
       "17  19631231 -0.020570904  0.015522011 -99         \n",
       "18  19640131 -0.071359366 -0.053335223 -99         \n",
       "19  19640228 -0.024746600  0.015097805 -99         \n",
       "20  19640331  0.031386002  0.043632214 -99         \n",
       "21  19640430 -0.040663830 -0.026169597 -99         \n",
       "22  19640528 -0.025722419 -0.004382887 -99         \n",
       "23  19640630 -0.056559794 -0.008775452 -99         \n",
       "24  19640731  0.058182491  0.058164328 -99         \n",
       "25  19640831 -0.048509276 -0.043094792 -99         \n",
       "26  19640930 -0.008161616  0.014805747 -99         \n",
       "27  19641030  0.012932947  0.039931642 -99         \n",
       "28  19641130  0.014885003 -0.002670145 -99         \n",
       "29  19641231 -0.026728730 -0.011919462 -99         \n",
       "30  19650129  0.037920508  0.072047655 -99         \n",
       "... ...      ...          ...          ...         \n",
       "588 20110729 -0.022752383  0.007739380  0.019813641\n",
       "589 20110831 -0.058754623 -0.052825482 -0.042288497\n",
       "590 20110930  0.025495592  0.048615398 -0.075368937\n",
       "591 20111031 -0.045890671  0.020107629  0.078267712\n",
       "592 20111130 -0.094145647 -0.023966739  0.027003892\n",
       "593 20111230  0.008947916  0.051970612 -0.067774657\n",
       "594 20120131  0.019560934  0.052429547 -0.023426706\n",
       "595 20120229  0.031888505  0.010828742  0.019621765\n",
       "596 20120330 -0.018776984 -0.006336692 -0.073605333\n",
       "597 20120430  0.009275240 -0.012390436  0.002535687\n",
       "598 20120531  0.083093785 -0.005861755 -0.016857022\n",
       "599 20120629  0.017916217 -0.000111304 -0.000434039\n",
       "600 20120731  0.016491404  0.102225756  0.002928652\n",
       "601 20120831 -0.041707502 -0.021347842 -0.011518036\n",
       "602 20120928  0.047363448  0.039034689 -0.005335169\n",
       "603 20121031 -0.033238034 -0.040995666 -0.008654840\n",
       "604 20121130 -0.012847750 -0.056341699 -0.001776169\n",
       "605 20121231  0.010393307  0.031089589  0.008346476\n",
       "606 20130131  0.015600185  0.028627651 -0.023810106\n",
       "607 20130228 -0.025118423 -0.014757569 -0.020213601\n",
       "608 20130328  0.025632534  0.074142427  0.026199448\n",
       "609 20130430 -0.001288189 -0.012000380 -0.037837839\n",
       "610 20130531  0.013053265  0.030022216 -0.012831654\n",
       "611 20130628 -0.003605311  0.053609247 -0.008934466\n",
       "612 20130731 -0.019082708  0.009571570  0.005910441\n",
       "613 20130830 -0.037169342  0.006145171  0.023470244\n",
       "614 20130930 -0.038915088 -0.020945362 -0.004690482\n",
       "615 20131031  0.052477499  0.096861762 -0.006858544\n",
       "616 20131129 -0.088081651  0.021478379 -0.038972725\n",
       "617 20131231  0.029965256  0.017571482 -0.005347073"
      ]
     },
     "metadata": {},
     "output_type": "display_data"
    }
   ],
   "source": [
    "da5 = read.table(\"m-PastorStambaugh.txt\", header = TRUE)\n",
    "da5"
   ]
  },
  {
   "cell_type": "code",
   "execution_count": 54,
   "metadata": {
    "collapsed": false
   },
   "outputs": [
    {
     "data": {
      "image/png": "[encoded data removed]",
      "text/plain": [
       "plot without title"
      ]
     },
     "metadata": {},
     "output_type": "display_data"
    }
   ],
   "source": [
    "da5_ts = ts(da5$PS_LEVEL,frequency=12,start=c(1962,1))\n",
    "plot(da5_ts,type='l',xlab='year',ylab='PS_LEVEL')"
   ]
  },
  {
   "cell_type": "code",
   "execution_count": 55,
   "metadata": {
    "collapsed": false
   },
   "outputs": [
    {
     "data": {
      "image/png": "[encoded data removed]",
      "text/plain": [
       "Plot with title \"Series  da5$PS_LEVEL\""
      ]
     },
     "metadata": {},
     "output_type": "display_data"
    }
   ],
   "source": [
    "acf(da5$PS_LEVEL)"
   ]
  },
  {
   "cell_type": "code",
   "execution_count": 56,
   "metadata": {
    "collapsed": false
   },
   "outputs": [
    {
     "data": {
      "image/png": "[encoded data removed]",
      "text/plain": [
       "Plot with title \"Series  da5$PS_LEVEL\""
      ]
     },
     "metadata": {},
     "output_type": "display_data"
    }
   ],
   "source": [
    "pacf(da5$PS_LEVEL)"
   ]
  },
  {
   "cell_type": "markdown",
   "metadata": {},
   "source": [
    "(ii)"
   ]
  },
  {
   "cell_type": "code",
   "execution_count": 57,
   "metadata": {
    "collapsed": true
   },
   "outputs": [],
   "source": [
    "ps.ar = ar(da5$PS_LEVEL, na.action=na.omit, method = 'mle')"
   ]
  },
  {
   "cell_type": "code",
   "execution_count": 58,
   "metadata": {
    "collapsed": false
   },
   "outputs": [
    {
     "data": {
      "text/html": [
       "5"
      ],
      "text/latex": [
       "5"
      ],
      "text/markdown": [
       "5"
      ],
      "text/plain": [
       "[1] 5"
      ]
     },
     "metadata": {},
     "output_type": "display_data"
    }
   ],
   "source": [
    "ps.ar$order"
   ]
  },
  {
   "cell_type": "code",
   "execution_count": 59,
   "metadata": {
    "collapsed": false
   },
   "outputs": [
    {
     "data": {
      "text/html": [
       "<ol class=list-inline>\n",
       "\t<li>0.0590623251575487</li>\n",
       "\t<li>0.188305203645285</li>\n",
       "\t<li>0.132293690322494</li>\n",
       "\t<li>0.012741820532374</li>\n",
       "\t<li>0.109144583269799</li>\n",
       "</ol>\n"
      ],
      "text/latex": [
       "\\begin{enumerate*}\n",
       "\\item 0.0590623251575487\n",
       "\\item 0.188305203645285\n",
       "\\item 0.132293690322494\n",
       "\\item 0.012741820532374\n",
       "\\item 0.109144583269799\n",
       "\\end{enumerate*}\n"
      ],
      "text/markdown": [
       "1. 0.0590623251575487\n",
       "2. 0.188305203645285\n",
       "3. 0.132293690322494\n",
       "4. 0.012741820532374\n",
       "5. 0.109144583269799\n",
       "\n",
       "\n"
      ],
      "text/plain": [
       "[1] 0.05906233 0.18830520 0.13229369 0.01274182 0.10914458"
      ]
     },
     "metadata": {},
     "output_type": "display_data"
    }
   ],
   "source": [
    "ps.ar$ar"
   ]
  },
  {
   "cell_type": "code",
   "execution_count": 60,
   "metadata": {
    "collapsed": false
   },
   "outputs": [],
   "source": [
    "ps.ar= arima(da5$PS_LEVEL,order = c(5,0,0))"
   ]
  },
  {
   "cell_type": "code",
   "execution_count": 61,
   "metadata": {
    "collapsed": false
   },
   "outputs": [
    {
     "data": {
      "text/plain": [
       "\n",
       "Call:\n",
       "arima(x = da5$PS_LEVEL, order = c(5, 0, 0))\n",
       "\n",
       "Coefficients:\n",
       "        ar1     ar2     ar3     ar4     ar5  intercept\n",
       "      0.059  0.1883  0.1323  0.0127  0.1092    -0.0301\n",
       "s.e.  0.040  0.0401  0.0405  0.0401  0.0400     0.0048\n",
       "\n",
       "sigma^2 estimated as 0.003516:  log likelihood = 867.57,  aic = -1721.14"
      ]
     },
     "metadata": {},
     "output_type": "display_data"
    }
   ],
   "source": [
    "ps.ar"
   ]
  },
  {
   "cell_type": "code",
   "execution_count": 62,
   "metadata": {
    "collapsed": false
   },
   "outputs": [
    {
     "data": {
      "image/png": "[encoded data removed]",
      "text/plain": [
       "Plot with title \"p values for Ljung-Box statistic\""
      ]
     },
     "metadata": {},
     "output_type": "display_data"
    }
   ],
   "source": [
    "tsdiag(ps.ar, gof = 24)"
   ]
  },
  {
   "cell_type": "markdown",
   "metadata": {},
   "source": [
    "Yes, this model is adequate based on acf and pvalues of Ljung-Box."
   ]
  },
  {
   "cell_type": "markdown",
   "metadata": {},
   "source": [
    "(iii)"
   ]
  },
  {
   "cell_type": "markdown",
   "metadata": {},
   "source": [
    "Outlier"
   ]
  },
  {
   "cell_type": "code",
   "execution_count": 63,
   "metadata": {
    "collapsed": false
   },
   "outputs": [
    {
     "data": {
      "text/html": [
       "303"
      ],
      "text/latex": [
       "303"
      ],
      "text/markdown": [
       "303"
      ],
      "text/plain": [
       "[1] 303"
      ]
     },
     "metadata": {},
     "output_type": "display_data"
    },
    {
     "data": {
      "text/html": [
       "-0.461006635"
      ],
      "text/latex": [
       "-0.461006635"
      ],
      "text/markdown": [
       "-0.461006635"
      ],
      "text/plain": [
       "[1] -0.4610066"
      ]
     },
     "metadata": {},
     "output_type": "display_data"
    }
   ],
   "source": [
    "which.min(da5$PS_LEVEL)\n",
    "min(da5$PS_LEVEL)"
   ]
  },
  {
   "cell_type": "markdown",
   "metadata": {},
   "source": [
    "Create an indicator variable for Outlier"
   ]
  },
  {
   "cell_type": "code",
   "execution_count": 64,
   "metadata": {
    "collapsed": true
   },
   "outputs": [],
   "source": [
    "ind = rep(0,617)\n",
    "ind[303] = 1"
   ]
  },
  {
   "cell_type": "code",
   "execution_count": 65,
   "metadata": {
    "collapsed": false
   },
   "outputs": [],
   "source": [
    "ps.ar = arima(da5$PS_LEVEL,order = c(5,0,0), xreg = ind)"
   ]
  },
  {
   "cell_type": "code",
   "execution_count": 66,
   "metadata": {
    "collapsed": false
   },
   "outputs": [
    {
     "data": {
      "text/plain": [
       "\n",
       "Call:\n",
       "arima(x = da5$PS_LEVEL, order = c(5, 0, 0), xreg = ind)\n",
       "\n",
       "Coefficients:\n",
       "         ar1    ar2     ar3     ar4     ar5  intercept      ind\n",
       "      0.0618  0.191  0.1320  0.0185  0.1254    -0.0294  -0.4255\n",
       "s.e.  0.0399  0.040  0.0405  0.0401  0.0400     0.0048   0.0547\n",
       "\n",
       "sigma^2 estimated as 0.003202:  log likelihood = 896.4,  aic = -1776.79"
      ]
     },
     "metadata": {},
     "output_type": "display_data"
    }
   ],
   "source": [
    "ps.ar"
   ]
  },
  {
   "cell_type": "markdown",
   "metadata": {},
   "source": [
    "(iv)"
   ]
  },
  {
   "cell_type": "markdown",
   "metadata": {},
   "source": [
    "Based on the t-ratios, ar4 is the the least significant parameter.\n",
    "\n",
    "min t-ratio: 0.461346633416459"
   ]
  },
  {
   "cell_type": "code",
   "execution_count": 67,
   "metadata": {
    "collapsed": false
   },
   "outputs": [
    {
     "name": "stderr",
     "output_type": "stream",
     "text": [
      "Warning message in arima(da5$PS_LEVEL, order = c(5, 0, 0), xreg = ind, fixed = c(NA, :\n",
      "\"some AR parameters were fixed: setting transform.pars = FALSE\""
     ]
    }
   ],
   "source": [
    "ps.ar = arima(da5$PS_LEVEL,order = c(5,0,0), xreg = ind, fixed = c(NA,NA,NA,0,NA,NA,NA))"
   ]
  },
  {
   "cell_type": "markdown",
   "metadata": {},
   "source": [
    "Revised model"
   ]
  },
  {
   "cell_type": "code",
   "execution_count": 68,
   "metadata": {
    "collapsed": false
   },
   "outputs": [
    {
     "data": {
      "text/plain": [
       "\n",
       "Call:\n",
       "arima(x = da5$PS_LEVEL, order = c(5, 0, 0), xreg = ind, fixed = c(NA, NA, NA, \n",
       "    0, NA, NA, NA))\n",
       "\n",
       "Coefficients:\n",
       "         ar1     ar2     ar3  ar4     ar5  intercept      ind\n",
       "      0.0648  0.1948  0.1331    0  0.1266    -0.0295  -0.4247\n",
       "s.e.  0.0394  0.0392  0.0405    0  0.0399     0.0047   0.0546\n",
       "\n",
       "sigma^2 estimated as 0.003203:  log likelihood = 896.29,  aic = -1778.58"
      ]
     },
     "metadata": {},
     "output_type": "display_data"
    }
   ],
   "source": [
    "ps.ar"
   ]
  },
  {
   "cell_type": "markdown",
   "metadata": {},
   "source": [
    "AIC for revised model is smaller than AR(5). Revised model has better in-sample fit.   "
   ]
  },
  {
   "cell_type": "markdown",
   "metadata": {},
   "source": [
    "Question 6"
   ]
  },
  {
   "cell_type": "markdown",
   "metadata": {},
   "source": [
    "(i)"
   ]
  },
  {
   "cell_type": "code",
   "execution_count": 69,
   "metadata": {
    "collapsed": true
   },
   "outputs": [],
   "source": [
    "da6 = read.table(\"q-earn-msft.txt\", header = TRUE)"
   ]
  },
  {
   "cell_type": "code",
   "execution_count": 70,
   "metadata": {
    "collapsed": false
   },
   "outputs": [
    {
     "data": {
      "text/html": [
       "<table>\n",
       "<thead><tr><th scope=col>yr</th><th scope=col>qr</th><th scope=col>value</th></tr></thead>\n",
       "<tbody>\n",
       "\t<tr><td>1986  </td><td>2     </td><td>0.0015</td></tr>\n",
       "\t<tr><td>1986  </td><td>3     </td><td>0.0020</td></tr>\n",
       "\t<tr><td>1986  </td><td>4     </td><td>0.0024</td></tr>\n",
       "\t<tr><td>1987  </td><td>1     </td><td>0.0022</td></tr>\n",
       "\t<tr><td>1987  </td><td>2     </td><td>0.0027</td></tr>\n",
       "\t<tr><td>1987  </td><td>3     </td><td>0.0044</td></tr>\n",
       "\t<tr><td>1987  </td><td>4     </td><td>0.0046</td></tr>\n",
       "\t<tr><td>1988  </td><td>1     </td><td>0.0038</td></tr>\n",
       "\t<tr><td>1988  </td><td>2     </td><td>0.0045</td></tr>\n",
       "\t<tr><td>1988  </td><td>3     </td><td>0.0058</td></tr>\n",
       "\t<tr><td>1988  </td><td>4     </td><td>0.0051</td></tr>\n",
       "\t<tr><td>1989  </td><td>1     </td><td>0.0056</td></tr>\n",
       "\t<tr><td>1989  </td><td>2     </td><td>0.0061</td></tr>\n",
       "\t<tr><td>1989  </td><td>3     </td><td>0.0087</td></tr>\n",
       "\t<tr><td>1989  </td><td>4     </td><td>0.0086</td></tr>\n",
       "\t<tr><td>1990  </td><td>1     </td><td>0.0090</td></tr>\n",
       "\t<tr><td>1990  </td><td>2     </td><td>0.0097</td></tr>\n",
       "\t<tr><td>1990  </td><td>3     </td><td>0.0127</td></tr>\n",
       "\t<tr><td>1990  </td><td>4     </td><td>0.0136</td></tr>\n",
       "\t<tr><td>1991  </td><td>1     </td><td>0.0153</td></tr>\n",
       "\t<tr><td>1991  </td><td>2     </td><td>0.0156</td></tr>\n",
       "\t<tr><td>1991  </td><td>3     </td><td>0.0187</td></tr>\n",
       "\t<tr><td>1991  </td><td>4     </td><td>0.0188</td></tr>\n",
       "\t<tr><td>1992  </td><td>1     </td><td>0.0222</td></tr>\n",
       "\t<tr><td>1992  </td><td>2     </td><td>0.0218</td></tr>\n",
       "\t<tr><td>1992  </td><td>3     </td><td>0.0243</td></tr>\n",
       "\t<tr><td>1992  </td><td>4     </td><td>0.0250</td></tr>\n",
       "\t<tr><td>1993  </td><td>1     </td><td>0.0272</td></tr>\n",
       "\t<tr><td>1993  </td><td>2     </td><td>0.0247</td></tr>\n",
       "\t<tr><td>1993  </td><td>3     </td><td>0.0297</td></tr>\n",
       "\t<tr><td>...</td><td>...</td><td>...</td></tr>\n",
       "\t<tr><td>2006</td><td>2   </td><td>0.35</td></tr>\n",
       "\t<tr><td>2006</td><td>3   </td><td>0.26</td></tr>\n",
       "\t<tr><td>2006</td><td>4   </td><td>0.49</td></tr>\n",
       "\t<tr><td>2007</td><td>1   </td><td>0.39</td></tr>\n",
       "\t<tr><td>2007</td><td>2   </td><td>0.45</td></tr>\n",
       "\t<tr><td>2007</td><td>3   </td><td>0.50</td></tr>\n",
       "\t<tr><td>2007</td><td>4   </td><td>0.47</td></tr>\n",
       "\t<tr><td>2008</td><td>1   </td><td>0.46</td></tr>\n",
       "\t<tr><td>2008</td><td>2   </td><td>0.48</td></tr>\n",
       "\t<tr><td>2008</td><td>3   </td><td>0.47</td></tr>\n",
       "\t<tr><td>2008</td><td>4   </td><td>0.39</td></tr>\n",
       "\t<tr><td>2009</td><td>1   </td><td>0.36</td></tr>\n",
       "\t<tr><td>2009</td><td>2   </td><td>0.40</td></tr>\n",
       "\t<tr><td>2009</td><td>3   </td><td>0.74</td></tr>\n",
       "\t<tr><td>2009</td><td>4   </td><td>0.45</td></tr>\n",
       "\t<tr><td>2010</td><td>1   </td><td>0.51</td></tr>\n",
       "\t<tr><td>2010</td><td>2   </td><td>0.62</td></tr>\n",
       "\t<tr><td>2010</td><td>3   </td><td>0.77</td></tr>\n",
       "\t<tr><td>2010</td><td>4   </td><td>0.56</td></tr>\n",
       "\t<tr><td>2011</td><td>1   </td><td>0.69</td></tr>\n",
       "\t<tr><td>2011</td><td>2   </td><td>0.68</td></tr>\n",
       "\t<tr><td>2011</td><td>3   </td><td>0.78</td></tr>\n",
       "\t<tr><td>2011</td><td>4   </td><td>0.60</td></tr>\n",
       "\t<tr><td>2012</td><td>1   </td><td>0.67</td></tr>\n",
       "\t<tr><td>2012</td><td>2   </td><td>0.53</td></tr>\n",
       "\t<tr><td>2012</td><td>3   </td><td>0.76</td></tr>\n",
       "\t<tr><td>2012</td><td>4   </td><td>0.72</td></tr>\n",
       "\t<tr><td>2013</td><td>1   </td><td>0.66</td></tr>\n",
       "\t<tr><td>2013</td><td>2   </td><td>0.62</td></tr>\n",
       "\t<tr><td>2013</td><td>3   </td><td>0.78</td></tr>\n",
       "</tbody>\n",
       "</table>\n"
      ],
      "text/latex": [
       "\\begin{tabular}{r|lll}\n",
       " yr & qr & value\\\\\n",
       "\\hline\n",
       "\t 1986   & 2      & 0.0015\\\\\n",
       "\t 1986   & 3      & 0.0020\\\\\n",
       "\t 1986   & 4      & 0.0024\\\\\n",
       "\t 1987   & 1      & 0.0022\\\\\n",
       "\t 1987   & 2      & 0.0027\\\\\n",
       "\t 1987   & 3      & 0.0044\\\\\n",
       "\t 1987   & 4      & 0.0046\\\\\n",
       "\t 1988   & 1      & 0.0038\\\\\n",
       "\t 1988   & 2      & 0.0045\\\\\n",
       "\t 1988   & 3      & 0.0058\\\\\n",
       "\t 1988   & 4      & 0.0051\\\\\n",
       "\t 1989   & 1      & 0.0056\\\\\n",
       "\t 1989   & 2      & 0.0061\\\\\n",
       "\t 1989   & 3      & 0.0087\\\\\n",
       "\t 1989   & 4      & 0.0086\\\\\n",
       "\t 1990   & 1      & 0.0090\\\\\n",
       "\t 1990   & 2      & 0.0097\\\\\n",
       "\t 1990   & 3      & 0.0127\\\\\n",
       "\t 1990   & 4      & 0.0136\\\\\n",
       "\t 1991   & 1      & 0.0153\\\\\n",
       "\t 1991   & 2      & 0.0156\\\\\n",
       "\t 1991   & 3      & 0.0187\\\\\n",
       "\t 1991   & 4      & 0.0188\\\\\n",
       "\t 1992   & 1      & 0.0222\\\\\n",
       "\t 1992   & 2      & 0.0218\\\\\n",
       "\t 1992   & 3      & 0.0243\\\\\n",
       "\t 1992   & 4      & 0.0250\\\\\n",
       "\t 1993   & 1      & 0.0272\\\\\n",
       "\t 1993   & 2      & 0.0247\\\\\n",
       "\t 1993   & 3      & 0.0297\\\\\n",
       "\t ... & ... & ...\\\\\n",
       "\t 2006 & 2    & 0.35\\\\\n",
       "\t 2006 & 3    & 0.26\\\\\n",
       "\t 2006 & 4    & 0.49\\\\\n",
       "\t 2007 & 1    & 0.39\\\\\n",
       "\t 2007 & 2    & 0.45\\\\\n",
       "\t 2007 & 3    & 0.50\\\\\n",
       "\t 2007 & 4    & 0.47\\\\\n",
       "\t 2008 & 1    & 0.46\\\\\n",
       "\t 2008 & 2    & 0.48\\\\\n",
       "\t 2008 & 3    & 0.47\\\\\n",
       "\t 2008 & 4    & 0.39\\\\\n",
       "\t 2009 & 1    & 0.36\\\\\n",
       "\t 2009 & 2    & 0.40\\\\\n",
       "\t 2009 & 3    & 0.74\\\\\n",
       "\t 2009 & 4    & 0.45\\\\\n",
       "\t 2010 & 1    & 0.51\\\\\n",
       "\t 2010 & 2    & 0.62\\\\\n",
       "\t 2010 & 3    & 0.77\\\\\n",
       "\t 2010 & 4    & 0.56\\\\\n",
       "\t 2011 & 1    & 0.69\\\\\n",
       "\t 2011 & 2    & 0.68\\\\\n",
       "\t 2011 & 3    & 0.78\\\\\n",
       "\t 2011 & 4    & 0.60\\\\\n",
       "\t 2012 & 1    & 0.67\\\\\n",
       "\t 2012 & 2    & 0.53\\\\\n",
       "\t 2012 & 3    & 0.76\\\\\n",
       "\t 2012 & 4    & 0.72\\\\\n",
       "\t 2013 & 1    & 0.66\\\\\n",
       "\t 2013 & 2    & 0.62\\\\\n",
       "\t 2013 & 3    & 0.78\\\\\n",
       "\\end{tabular}\n"
      ],
      "text/markdown": [
       "\n",
       "yr | qr | value | \n",
       "|---|---|---|---|---|---|---|---|---|---|---|---|---|---|---|---|---|---|---|---|---|---|---|---|---|---|---|---|---|---|---|---|---|---|---|---|---|---|---|---|---|---|---|---|---|---|---|---|---|---|---|---|---|---|---|---|---|---|---|---|---|\n",
       "| 1986   | 2      | 0.0015 | \n",
       "| 1986   | 3      | 0.0020 | \n",
       "| 1986   | 4      | 0.0024 | \n",
       "| 1987   | 1      | 0.0022 | \n",
       "| 1987   | 2      | 0.0027 | \n",
       "| 1987   | 3      | 0.0044 | \n",
       "| 1987   | 4      | 0.0046 | \n",
       "| 1988   | 1      | 0.0038 | \n",
       "| 1988   | 2      | 0.0045 | \n",
       "| 1988   | 3      | 0.0058 | \n",
       "| 1988   | 4      | 0.0051 | \n",
       "| 1989   | 1      | 0.0056 | \n",
       "| 1989   | 2      | 0.0061 | \n",
       "| 1989   | 3      | 0.0087 | \n",
       "| 1989   | 4      | 0.0086 | \n",
       "| 1990   | 1      | 0.0090 | \n",
       "| 1990   | 2      | 0.0097 | \n",
       "| 1990   | 3      | 0.0127 | \n",
       "| 1990   | 4      | 0.0136 | \n",
       "| 1991   | 1      | 0.0153 | \n",
       "| 1991   | 2      | 0.0156 | \n",
       "| 1991   | 3      | 0.0187 | \n",
       "| 1991   | 4      | 0.0188 | \n",
       "| 1992   | 1      | 0.0222 | \n",
       "| 1992   | 2      | 0.0218 | \n",
       "| 1992   | 3      | 0.0243 | \n",
       "| 1992   | 4      | 0.0250 | \n",
       "| 1993   | 1      | 0.0272 | \n",
       "| 1993   | 2      | 0.0247 | \n",
       "| 1993   | 3      | 0.0297 | \n",
       "| ... | ... | ... | \n",
       "| 2006 | 2    | 0.35 | \n",
       "| 2006 | 3    | 0.26 | \n",
       "| 2006 | 4    | 0.49 | \n",
       "| 2007 | 1    | 0.39 | \n",
       "| 2007 | 2    | 0.45 | \n",
       "| 2007 | 3    | 0.50 | \n",
       "| 2007 | 4    | 0.47 | \n",
       "| 2008 | 1    | 0.46 | \n",
       "| 2008 | 2    | 0.48 | \n",
       "| 2008 | 3    | 0.47 | \n",
       "| 2008 | 4    | 0.39 | \n",
       "| 2009 | 1    | 0.36 | \n",
       "| 2009 | 2    | 0.40 | \n",
       "| 2009 | 3    | 0.74 | \n",
       "| 2009 | 4    | 0.45 | \n",
       "| 2010 | 1    | 0.51 | \n",
       "| 2010 | 2    | 0.62 | \n",
       "| 2010 | 3    | 0.77 | \n",
       "| 2010 | 4    | 0.56 | \n",
       "| 2011 | 1    | 0.69 | \n",
       "| 2011 | 2    | 0.68 | \n",
       "| 2011 | 3    | 0.78 | \n",
       "| 2011 | 4    | 0.60 | \n",
       "| 2012 | 1    | 0.67 | \n",
       "| 2012 | 2    | 0.53 | \n",
       "| 2012 | 3    | 0.76 | \n",
       "| 2012 | 4    | 0.72 | \n",
       "| 2013 | 1    | 0.66 | \n",
       "| 2013 | 2    | 0.62 | \n",
       "| 2013 | 3    | 0.78 | \n",
       "\n",
       "\n"
      ],
      "text/plain": [
       "    yr   qr  value \n",
       "1   1986 2   0.0015\n",
       "2   1986 3   0.0020\n",
       "3   1986 4   0.0024\n",
       "4   1987 1   0.0022\n",
       "5   1987 2   0.0027\n",
       "6   1987 3   0.0044\n",
       "7   1987 4   0.0046\n",
       "8   1988 1   0.0038\n",
       "9   1988 2   0.0045\n",
       "10  1988 3   0.0058\n",
       "11  1988 4   0.0051\n",
       "12  1989 1   0.0056\n",
       "13  1989 2   0.0061\n",
       "14  1989 3   0.0087\n",
       "15  1989 4   0.0086\n",
       "16  1990 1   0.0090\n",
       "17  1990 2   0.0097\n",
       "18  1990 3   0.0127\n",
       "19  1990 4   0.0136\n",
       "20  1991 1   0.0153\n",
       "21  1991 2   0.0156\n",
       "22  1991 3   0.0187\n",
       "23  1991 4   0.0188\n",
       "24  1992 1   0.0222\n",
       "25  1992 2   0.0218\n",
       "26  1992 3   0.0243\n",
       "27  1992 4   0.0250\n",
       "28  1993 1   0.0272\n",
       "29  1993 2   0.0247\n",
       "30  1993 3   0.0297\n",
       "... ...  ... ...   \n",
       "81  2006 2   0.35  \n",
       "82  2006 3   0.26  \n",
       "83  2006 4   0.49  \n",
       "84  2007 1   0.39  \n",
       "85  2007 2   0.45  \n",
       "86  2007 3   0.50  \n",
       "87  2007 4   0.47  \n",
       "88  2008 1   0.46  \n",
       "89  2008 2   0.48  \n",
       "90  2008 3   0.47  \n",
       "91  2008 4   0.39  \n",
       "92  2009 1   0.36  \n",
       "93  2009 2   0.40  \n",
       "94  2009 3   0.74  \n",
       "95  2009 4   0.45  \n",
       "96  2010 1   0.51  \n",
       "97  2010 2   0.62  \n",
       "98  2010 3   0.77  \n",
       "99  2010 4   0.56  \n",
       "100 2011 1   0.69  \n",
       "101 2011 2   0.68  \n",
       "102 2011 3   0.78  \n",
       "103 2011 4   0.60  \n",
       "104 2012 1   0.67  \n",
       "105 2012 2   0.53  \n",
       "106 2012 3   0.76  \n",
       "107 2012 4   0.72  \n",
       "108 2013 1   0.66  \n",
       "109 2013 2   0.62  \n",
       "110 2013 3   0.78  "
      ]
     },
     "metadata": {},
     "output_type": "display_data"
    }
   ],
   "source": [
    "da6"
   ]
  },
  {
   "cell_type": "code",
   "execution_count": 71,
   "metadata": {
    "collapsed": false
   },
   "outputs": [
    {
     "data": {
      "image/png": "[encoded data removed]",
      "text/plain": [
       "plot without title"
      ]
     },
     "metadata": {},
     "output_type": "display_data"
    }
   ],
   "source": [
    "da6_ts = ts(da6$value,frequency=4,start=c(1986,1))\n",
    "plot(da6_ts,type = \"l\",xlab='year',ylab='Earnings')"
   ]
  },
  {
   "cell_type": "code",
   "execution_count": 72,
   "metadata": {
    "collapsed": false
   },
   "outputs": [
    {
     "data": {
      "image/png": "[encoded data removed]",
      "text/plain": [
       "plot without title"
      ]
     },
     "metadata": {},
     "output_type": "display_data"
    }
   ],
   "source": [
    "lg.rt = log(da6$value)\n",
    "lg.rt_ts = ts(lg.rt,frequency=4,start=c(1986,1))\n",
    "plot(lg.rt_ts,type = \"l\",xlab='year',ylab='Log Earnings')"
   ]
  },
  {
   "cell_type": "code",
   "execution_count": 73,
   "metadata": {
    "collapsed": false
   },
   "outputs": [
    {
     "data": {
      "image/png": "[encoded data removed]",
      "text/plain": [
       "Plot with title \"Series  lg.rt\""
      ]
     },
     "metadata": {},
     "output_type": "display_data"
    }
   ],
   "source": [
    "acf(lg.rt)"
   ]
  },
  {
   "cell_type": "code",
   "execution_count": 74,
   "metadata": {
    "collapsed": false
   },
   "outputs": [
    {
     "data": {
      "image/png": "[encoded data removed]",
      "text/plain": [
       "Plot with title \"Series  lg.rt\""
      ]
     },
     "metadata": {},
     "output_type": "display_data"
    }
   ],
   "source": [
    "pacf(lg.rt)"
   ]
  },
  {
   "cell_type": "code",
   "execution_count": 75,
   "metadata": {
    "collapsed": true
   },
   "outputs": [],
   "source": [
    "lgrt.diff = diff(lg.rt)"
   ]
  },
  {
   "cell_type": "code",
   "execution_count": 76,
   "metadata": {
    "collapsed": false
   },
   "outputs": [
    {
     "data": {
      "image/png": "[encoded data removed]",
      "text/plain": [
       "plot without title"
      ]
     },
     "metadata": {},
     "output_type": "display_data"
    }
   ],
   "source": [
    "plot(lgrt.diff, type = \"l\")\n",
    "points(lgrt.diff,pch=11,cex=0.7)"
   ]
  },
  {
   "cell_type": "markdown",
   "metadata": {},
   "source": [
    "There looks to be a seasonal pattern."
   ]
  },
  {
   "cell_type": "code",
   "execution_count": 77,
   "metadata": {
    "collapsed": false
   },
   "outputs": [
    {
     "data": {
      "image/png": "[encoded data removed]",
      "text/plain": [
       "Plot with title \"Series  lgrt.diff\""
      ]
     },
     "metadata": {},
     "output_type": "display_data"
    }
   ],
   "source": [
    "acf(lgrt.diff)"
   ]
  },
  {
   "cell_type": "code",
   "execution_count": 78,
   "metadata": {
    "collapsed": false
   },
   "outputs": [],
   "source": [
    "sdiff=diff(lg.rt,4)\n",
    "dsdiff=diff(sdiff)"
   ]
  },
  {
   "cell_type": "code",
   "execution_count": 79,
   "metadata": {
    "collapsed": false
   },
   "outputs": [
    {
     "data": {
      "image/png": "[encoded data removed]",
      "text/plain": [
       "plot without title"
      ]
     },
     "metadata": {},
     "output_type": "display_data"
    }
   ],
   "source": [
    "plot(dsdiff,xlab=\"year\",ylab=\"s.d.diff\",type=\"l\")\n",
    "points(dsdiff,pch=11,cex=0.7)"
   ]
  },
  {
   "cell_type": "markdown",
   "metadata": {},
   "source": [
    "There is no serial correlation with the pacf, the acf shows some serial correlation with lag 1. Perhaps a seasonal MA(1) model will capture the serial correlation in the first lag. A seasonal pattern is also present. A seasonal difference model is resonable in this case."
   ]
  },
  {
   "cell_type": "code",
   "execution_count": 80,
   "metadata": {
    "collapsed": true
   },
   "outputs": [],
   "source": [
    "m6 = arima(lg.rt,order=c(0,1,1),seasonal=list(order=c(0,1,1),period=4))"
   ]
  },
  {
   "cell_type": "code",
   "execution_count": 81,
   "metadata": {
    "collapsed": false
   },
   "outputs": [
    {
     "data": {
      "text/plain": [
       "\n",
       "Call:\n",
       "arima(x = lg.rt, order = c(0, 1, 1), seasonal = list(order = c(0, 1, 1), period = 4))\n",
       "\n",
       "Coefficients:\n",
       "          ma1     sma1\n",
       "      -0.4826  -0.7149\n",
       "s.e.   0.0809   0.0909\n",
       "\n",
       "sigma^2 estimated as 0.02122:  log likelihood = 51.68,  aic = -97.37"
      ]
     },
     "metadata": {},
     "output_type": "display_data"
    }
   ],
   "source": [
    "m6"
   ]
  },
  {
   "cell_type": "code",
   "execution_count": 82,
   "metadata": {
    "collapsed": false
   },
   "outputs": [
    {
     "data": {
      "image/png": "[encoded data removed]",
      "text/plain": [
       "Plot with title \"p values for Ljung-Box statistic\""
      ]
     },
     "metadata": {},
     "output_type": "display_data"
    }
   ],
   "source": [
    "tsdiag(m6)"
   ]
  },
  {
   "cell_type": "markdown",
   "metadata": {},
   "source": [
    "(ii)"
   ]
  },
  {
   "cell_type": "code",
   "execution_count": 83,
   "metadata": {
    "collapsed": true
   },
   "outputs": [],
   "source": [
    "m7 = arima(lg.rt ,order=c(0,1,1),seasonal=list(order=c(0,0,1),period=4))"
   ]
  },
  {
   "cell_type": "code",
   "execution_count": 84,
   "metadata": {
    "collapsed": false
   },
   "outputs": [
    {
     "data": {
      "text/plain": [
       "\n",
       "Call:\n",
       "arima(x = lg.rt, order = c(0, 1, 1), seasonal = list(order = c(0, 0, 1), period = 4))\n",
       "\n",
       "Coefficients:\n",
       "          ma1    sma1\n",
       "      -0.2723  0.3894\n",
       "s.e.   0.0803  0.0762\n",
       "\n",
       "sigma^2 estimated as 0.02565:  log likelihood = 44.62,  aic = -83.24"
      ]
     },
     "metadata": {},
     "output_type": "display_data"
    }
   ],
   "source": [
    "m7"
   ]
  },
  {
   "cell_type": "markdown",
   "metadata": {},
   "source": [
    "(iii)"
   ]
  },
  {
   "cell_type": "markdown",
   "metadata": {},
   "source": [
    "m6 has better in-sample fit due to its AIC being lower than m7"
   ]
  },
  {
   "cell_type": "markdown",
   "metadata": {},
   "source": [
    "(iv)"
   ]
  },
  {
   "cell_type": "code",
   "execution_count": 85,
   "metadata": {
    "collapsed": false
   },
   "outputs": [
    {
     "name": "stdout",
     "output_type": "stream",
     "text": [
      "[1] \"RMSE of out-of-sample forecasts\"\n",
      "[1] 0.2131425\n",
      "[1] \"Mean absolute error of out-of-sample forecasts\"\n",
      "[1] 0.1553725\n",
      "[1] \"RMSE of out-of-sample forecasts\"\n",
      "[1] 0.22943\n",
      "[1] \"Mean absolute error of out-of-sample forecasts\"\n",
      "[1] 0.1640435\n"
     ]
    }
   ],
   "source": [
    "mm6 =backtest(m6,lg.rt,81,1)\n",
    "mm7 = backtest(m7,lg.rt,81,1)"
   ]
  },
  {
   "cell_type": "markdown",
   "metadata": {},
   "source": [
    "M6 is preferred to out of sample forecast because both its MAE and RMSE are smaller than m7"
   ]
  },
  {
   "cell_type": "markdown",
   "metadata": {},
   "source": [
    "Question 7"
   ]
  },
  {
   "cell_type": "code",
   "execution_count": 86,
   "metadata": {
    "collapsed": false
   },
   "outputs": [],
   "source": [
    "da7 = read.table(\"m-FamaBlissdbndyields.txt\",header = TRUE)"
   ]
  },
  {
   "cell_type": "markdown",
   "metadata": {},
   "source": [
    "(i)"
   ]
  },
  {
   "cell_type": "code",
   "execution_count": 87,
   "metadata": {
    "collapsed": false
   },
   "outputs": [
    {
     "data": {
      "text/html": [
       "<table>\n",
       "<thead><tr><th scope=col>qdate</th><th scope=col>yield1</th><th scope=col>yield3</th></tr></thead>\n",
       "<tbody>\n",
       "\t<tr><td>19610131</td><td>2.783   </td><td>3.365   </td></tr>\n",
       "\t<tr><td>19610228</td><td>2.974   </td><td>3.311   </td></tr>\n",
       "\t<tr><td>19610330</td><td>2.896   </td><td>3.147   </td></tr>\n",
       "\t<tr><td>19610428</td><td>2.872   </td><td>3.211   </td></tr>\n",
       "\t<tr><td>19610531</td><td>2.929   </td><td>3.420   </td></tr>\n",
       "\t<tr><td>19610630</td><td>2.998   </td><td>3.513   </td></tr>\n",
       "\t<tr><td>19610731</td><td>2.890   </td><td>3.628   </td></tr>\n",
       "\t<tr><td>19610831</td><td>3.048   </td><td>3.628   </td></tr>\n",
       "\t<tr><td>19610929</td><td>2.977   </td><td>3.617   </td></tr>\n",
       "\t<tr><td>19611031</td><td>2.937   </td><td>3.503   </td></tr>\n",
       "\t<tr><td>19611130</td><td>2.970   </td><td>3.618   </td></tr>\n",
       "\t<tr><td>19611229</td><td>3.109   </td><td>3.705   </td></tr>\n",
       "\t<tr><td>19620131</td><td>3.292   </td><td>3.802   </td></tr>\n",
       "\t<tr><td>19620228</td><td>3.135   </td><td>3.472   </td></tr>\n",
       "\t<tr><td>19620330</td><td>2.887   </td><td>3.322   </td></tr>\n",
       "\t<tr><td>19620430</td><td>3.006   </td><td>3.365   </td></tr>\n",
       "\t<tr><td>19620531</td><td>2.943   </td><td>3.321   </td></tr>\n",
       "\t<tr><td>19620629</td><td>3.071   </td><td>3.481   </td></tr>\n",
       "\t<tr><td>19620731</td><td>3.308   </td><td>3.545   </td></tr>\n",
       "\t<tr><td>19620831</td><td>3.034   </td><td>3.345   </td></tr>\n",
       "\t<tr><td>19620928</td><td>2.963   </td><td>3.320   </td></tr>\n",
       "\t<tr><td>19621031</td><td>2.922   </td><td>3.313   </td></tr>\n",
       "\t<tr><td>19621130</td><td>2.922   </td><td>3.372   </td></tr>\n",
       "\t<tr><td>19621231</td><td>2.978   </td><td>3.380   </td></tr>\n",
       "\t<tr><td>19630131</td><td>3.029   </td><td>3.398   </td></tr>\n",
       "\t<tr><td>19630228</td><td>2.961   </td><td>3.400   </td></tr>\n",
       "\t<tr><td>19630329</td><td>3.027   </td><td>3.425   </td></tr>\n",
       "\t<tr><td>19630430</td><td>3.099   </td><td>3.521   </td></tr>\n",
       "\t<tr><td>19630531</td><td>3.150   </td><td>3.550   </td></tr>\n",
       "\t<tr><td>19630628</td><td>3.126   </td><td>3.535   </td></tr>\n",
       "\t<tr><td>...</td><td>...</td><td>...</td></tr>\n",
       "\t<tr><td>20110729</td><td>0.229   </td><td>0.556   </td></tr>\n",
       "\t<tr><td>20110831</td><td>0.142   </td><td>0.340   </td></tr>\n",
       "\t<tr><td>20110930</td><td>0.178   </td><td>0.425   </td></tr>\n",
       "\t<tr><td>20111031</td><td>0.160   </td><td>0.407   </td></tr>\n",
       "\t<tr><td>20111130</td><td>0.176   </td><td>0.417   </td></tr>\n",
       "\t<tr><td>20111230</td><td>0.165   </td><td>0.392   </td></tr>\n",
       "\t<tr><td>20120131</td><td>0.152   </td><td>0.305   </td></tr>\n",
       "\t<tr><td>20120229</td><td>0.205   </td><td>0.453   </td></tr>\n",
       "\t<tr><td>20120330</td><td>0.171   </td><td>0.541   </td></tr>\n",
       "\t<tr><td>20120430</td><td>0.182   </td><td>0.404   </td></tr>\n",
       "\t<tr><td>20120531</td><td>0.181   </td><td>0.376   </td></tr>\n",
       "\t<tr><td>20120629</td><td>0.209   </td><td>0.432   </td></tr>\n",
       "\t<tr><td>20120731</td><td>0.169   </td><td>0.290   </td></tr>\n",
       "\t<tr><td>20120831</td><td>0.197   </td><td>0.298   </td></tr>\n",
       "\t<tr><td>20120928</td><td>0.199   </td><td>0.324   </td></tr>\n",
       "\t<tr><td>20121031</td><td>0.219   </td><td>0.381   </td></tr>\n",
       "\t<tr><td>20121130</td><td>0.211   </td><td>0.348   </td></tr>\n",
       "\t<tr><td>20121231</td><td>0.196   </td><td>0.369   </td></tr>\n",
       "\t<tr><td>20130131</td><td>0.143   </td><td>0.423   </td></tr>\n",
       "\t<tr><td>20130228</td><td>0.160   </td><td>0.356   </td></tr>\n",
       "\t<tr><td>20130328</td><td>0.131   </td><td>0.365   </td></tr>\n",
       "\t<tr><td>20130430</td><td>0.106   </td><td>0.323   </td></tr>\n",
       "\t<tr><td>20130531</td><td>0.134   </td><td>0.518   </td></tr>\n",
       "\t<tr><td>20130628</td><td>0.155   </td><td>0.693   </td></tr>\n",
       "\t<tr><td>20130731</td><td>0.153   </td><td>0.621   </td></tr>\n",
       "\t<tr><td>20130830</td><td>0.160   </td><td>0.821   </td></tr>\n",
       "\t<tr><td>20130930</td><td>0.120   </td><td>0.648   </td></tr>\n",
       "\t<tr><td>20131031</td><td>0.130   </td><td>0.611   </td></tr>\n",
       "\t<tr><td>20131129</td><td>0.165   </td><td>0.582   </td></tr>\n",
       "\t<tr><td>20131231</td><td>0.169   </td><td>0.804   </td></tr>\n",
       "</tbody>\n",
       "</table>\n"
      ],
      "text/latex": [
       "\\begin{tabular}{r|lll}\n",
       " qdate & yield1 & yield3\\\\\n",
       "\\hline\n",
       "\t 19610131 & 2.783    & 3.365   \\\\\n",
       "\t 19610228 & 2.974    & 3.311   \\\\\n",
       "\t 19610330 & 2.896    & 3.147   \\\\\n",
       "\t 19610428 & 2.872    & 3.211   \\\\\n",
       "\t 19610531 & 2.929    & 3.420   \\\\\n",
       "\t 19610630 & 2.998    & 3.513   \\\\\n",
       "\t 19610731 & 2.890    & 3.628   \\\\\n",
       "\t 19610831 & 3.048    & 3.628   \\\\\n",
       "\t 19610929 & 2.977    & 3.617   \\\\\n",
       "\t 19611031 & 2.937    & 3.503   \\\\\n",
       "\t 19611130 & 2.970    & 3.618   \\\\\n",
       "\t 19611229 & 3.109    & 3.705   \\\\\n",
       "\t 19620131 & 3.292    & 3.802   \\\\\n",
       "\t 19620228 & 3.135    & 3.472   \\\\\n",
       "\t 19620330 & 2.887    & 3.322   \\\\\n",
       "\t 19620430 & 3.006    & 3.365   \\\\\n",
       "\t 19620531 & 2.943    & 3.321   \\\\\n",
       "\t 19620629 & 3.071    & 3.481   \\\\\n",
       "\t 19620731 & 3.308    & 3.545   \\\\\n",
       "\t 19620831 & 3.034    & 3.345   \\\\\n",
       "\t 19620928 & 2.963    & 3.320   \\\\\n",
       "\t 19621031 & 2.922    & 3.313   \\\\\n",
       "\t 19621130 & 2.922    & 3.372   \\\\\n",
       "\t 19621231 & 2.978    & 3.380   \\\\\n",
       "\t 19630131 & 3.029    & 3.398   \\\\\n",
       "\t 19630228 & 2.961    & 3.400   \\\\\n",
       "\t 19630329 & 3.027    & 3.425   \\\\\n",
       "\t 19630430 & 3.099    & 3.521   \\\\\n",
       "\t 19630531 & 3.150    & 3.550   \\\\\n",
       "\t 19630628 & 3.126    & 3.535   \\\\\n",
       "\t ... & ... & ...\\\\\n",
       "\t 20110729 & 0.229    & 0.556   \\\\\n",
       "\t 20110831 & 0.142    & 0.340   \\\\\n",
       "\t 20110930 & 0.178    & 0.425   \\\\\n",
       "\t 20111031 & 0.160    & 0.407   \\\\\n",
       "\t 20111130 & 0.176    & 0.417   \\\\\n",
       "\t 20111230 & 0.165    & 0.392   \\\\\n",
       "\t 20120131 & 0.152    & 0.305   \\\\\n",
       "\t 20120229 & 0.205    & 0.453   \\\\\n",
       "\t 20120330 & 0.171    & 0.541   \\\\\n",
       "\t 20120430 & 0.182    & 0.404   \\\\\n",
       "\t 20120531 & 0.181    & 0.376   \\\\\n",
       "\t 20120629 & 0.209    & 0.432   \\\\\n",
       "\t 20120731 & 0.169    & 0.290   \\\\\n",
       "\t 20120831 & 0.197    & 0.298   \\\\\n",
       "\t 20120928 & 0.199    & 0.324   \\\\\n",
       "\t 20121031 & 0.219    & 0.381   \\\\\n",
       "\t 20121130 & 0.211    & 0.348   \\\\\n",
       "\t 20121231 & 0.196    & 0.369   \\\\\n",
       "\t 20130131 & 0.143    & 0.423   \\\\\n",
       "\t 20130228 & 0.160    & 0.356   \\\\\n",
       "\t 20130328 & 0.131    & 0.365   \\\\\n",
       "\t 20130430 & 0.106    & 0.323   \\\\\n",
       "\t 20130531 & 0.134    & 0.518   \\\\\n",
       "\t 20130628 & 0.155    & 0.693   \\\\\n",
       "\t 20130731 & 0.153    & 0.621   \\\\\n",
       "\t 20130830 & 0.160    & 0.821   \\\\\n",
       "\t 20130930 & 0.120    & 0.648   \\\\\n",
       "\t 20131031 & 0.130    & 0.611   \\\\\n",
       "\t 20131129 & 0.165    & 0.582   \\\\\n",
       "\t 20131231 & 0.169    & 0.804   \\\\\n",
       "\\end{tabular}\n"
      ],
      "text/markdown": [
       "\n",
       "qdate | yield1 | yield3 | \n",
       "|---|---|---|---|---|---|---|---|---|---|---|---|---|---|---|---|---|---|---|---|---|---|---|---|---|---|---|---|---|---|---|---|---|---|---|---|---|---|---|---|---|---|---|---|---|---|---|---|---|---|---|---|---|---|---|---|---|---|---|---|---|\n",
       "| 19610131 | 2.783    | 3.365    | \n",
       "| 19610228 | 2.974    | 3.311    | \n",
       "| 19610330 | 2.896    | 3.147    | \n",
       "| 19610428 | 2.872    | 3.211    | \n",
       "| 19610531 | 2.929    | 3.420    | \n",
       "| 19610630 | 2.998    | 3.513    | \n",
       "| 19610731 | 2.890    | 3.628    | \n",
       "| 19610831 | 3.048    | 3.628    | \n",
       "| 19610929 | 2.977    | 3.617    | \n",
       "| 19611031 | 2.937    | 3.503    | \n",
       "| 19611130 | 2.970    | 3.618    | \n",
       "| 19611229 | 3.109    | 3.705    | \n",
       "| 19620131 | 3.292    | 3.802    | \n",
       "| 19620228 | 3.135    | 3.472    | \n",
       "| 19620330 | 2.887    | 3.322    | \n",
       "| 19620430 | 3.006    | 3.365    | \n",
       "| 19620531 | 2.943    | 3.321    | \n",
       "| 19620629 | 3.071    | 3.481    | \n",
       "| 19620731 | 3.308    | 3.545    | \n",
       "| 19620831 | 3.034    | 3.345    | \n",
       "| 19620928 | 2.963    | 3.320    | \n",
       "| 19621031 | 2.922    | 3.313    | \n",
       "| 19621130 | 2.922    | 3.372    | \n",
       "| 19621231 | 2.978    | 3.380    | \n",
       "| 19630131 | 3.029    | 3.398    | \n",
       "| 19630228 | 2.961    | 3.400    | \n",
       "| 19630329 | 3.027    | 3.425    | \n",
       "| 19630430 | 3.099    | 3.521    | \n",
       "| 19630531 | 3.150    | 3.550    | \n",
       "| 19630628 | 3.126    | 3.535    | \n",
       "| ... | ... | ... | \n",
       "| 20110729 | 0.229    | 0.556    | \n",
       "| 20110831 | 0.142    | 0.340    | \n",
       "| 20110930 | 0.178    | 0.425    | \n",
       "| 20111031 | 0.160    | 0.407    | \n",
       "| 20111130 | 0.176    | 0.417    | \n",
       "| 20111230 | 0.165    | 0.392    | \n",
       "| 20120131 | 0.152    | 0.305    | \n",
       "| 20120229 | 0.205    | 0.453    | \n",
       "| 20120330 | 0.171    | 0.541    | \n",
       "| 20120430 | 0.182    | 0.404    | \n",
       "| 20120531 | 0.181    | 0.376    | \n",
       "| 20120629 | 0.209    | 0.432    | \n",
       "| 20120731 | 0.169    | 0.290    | \n",
       "| 20120831 | 0.197    | 0.298    | \n",
       "| 20120928 | 0.199    | 0.324    | \n",
       "| 20121031 | 0.219    | 0.381    | \n",
       "| 20121130 | 0.211    | 0.348    | \n",
       "| 20121231 | 0.196    | 0.369    | \n",
       "| 20130131 | 0.143    | 0.423    | \n",
       "| 20130228 | 0.160    | 0.356    | \n",
       "| 20130328 | 0.131    | 0.365    | \n",
       "| 20130430 | 0.106    | 0.323    | \n",
       "| 20130531 | 0.134    | 0.518    | \n",
       "| 20130628 | 0.155    | 0.693    | \n",
       "| 20130731 | 0.153    | 0.621    | \n",
       "| 20130830 | 0.160    | 0.821    | \n",
       "| 20130930 | 0.120    | 0.648    | \n",
       "| 20131031 | 0.130    | 0.611    | \n",
       "| 20131129 | 0.165    | 0.582    | \n",
       "| 20131231 | 0.169    | 0.804    | \n",
       "\n",
       "\n"
      ],
      "text/plain": [
       "    qdate    yield1 yield3\n",
       "1   19610131 2.783  3.365 \n",
       "2   19610228 2.974  3.311 \n",
       "3   19610330 2.896  3.147 \n",
       "4   19610428 2.872  3.211 \n",
       "5   19610531 2.929  3.420 \n",
       "6   19610630 2.998  3.513 \n",
       "7   19610731 2.890  3.628 \n",
       "8   19610831 3.048  3.628 \n",
       "9   19610929 2.977  3.617 \n",
       "10  19611031 2.937  3.503 \n",
       "11  19611130 2.970  3.618 \n",
       "12  19611229 3.109  3.705 \n",
       "13  19620131 3.292  3.802 \n",
       "14  19620228 3.135  3.472 \n",
       "15  19620330 2.887  3.322 \n",
       "16  19620430 3.006  3.365 \n",
       "17  19620531 2.943  3.321 \n",
       "18  19620629 3.071  3.481 \n",
       "19  19620731 3.308  3.545 \n",
       "20  19620831 3.034  3.345 \n",
       "21  19620928 2.963  3.320 \n",
       "22  19621031 2.922  3.313 \n",
       "23  19621130 2.922  3.372 \n",
       "24  19621231 2.978  3.380 \n",
       "25  19630131 3.029  3.398 \n",
       "26  19630228 2.961  3.400 \n",
       "27  19630329 3.027  3.425 \n",
       "28  19630430 3.099  3.521 \n",
       "29  19630531 3.150  3.550 \n",
       "30  19630628 3.126  3.535 \n",
       "... ...      ...    ...   \n",
       "607 20110729 0.229  0.556 \n",
       "608 20110831 0.142  0.340 \n",
       "609 20110930 0.178  0.425 \n",
       "610 20111031 0.160  0.407 \n",
       "611 20111130 0.176  0.417 \n",
       "612 20111230 0.165  0.392 \n",
       "613 20120131 0.152  0.305 \n",
       "614 20120229 0.205  0.453 \n",
       "615 20120330 0.171  0.541 \n",
       "616 20120430 0.182  0.404 \n",
       "617 20120531 0.181  0.376 \n",
       "618 20120629 0.209  0.432 \n",
       "619 20120731 0.169  0.290 \n",
       "620 20120831 0.197  0.298 \n",
       "621 20120928 0.199  0.324 \n",
       "622 20121031 0.219  0.381 \n",
       "623 20121130 0.211  0.348 \n",
       "624 20121231 0.196  0.369 \n",
       "625 20130131 0.143  0.423 \n",
       "626 20130228 0.160  0.356 \n",
       "627 20130328 0.131  0.365 \n",
       "628 20130430 0.106  0.323 \n",
       "629 20130531 0.134  0.518 \n",
       "630 20130628 0.155  0.693 \n",
       "631 20130731 0.153  0.621 \n",
       "632 20130830 0.160  0.821 \n",
       "633 20130930 0.120  0.648 \n",
       "634 20131031 0.130  0.611 \n",
       "635 20131129 0.165  0.582 \n",
       "636 20131231 0.169  0.804 "
      ]
     },
     "metadata": {},
     "output_type": "display_data"
    }
   ],
   "source": [
    "da7"
   ]
  },
  {
   "cell_type": "code",
   "execution_count": 88,
   "metadata": {
    "collapsed": false
   },
   "outputs": [
    {
     "name": "stderr",
     "output_type": "stream",
     "text": [
      "\n",
      "Please cite as: \n",
      "\n",
      " Hlavac, Marek (2015). stargazer: Well-Formatted Regression and Summary Statistics Tables.\n",
      " R package version 5.2. http://CRAN.R-project.org/package=stargazer \n",
      "\n"
     ]
    }
   ],
   "source": [
    "library(stargazer)"
   ]
  },
  {
   "cell_type": "markdown",
   "metadata": {},
   "source": [
    "Create a linear model for 3 year bonds yeilds with 1 year bond yeilds as regressor"
   ]
  },
  {
   "cell_type": "code",
   "execution_count": 89,
   "metadata": {
    "collapsed": false
   },
   "outputs": [],
   "source": [
    "lm.fit = lm(da7$yield3 ~ da7$yield1, data = da7)"
   ]
  },
  {
   "cell_type": "code",
   "execution_count": 90,
   "metadata": {
    "collapsed": false
   },
   "outputs": [
    {
     "name": "stdout",
     "output_type": "stream",
     "text": [
      "\n",
      "===============================================\n",
      "                        Dependent variable:    \n",
      "                    ---------------------------\n",
      "                              yield3           \n",
      "-----------------------------------------------\n",
      "yield1                       0.941***          \n",
      "                              (0.007)          \n",
      "                                               \n",
      "Constant                     0.713***          \n",
      "                              (0.042)          \n",
      "                                               \n",
      "-----------------------------------------------\n",
      "Observations                    636            \n",
      "R2                             0.969           \n",
      "Adjusted R2                    0.969           \n",
      "Residual Std. Error      0.529 (df = 634)      \n",
      "F Statistic         19,857.570*** (df = 1; 634)\n",
      "===============================================\n",
      "Note:               *p<0.1; **p<0.05; ***p<0.01\n"
     ]
    }
   ],
   "source": [
    "stargazer(lm.fit, type = \"text\")"
   ]
  },
  {
   "cell_type": "markdown",
   "metadata": {},
   "source": [
    "R squared is .969. "
   ]
  },
  {
   "cell_type": "code",
   "execution_count": 91,
   "metadata": {
    "collapsed": false
   },
   "outputs": [
    {
     "data": {
      "image/png": "[encoded data removed]",
      "text/plain": [
       "Plot with title \"Series  lm.fit$residuals\""
      ]
     },
     "metadata": {},
     "output_type": "display_data"
    }
   ],
   "source": [
    "acf(lm.fit$residuals)"
   ]
  },
  {
   "cell_type": "markdown",
   "metadata": {},
   "source": [
    "Much of the correlation in the residuals remains. This is likely due to using only one regressor, a more complex model is needed. The fit is not adequate."
   ]
  },
  {
   "cell_type": "markdown",
   "metadata": {},
   "source": [
    "(ii)"
   ]
  },
  {
   "cell_type": "code",
   "execution_count": 92,
   "metadata": {
    "collapsed": true
   },
   "outputs": [],
   "source": [
    "diff.y1 = diff(da7$yield1)\n",
    "diff.y3 = diff(da7$yield3)"
   ]
  },
  {
   "cell_type": "code",
   "execution_count": 93,
   "metadata": {
    "collapsed": false
   },
   "outputs": [
    {
     "name": "stdout",
     "output_type": "stream",
     "text": [
      "\n",
      "===============================================\n",
      "                        Dependent variable:    \n",
      "                    ---------------------------\n",
      "                              diff.y3          \n",
      "-----------------------------------------------\n",
      "diff.y1                      0.736***          \n",
      "                              (0.015)          \n",
      "                                               \n",
      "Constant                      -0.001           \n",
      "                              (0.007)          \n",
      "                                               \n",
      "-----------------------------------------------\n",
      "Observations                    635            \n",
      "R2                             0.796           \n",
      "Adjusted R2                    0.796           \n",
      "Residual Std. Error      0.180 (df = 633)      \n",
      "F Statistic         2,474.088*** (df = 1; 633) \n",
      "===============================================\n",
      "Note:               *p<0.1; **p<0.05; ***p<0.01\n"
     ]
    }
   ],
   "source": [
    "lm.fit1 = lm(diff.y3 ~ diff.y1)\n",
    "stargazer(lm.fit1, type = \"text\")"
   ]
  },
  {
   "cell_type": "markdown",
   "metadata": {},
   "source": [
    "R squared is .796"
   ]
  },
  {
   "cell_type": "code",
   "execution_count": 94,
   "metadata": {
    "collapsed": false
   },
   "outputs": [
    {
     "data": {
      "image/png": "[encoded data removed]",
      "text/plain": [
       "Plot with title \"Series  lm.fit1$residuals\""
      ]
     },
     "metadata": {},
     "output_type": "display_data"
    }
   ],
   "source": [
    "acf(lm.fit1$residuals)"
   ]
  },
  {
   "cell_type": "code",
   "execution_count": 95,
   "metadata": {
    "collapsed": false
   },
   "outputs": [
    {
     "data": {
      "image/png": "[encoded data removed]",
      "text/plain": [
       "Plot with title \"Series  diff.y1\""
      ]
     },
     "metadata": {},
     "output_type": "display_data"
    },
    {
     "data": {
      "image/png": "[encoded data removed]",
      "text/plain": [
       "Plot with title \"Series  diff.y3\""
      ]
     },
     "metadata": {},
     "output_type": "display_data"
    }
   ],
   "source": [
    "acf(diff.y1)\n",
    "acf(diff.y3)"
   ]
  },
  {
   "cell_type": "markdown",
   "metadata": {},
   "source": [
    "The first difference explains more of the serial correlation. There is still some serial coreelation present."
   ]
  },
  {
   "cell_type": "code",
   "execution_count": 96,
   "metadata": {
    "collapsed": false
   },
   "outputs": [
    {
     "data": {
      "image/png": "[encoded data removed]",
      "text/plain": [
       "plot without title"
      ]
     },
     "metadata": {},
     "output_type": "display_data"
    }
   ],
   "source": [
    "plot(diff.y1,diff.y3)\n",
    "abline(lm.fit1)"
   ]
  },
  {
   "cell_type": "code",
   "execution_count": 97,
   "metadata": {
    "collapsed": true
   },
   "outputs": [],
   "source": [
    "diff4 = diff(da7$yield1,4)"
   ]
  },
  {
   "cell_type": "code",
   "execution_count": 98,
   "metadata": {
    "collapsed": false
   },
   "outputs": [
    {
     "data": {
      "image/png": "[encoded data removed]",
      "text/plain": [
       "Plot with title \"Series  lm.fit1$residuals\""
      ]
     },
     "metadata": {},
     "output_type": "display_data"
    }
   ],
   "source": [
    "pacf(lm.fit1$residuals)"
   ]
  },
  {
   "cell_type": "code",
   "execution_count": 99,
   "metadata": {
    "collapsed": false
   },
   "outputs": [
    {
     "data": {
      "image/png": "[encoded data removed]",
      "text/plain": [
       "Plot with title \"Series  lm.fit1$residuals\""
      ]
     },
     "metadata": {},
     "output_type": "display_data"
    }
   ],
   "source": [
    "acf(lm.fit1$residuals)"
   ]
  },
  {
   "cell_type": "markdown",
   "metadata": {},
   "source": [
    "(iii)\n",
    "\n",
    "Model is not adequate. There is still serial correlation\n",
    "\n",
    "Serial correlation from the first five lags is present."
   ]
  },
  {
   "cell_type": "code",
   "execution_count": 100,
   "metadata": {
    "collapsed": false
   },
   "outputs": [
    {
     "name": "stderr",
     "output_type": "stream",
     "text": [
      "Warning message in arima(diff.y3, order = c(5, 0, 5), xreg = diff.y1, fixed = c(NA, :\n",
      "\"some AR parameters were fixed: setting transform.pars = FALSE\""
     ]
    }
   ],
   "source": [
    "m8 =  arima(diff.y3,order = c(5, 0 ,5), xreg = diff.y1)\n",
    "m9 = arima(diff.y3,order = c(5, 0 ,5), xreg = diff.y1,fixed= c(NA,0,0,0,0,NA,NA,0,0,NA,NA,NA))"
   ]
  },
  {
   "cell_type": "code",
   "execution_count": 101,
   "metadata": {
    "collapsed": false
   },
   "outputs": [
    {
     "name": "stderr",
     "output_type": "stream",
     "text": [
      "Warning message in sqrt(diag(x$var.coef)):\n",
      "\"NaNs produced\""
     ]
    },
    {
     "data": {
      "text/plain": [
       "\n",
       "Call:\n",
       "arima(x = diff.y3, order = c(5, 0, 5), xreg = diff.y1)\n",
       "\n",
       "Coefficients:\n",
       "          ar1      ar2     ar3      ar4      ar5     ma1      ma2      ma3\n",
       "      -0.1673  -0.0146  0.2048  -0.2310  -0.0864  0.0537  -0.0804  -0.1752\n",
       "s.e.   0.0627      NaN  0.2116   0.2871      NaN  0.0899      NaN   0.2368\n",
       "         ma4      ma5  intercept  diff.y1\n",
       "      0.1785  -0.0843    -0.0010   0.7442\n",
       "s.e.  0.2736      NaN     0.0048   0.0059\n",
       "\n",
       "sigma^2 estimated as 0.03068:  log likelihood = 205.06,  aic = -384.12"
      ]
     },
     "metadata": {},
     "output_type": "display_data"
    },
    {
     "data": {
      "text/plain": [
       "\n",
       "Call:\n",
       "arima(x = diff.y3, order = c(5, 0, 5), xreg = diff.y1, fixed = c(NA, 0, 0, 0, \n",
       "    0, NA, NA, 0, 0, NA, NA, NA))\n",
       "\n",
       "Coefficients:\n",
       "          ar1  ar2  ar3  ar4  ar5     ma1      ma2  ma3  ma4      ma5\n",
       "      -0.3494    0    0    0    0  0.2342  -0.1285    0    0  -0.1545\n",
       "s.e.   0.1864    0    0    0    0  0.1849   0.0458    0    0   0.0403\n",
       "      intercept  diff.y1\n",
       "        -0.0010   0.7422\n",
       "s.e.     0.0049   0.0143\n",
       "\n",
       "sigma^2 estimated as 0.03096:  log likelihood = 202.21,  aic = -390.42"
      ]
     },
     "metadata": {},
     "output_type": "display_data"
    }
   ],
   "source": [
    "m8\n",
    "m9"
   ]
  },
  {
   "cell_type": "code",
   "execution_count": 102,
   "metadata": {
    "collapsed": false
   },
   "outputs": [
    {
     "data": {
      "image/png": "[encoded data removed]",
      "text/plain": [
       "Plot with title \"p values for Ljung-Box statistic\""
      ]
     },
     "metadata": {},
     "output_type": "display_data"
    },
    {
     "data": {
      "image/png": "[encoded data removed]",
      "text/plain": [
       "Plot with title \"p values for Ljung-Box statistic\""
      ]
     },
     "metadata": {},
     "output_type": "display_data"
    }
   ],
   "source": [
    "tsdiag(m8)\n",
    "tsdiag(m9)"
   ]
  },
  {
   "cell_type": "markdown",
   "metadata": {},
   "source": [
    "(v)"
   ]
  },
  {
   "cell_type": "code",
   "execution_count": 103,
   "metadata": {
    "collapsed": false
   },
   "outputs": [
    {
     "data": {
      "text/plain": [
       "\n",
       "Call:\n",
       "arima(x = da7$yield3, order = c(6, 0, 0), xreg = da7$yield1)\n",
       "\n",
       "Coefficients:\n",
       "         ar1     ar2     ar3      ar4      ar5     ar6  intercept  da7$yield1\n",
       "      0.8744  0.0329  0.1175  -0.1243  -0.0635  0.1457     1.6424      0.7469\n",
       "s.e.  0.0395  0.0525  0.0522   0.0527   0.0529  0.0394     0.3652      0.0144\n",
       "\n",
       "sigma^2 estimated as 0.03063:  log likelihood = 204.46,  aic = -390.92"
      ]
     },
     "metadata": {},
     "output_type": "display_data"
    }
   ],
   "source": [
    "m9 = arima(da7$yield3,order = c(6,0,0),xreg = da7$yield1)\n",
    "m9"
   ]
  },
  {
   "cell_type": "markdown",
   "metadata": {},
   "source": [
    "(vi)"
   ]
  },
  {
   "cell_type": "code",
   "execution_count": 104,
   "metadata": {
    "collapsed": false
   },
   "outputs": [
    {
     "name": "stderr",
     "output_type": "stream",
     "text": [
      "Warning message in arima(da7$yield3, order = c(6, 0, 0), xreg = da7$yield1, fixed = c(NA, :\n",
      "\"some AR parameters were fixed: setting transform.pars = FALSE\""
     ]
    },
    {
     "data": {
      "text/plain": [
       "\n",
       "Call:\n",
       "arima(x = da7$yield3, order = c(6, 0, 0), xreg = da7$yield1, fixed = c(NA, 0, \n",
       "    NA, NA, 0, NA, NA, NA))\n",
       "\n",
       "Coefficients:\n",
       "         ar1  ar2     ar3      ar4  ar5     ar6  intercept  da7$yield1\n",
       "      0.8904    0  0.1332  -0.1553    0  0.1142     1.6336      0.7486\n",
       "s.e.  0.0295    0  0.0458   0.0458    0  0.0295     0.3622      0.0143\n",
       "\n",
       "sigma^2 estimated as 0.03071:  log likelihood = 203.63,  aic = -393.25"
      ]
     },
     "metadata": {},
     "output_type": "display_data"
    }
   ],
   "source": [
    "m10 = arima(da7$yield3,order = c(6,0,0),xreg = da7$yield1, fixed = c(NA,0,NA,NA,0,NA,NA,NA))\n",
    "m10"
   ]
  },
  {
   "cell_type": "code",
   "execution_count": 105,
   "metadata": {
    "collapsed": false
   },
   "outputs": [
    {
     "data": {
      "image/png": "[encoded data removed]",
      "text/plain": [
       "Plot with title \"p values for Ljung-Box statistic\""
      ]
     },
     "metadata": {},
     "output_type": "display_data"
    }
   ],
   "source": [
    "tsdiag(m10)"
   ]
  },
  {
   "cell_type": "markdown",
   "metadata": {},
   "source": [
    "(vii)"
   ]
  },
  {
   "cell_type": "markdown",
   "metadata": {},
   "source": [
    "Refined model captures serial correlation. No serial correlation in the residuals."
   ]
  },
  {
   "cell_type": "markdown",
   "metadata": {
    "collapsed": true
   },
   "source": [
    "Question 8"
   ]
  },
  {
   "cell_type": "markdown",
   "metadata": {},
   "source": [
    "(i)"
   ]
  },
  {
   "cell_type": "code",
   "execution_count": 106,
   "metadata": {
    "collapsed": true
   },
   "outputs": [],
   "source": [
    "da8 = read.table(\"d-msft3dx0113.txt\", header = TRUE)"
   ]
  },
  {
   "cell_type": "code",
   "execution_count": 107,
   "metadata": {
    "collapsed": false
   },
   "outputs": [
    {
     "data": {
      "text/html": [
       "<table>\n",
       "<thead><tr><th scope=col>PERMNO</th><th scope=col>date</th><th scope=col>msft</th><th scope=col>vwretd</th><th scope=col>ewretd</th><th scope=col>sprtrn</th></tr></thead>\n",
       "<tbody>\n",
       "\t<tr><td>10107    </td><td>20010103 </td><td> 0.105187</td><td> 0.052945</td><td> 0.046221</td><td> 0.050099</td></tr>\n",
       "\t<tr><td>10107    </td><td>20010104 </td><td> 0.010430</td><td>-0.011796</td><td> 0.011364</td><td>-0.010552</td></tr>\n",
       "\t<tr><td>10107    </td><td>20010105 </td><td> 0.014194</td><td>-0.028857</td><td>-0.008607</td><td>-0.026242</td></tr>\n",
       "\t<tr><td>10107    </td><td>20010108 </td><td>-0.003817</td><td>-0.003433</td><td>-0.005051</td><td>-0.001918</td></tr>\n",
       "\t<tr><td>10107    </td><td>20010109 </td><td> 0.058748</td><td> 0.004889</td><td> 0.011808</td><td> 0.003812</td></tr>\n",
       "\t<tr><td>10107    </td><td>20010110 </td><td> 0.020507</td><td> 0.013824</td><td> 0.020657</td><td> 0.009586</td></tr>\n",
       "\t<tr><td>10107    </td><td>20010111 </td><td> 0.040189</td><td> 0.014959</td><td> 0.027183</td><td> 0.010318</td></tr>\n",
       "\t<tr><td>10107    </td><td>20010112 </td><td>-0.027273</td><td>-0.003536</td><td> 0.019473</td><td>-0.006406</td></tr>\n",
       "\t<tr><td>10107    </td><td>20010116 </td><td>-0.017523</td><td> 0.006230</td><td> 0.019410</td><td> 0.006319</td></tr>\n",
       "\t<tr><td>10107    </td><td>20010117 </td><td> 0.007134</td><td> 0.004503</td><td> 0.012757</td><td> 0.002126</td></tr>\n",
       "\t<tr><td>10107    </td><td>20010118 </td><td> 0.048406</td><td> 0.012285</td><td> 0.008504</td><td> 0.013915</td></tr>\n",
       "\t<tr><td>10107    </td><td>20010119 </td><td> 0.099099</td><td>-0.004093</td><td> 0.003892</td><td>-0.004028</td></tr>\n",
       "\t<tr><td>10107    </td><td>20010122 </td><td>-0.014344</td><td> 0.000299</td><td> 0.005431</td><td> 0.000268</td></tr>\n",
       "\t<tr><td>10107    </td><td>20010123 </td><td> 0.007277</td><td> 0.015816</td><td> 0.014520</td><td> 0.013032</td></tr>\n",
       "\t<tr><td>10107    </td><td>20010124 </td><td> 0.039216</td><td> 0.003290</td><td> 0.007313</td><td> 0.002867</td></tr>\n",
       "\t<tr><td>10107    </td><td>20010125 </td><td>-0.017875</td><td>-0.007537</td><td>-0.003242</td><td>-0.004977</td></tr>\n",
       "\t<tr><td>10107    </td><td>20010126 </td><td> 0.035389</td><td>-0.000710</td><td> 0.001972</td><td>-0.001886</td></tr>\n",
       "\t<tr><td>10107    </td><td>20010129 </td><td> 0.007813</td><td> 0.008976</td><td> 0.010237</td><td> 0.006805</td></tr>\n",
       "\t<tr><td>10107    </td><td>20010130 </td><td>-0.017442</td><td> 0.006593</td><td> 0.009543</td><td> 0.007008</td></tr>\n",
       "\t<tr><td>10107    </td><td>20010131 </td><td>-0.036489</td><td>-0.006669</td><td>-0.000180</td><td>-0.005620</td></tr>\n",
       "\t<tr><td>10107    </td><td>20010201 </td><td> 0.021494</td><td> 0.003834</td><td> 0.001991</td><td> 0.005461</td></tr>\n",
       "\t<tr><td>10107    </td><td>20010202 </td><td>-0.025050</td><td>-0.018595</td><td>-0.009213</td><td>-0.017474</td></tr>\n",
       "\t<tr><td>10107    </td><td>20010205 </td><td> 0.018499</td><td> 0.002076</td><td>-0.003784</td><td> 0.003587</td></tr>\n",
       "\t<tr><td>10107    </td><td>20010206 </td><td> 0.010091</td><td> 0.000493</td><td> 0.002474</td><td>-0.001514</td></tr>\n",
       "\t<tr><td>10107    </td><td>20010207 </td><td> 0.033966</td><td>-0.008783</td><td>-0.004362</td><td>-0.008408</td></tr>\n",
       "\t<tr><td>10107    </td><td>20010208 </td><td>-0.037681</td><td>-0.006504</td><td>-0.003159</td><td>-0.006235</td></tr>\n",
       "\t<tr><td>10107    </td><td>20010209 </td><td>-0.050201</td><td>-0.014258</td><td>-0.009423</td><td>-0.013336</td></tr>\n",
       "\t<tr><td>10107    </td><td>20010212 </td><td>-0.006342</td><td> 0.010374</td><td> 0.004847</td><td> 0.011827</td></tr>\n",
       "\t<tr><td>10107    </td><td>20010213 </td><td>-0.009574</td><td>-0.008692</td><td>-0.003473</td><td>-0.008652</td></tr>\n",
       "\t<tr><td>10107    </td><td>20010214 </td><td> 0.003222</td><td>-0.000127</td><td>-0.000491</td><td>-0.002184</td></tr>\n",
       "\t<tr><td>...</td><td>...</td><td>...</td><td>...</td><td>...</td><td>...</td></tr>\n",
       "\t<tr><td>10107    </td><td>20131118 </td><td>-0.016939</td><td>-0.004638</td><td>-0.004134</td><td>-0.003698</td></tr>\n",
       "\t<tr><td>10107    </td><td>20131119 </td><td>-0.004839</td><td>-0.003365</td><td>-0.004351</td><td>-0.002043</td></tr>\n",
       "\t<tr><td>10107    </td><td>20131120 </td><td> 0.009254</td><td>-0.003300</td><td>-0.003096</td><td>-0.003636</td></tr>\n",
       "\t<tr><td>10107    </td><td>20131121 </td><td> 0.008630</td><td> 0.008669</td><td> 0.009070</td><td> 0.008129</td></tr>\n",
       "\t<tr><td>10107    </td><td>20131122 </td><td> 0.004545</td><td> 0.004573</td><td> 0.003700</td><td> 0.004961</td></tr>\n",
       "\t<tr><td>10107    </td><td>20131125 </td><td> 0.001863</td><td>-0.001431</td><td>-0.000255</td><td>-0.001263</td></tr>\n",
       "\t<tr><td>10107    </td><td>20131126 </td><td>-0.007705</td><td> 0.001066</td><td> 0.004053</td><td> 0.000150</td></tr>\n",
       "\t<tr><td>10107    </td><td>20131127 </td><td> 0.006693</td><td> 0.002737</td><td> 0.005455</td><td> 0.002485</td></tr>\n",
       "\t<tr><td>10107    </td><td>20131129 </td><td> 0.014096</td><td> 0.000169</td><td> 0.003875</td><td>-0.000786</td></tr>\n",
       "\t<tr><td>10107    </td><td>20131202 </td><td> 0.008392</td><td>-0.003649</td><td>-0.007152</td><td>-0.002719</td></tr>\n",
       "\t<tr><td>10107    </td><td>20131203 </td><td>-0.003641</td><td>-0.003714</td><td>-0.003833</td><td>-0.003193</td></tr>\n",
       "\t<tr><td>10107    </td><td>20131204 </td><td> 0.016445</td><td>-0.000950</td><td>-0.000588</td><td>-0.001304</td></tr>\n",
       "\t<tr><td>10107    </td><td>20131205 </td><td>-0.024140</td><td>-0.003511</td><td>-0.001612</td><td>-0.004340</td></tr>\n",
       "\t<tr><td>10107    </td><td>20131206 </td><td> 0.009474</td><td> 0.009669</td><td> 0.006687</td><td> 0.011238</td></tr>\n",
       "\t<tr><td>10107    </td><td>20131209 </td><td> 0.008994</td><td> 0.001861</td><td>-0.000607</td><td> 0.001817</td></tr>\n",
       "\t<tr><td>10107    </td><td>20131210 </td><td>-0.015373</td><td>-0.002802</td><td>-0.002139</td><td>-0.003180</td></tr>\n",
       "\t<tr><td>10107    </td><td>20131211 </td><td>-0.013120</td><td>-0.012033</td><td>-0.011254</td><td>-0.011317</td></tr>\n",
       "\t<tr><td>10107    </td><td>20131212 </td><td>-0.010370</td><td>-0.002561</td><td>-0.000698</td><td>-0.003771</td></tr>\n",
       "\t<tr><td>10107    </td><td>20131213 </td><td>-0.014240</td><td> 0.001295</td><td> 0.003054</td><td>-0.000101</td></tr>\n",
       "\t<tr><td>10107    </td><td>20131216 </td><td> 0.005315</td><td> 0.006433</td><td> 0.006875</td><td> 0.006320</td></tr>\n",
       "\t<tr><td>10107    </td><td>20131217 </td><td>-0.009896</td><td>-0.002338</td><td>-0.000097</td><td>-0.003101</td></tr>\n",
       "\t<tr><td>10107    </td><td>20131218 </td><td> 0.001643</td><td> 0.014483</td><td> 0.008528</td><td> 0.016648</td></tr>\n",
       "\t<tr><td>10107    </td><td>20131219 </td><td>-0.009021</td><td>-0.001027</td><td>-0.001756</td><td>-0.000580</td></tr>\n",
       "\t<tr><td>10107    </td><td>20131220 </td><td> 0.015172</td><td> 0.006897</td><td> 0.010080</td><td> 0.004819</td></tr>\n",
       "\t<tr><td>10107    </td><td>20131223 </td><td>-0.004891</td><td> 0.006227</td><td> 0.008646</td><td> 0.005318</td></tr>\n",
       "\t<tr><td>10107    </td><td>20131224 </td><td> 0.012562</td><td> 0.003466</td><td> 0.004324</td><td> 0.002916</td></tr>\n",
       "\t<tr><td>10107    </td><td>20131226 </td><td> 0.009709</td><td> 0.003991</td><td> 0.002320</td><td> 0.004745</td></tr>\n",
       "\t<tr><td>10107    </td><td>20131227 </td><td>-0.004006</td><td>-0.000084</td><td> 0.001422</td><td>-0.000337</td></tr>\n",
       "\t<tr><td>10107    </td><td>20131230 </td><td> 0.000000</td><td> 0.000278</td><td> 0.000551</td><td>-0.000179</td></tr>\n",
       "\t<tr><td>10107    </td><td>20131231 </td><td> 0.003218</td><td> 0.004264</td><td> 0.003915</td><td> 0.003960</td></tr>\n",
       "</tbody>\n",
       "</table>\n"
      ],
      "text/latex": [
       "\\begin{tabular}{r|llllll}\n",
       " PERMNO & date & msft & vwretd & ewretd & sprtrn\\\\\n",
       "\\hline\n",
       "\t 10107     & 20010103  &  0.105187 &  0.052945 &  0.046221 &  0.050099\\\\\n",
       "\t 10107     & 20010104  &  0.010430 & -0.011796 &  0.011364 & -0.010552\\\\\n",
       "\t 10107     & 20010105  &  0.014194 & -0.028857 & -0.008607 & -0.026242\\\\\n",
       "\t 10107     & 20010108  & -0.003817 & -0.003433 & -0.005051 & -0.001918\\\\\n",
       "\t 10107     & 20010109  &  0.058748 &  0.004889 &  0.011808 &  0.003812\\\\\n",
       "\t 10107     & 20010110  &  0.020507 &  0.013824 &  0.020657 &  0.009586\\\\\n",
       "\t 10107     & 20010111  &  0.040189 &  0.014959 &  0.027183 &  0.010318\\\\\n",
       "\t 10107     & 20010112  & -0.027273 & -0.003536 &  0.019473 & -0.006406\\\\\n",
       "\t 10107     & 20010116  & -0.017523 &  0.006230 &  0.019410 &  0.006319\\\\\n",
       "\t 10107     & 20010117  &  0.007134 &  0.004503 &  0.012757 &  0.002126\\\\\n",
       "\t 10107     & 20010118  &  0.048406 &  0.012285 &  0.008504 &  0.013915\\\\\n",
       "\t 10107     & 20010119  &  0.099099 & -0.004093 &  0.003892 & -0.004028\\\\\n",
       "\t 10107     & 20010122  & -0.014344 &  0.000299 &  0.005431 &  0.000268\\\\\n",
       "\t 10107     & 20010123  &  0.007277 &  0.015816 &  0.014520 &  0.013032\\\\\n",
       "\t 10107     & 20010124  &  0.039216 &  0.003290 &  0.007313 &  0.002867\\\\\n",
       "\t 10107     & 20010125  & -0.017875 & -0.007537 & -0.003242 & -0.004977\\\\\n",
       "\t 10107     & 20010126  &  0.035389 & -0.000710 &  0.001972 & -0.001886\\\\\n",
       "\t 10107     & 20010129  &  0.007813 &  0.008976 &  0.010237 &  0.006805\\\\\n",
       "\t 10107     & 20010130  & -0.017442 &  0.006593 &  0.009543 &  0.007008\\\\\n",
       "\t 10107     & 20010131  & -0.036489 & -0.006669 & -0.000180 & -0.005620\\\\\n",
       "\t 10107     & 20010201  &  0.021494 &  0.003834 &  0.001991 &  0.005461\\\\\n",
       "\t 10107     & 20010202  & -0.025050 & -0.018595 & -0.009213 & -0.017474\\\\\n",
       "\t 10107     & 20010205  &  0.018499 &  0.002076 & -0.003784 &  0.003587\\\\\n",
       "\t 10107     & 20010206  &  0.010091 &  0.000493 &  0.002474 & -0.001514\\\\\n",
       "\t 10107     & 20010207  &  0.033966 & -0.008783 & -0.004362 & -0.008408\\\\\n",
       "\t 10107     & 20010208  & -0.037681 & -0.006504 & -0.003159 & -0.006235\\\\\n",
       "\t 10107     & 20010209  & -0.050201 & -0.014258 & -0.009423 & -0.013336\\\\\n",
       "\t 10107     & 20010212  & -0.006342 &  0.010374 &  0.004847 &  0.011827\\\\\n",
       "\t 10107     & 20010213  & -0.009574 & -0.008692 & -0.003473 & -0.008652\\\\\n",
       "\t 10107     & 20010214  &  0.003222 & -0.000127 & -0.000491 & -0.002184\\\\\n",
       "\t ... & ... & ... & ... & ... & ...\\\\\n",
       "\t 10107     & 20131118  & -0.016939 & -0.004638 & -0.004134 & -0.003698\\\\\n",
       "\t 10107     & 20131119  & -0.004839 & -0.003365 & -0.004351 & -0.002043\\\\\n",
       "\t 10107     & 20131120  &  0.009254 & -0.003300 & -0.003096 & -0.003636\\\\\n",
       "\t 10107     & 20131121  &  0.008630 &  0.008669 &  0.009070 &  0.008129\\\\\n",
       "\t 10107     & 20131122  &  0.004545 &  0.004573 &  0.003700 &  0.004961\\\\\n",
       "\t 10107     & 20131125  &  0.001863 & -0.001431 & -0.000255 & -0.001263\\\\\n",
       "\t 10107     & 20131126  & -0.007705 &  0.001066 &  0.004053 &  0.000150\\\\\n",
       "\t 10107     & 20131127  &  0.006693 &  0.002737 &  0.005455 &  0.002485\\\\\n",
       "\t 10107     & 20131129  &  0.014096 &  0.000169 &  0.003875 & -0.000786\\\\\n",
       "\t 10107     & 20131202  &  0.008392 & -0.003649 & -0.007152 & -0.002719\\\\\n",
       "\t 10107     & 20131203  & -0.003641 & -0.003714 & -0.003833 & -0.003193\\\\\n",
       "\t 10107     & 20131204  &  0.016445 & -0.000950 & -0.000588 & -0.001304\\\\\n",
       "\t 10107     & 20131205  & -0.024140 & -0.003511 & -0.001612 & -0.004340\\\\\n",
       "\t 10107     & 20131206  &  0.009474 &  0.009669 &  0.006687 &  0.011238\\\\\n",
       "\t 10107     & 20131209  &  0.008994 &  0.001861 & -0.000607 &  0.001817\\\\\n",
       "\t 10107     & 20131210  & -0.015373 & -0.002802 & -0.002139 & -0.003180\\\\\n",
       "\t 10107     & 20131211  & -0.013120 & -0.012033 & -0.011254 & -0.011317\\\\\n",
       "\t 10107     & 20131212  & -0.010370 & -0.002561 & -0.000698 & -0.003771\\\\\n",
       "\t 10107     & 20131213  & -0.014240 &  0.001295 &  0.003054 & -0.000101\\\\\n",
       "\t 10107     & 20131216  &  0.005315 &  0.006433 &  0.006875 &  0.006320\\\\\n",
       "\t 10107     & 20131217  & -0.009896 & -0.002338 & -0.000097 & -0.003101\\\\\n",
       "\t 10107     & 20131218  &  0.001643 &  0.014483 &  0.008528 &  0.016648\\\\\n",
       "\t 10107     & 20131219  & -0.009021 & -0.001027 & -0.001756 & -0.000580\\\\\n",
       "\t 10107     & 20131220  &  0.015172 &  0.006897 &  0.010080 &  0.004819\\\\\n",
       "\t 10107     & 20131223  & -0.004891 &  0.006227 &  0.008646 &  0.005318\\\\\n",
       "\t 10107     & 20131224  &  0.012562 &  0.003466 &  0.004324 &  0.002916\\\\\n",
       "\t 10107     & 20131226  &  0.009709 &  0.003991 &  0.002320 &  0.004745\\\\\n",
       "\t 10107     & 20131227  & -0.004006 & -0.000084 &  0.001422 & -0.000337\\\\\n",
       "\t 10107     & 20131230  &  0.000000 &  0.000278 &  0.000551 & -0.000179\\\\\n",
       "\t 10107     & 20131231  &  0.003218 &  0.004264 &  0.003915 &  0.003960\\\\\n",
       "\\end{tabular}\n"
      ],
      "text/markdown": [
       "\n",
       "PERMNO | date | msft | vwretd | ewretd | sprtrn | \n",
       "|---|---|---|---|---|---|---|---|---|---|---|---|---|---|---|---|---|---|---|---|---|---|---|---|---|---|---|---|---|---|---|---|---|---|---|---|---|---|---|---|---|---|---|---|---|---|---|---|---|---|---|---|---|---|---|---|---|---|---|---|---|\n",
       "| 10107     | 20010103  |  0.105187 |  0.052945 |  0.046221 |  0.050099 | \n",
       "| 10107     | 20010104  |  0.010430 | -0.011796 |  0.011364 | -0.010552 | \n",
       "| 10107     | 20010105  |  0.014194 | -0.028857 | -0.008607 | -0.026242 | \n",
       "| 10107     | 20010108  | -0.003817 | -0.003433 | -0.005051 | -0.001918 | \n",
       "| 10107     | 20010109  |  0.058748 |  0.004889 |  0.011808 |  0.003812 | \n",
       "| 10107     | 20010110  |  0.020507 |  0.013824 |  0.020657 |  0.009586 | \n",
       "| 10107     | 20010111  |  0.040189 |  0.014959 |  0.027183 |  0.010318 | \n",
       "| 10107     | 20010112  | -0.027273 | -0.003536 |  0.019473 | -0.006406 | \n",
       "| 10107     | 20010116  | -0.017523 |  0.006230 |  0.019410 |  0.006319 | \n",
       "| 10107     | 20010117  |  0.007134 |  0.004503 |  0.012757 |  0.002126 | \n",
       "| 10107     | 20010118  |  0.048406 |  0.012285 |  0.008504 |  0.013915 | \n",
       "| 10107     | 20010119  |  0.099099 | -0.004093 |  0.003892 | -0.004028 | \n",
       "| 10107     | 20010122  | -0.014344 |  0.000299 |  0.005431 |  0.000268 | \n",
       "| 10107     | 20010123  |  0.007277 |  0.015816 |  0.014520 |  0.013032 | \n",
       "| 10107     | 20010124  |  0.039216 |  0.003290 |  0.007313 |  0.002867 | \n",
       "| 10107     | 20010125  | -0.017875 | -0.007537 | -0.003242 | -0.004977 | \n",
       "| 10107     | 20010126  |  0.035389 | -0.000710 |  0.001972 | -0.001886 | \n",
       "| 10107     | 20010129  |  0.007813 |  0.008976 |  0.010237 |  0.006805 | \n",
       "| 10107     | 20010130  | -0.017442 |  0.006593 |  0.009543 |  0.007008 | \n",
       "| 10107     | 20010131  | -0.036489 | -0.006669 | -0.000180 | -0.005620 | \n",
       "| 10107     | 20010201  |  0.021494 |  0.003834 |  0.001991 |  0.005461 | \n",
       "| 10107     | 20010202  | -0.025050 | -0.018595 | -0.009213 | -0.017474 | \n",
       "| 10107     | 20010205  |  0.018499 |  0.002076 | -0.003784 |  0.003587 | \n",
       "| 10107     | 20010206  |  0.010091 |  0.000493 |  0.002474 | -0.001514 | \n",
       "| 10107     | 20010207  |  0.033966 | -0.008783 | -0.004362 | -0.008408 | \n",
       "| 10107     | 20010208  | -0.037681 | -0.006504 | -0.003159 | -0.006235 | \n",
       "| 10107     | 20010209  | -0.050201 | -0.014258 | -0.009423 | -0.013336 | \n",
       "| 10107     | 20010212  | -0.006342 |  0.010374 |  0.004847 |  0.011827 | \n",
       "| 10107     | 20010213  | -0.009574 | -0.008692 | -0.003473 | -0.008652 | \n",
       "| 10107     | 20010214  |  0.003222 | -0.000127 | -0.000491 | -0.002184 | \n",
       "| ... | ... | ... | ... | ... | ... | \n",
       "| 10107     | 20131118  | -0.016939 | -0.004638 | -0.004134 | -0.003698 | \n",
       "| 10107     | 20131119  | -0.004839 | -0.003365 | -0.004351 | -0.002043 | \n",
       "| 10107     | 20131120  |  0.009254 | -0.003300 | -0.003096 | -0.003636 | \n",
       "| 10107     | 20131121  |  0.008630 |  0.008669 |  0.009070 |  0.008129 | \n",
       "| 10107     | 20131122  |  0.004545 |  0.004573 |  0.003700 |  0.004961 | \n",
       "| 10107     | 20131125  |  0.001863 | -0.001431 | -0.000255 | -0.001263 | \n",
       "| 10107     | 20131126  | -0.007705 |  0.001066 |  0.004053 |  0.000150 | \n",
       "| 10107     | 20131127  |  0.006693 |  0.002737 |  0.005455 |  0.002485 | \n",
       "| 10107     | 20131129  |  0.014096 |  0.000169 |  0.003875 | -0.000786 | \n",
       "| 10107     | 20131202  |  0.008392 | -0.003649 | -0.007152 | -0.002719 | \n",
       "| 10107     | 20131203  | -0.003641 | -0.003714 | -0.003833 | -0.003193 | \n",
       "| 10107     | 20131204  |  0.016445 | -0.000950 | -0.000588 | -0.001304 | \n",
       "| 10107     | 20131205  | -0.024140 | -0.003511 | -0.001612 | -0.004340 | \n",
       "| 10107     | 20131206  |  0.009474 |  0.009669 |  0.006687 |  0.011238 | \n",
       "| 10107     | 20131209  |  0.008994 |  0.001861 | -0.000607 |  0.001817 | \n",
       "| 10107     | 20131210  | -0.015373 | -0.002802 | -0.002139 | -0.003180 | \n",
       "| 10107     | 20131211  | -0.013120 | -0.012033 | -0.011254 | -0.011317 | \n",
       "| 10107     | 20131212  | -0.010370 | -0.002561 | -0.000698 | -0.003771 | \n",
       "| 10107     | 20131213  | -0.014240 |  0.001295 |  0.003054 | -0.000101 | \n",
       "| 10107     | 20131216  |  0.005315 |  0.006433 |  0.006875 |  0.006320 | \n",
       "| 10107     | 20131217  | -0.009896 | -0.002338 | -0.000097 | -0.003101 | \n",
       "| 10107     | 20131218  |  0.001643 |  0.014483 |  0.008528 |  0.016648 | \n",
       "| 10107     | 20131219  | -0.009021 | -0.001027 | -0.001756 | -0.000580 | \n",
       "| 10107     | 20131220  |  0.015172 |  0.006897 |  0.010080 |  0.004819 | \n",
       "| 10107     | 20131223  | -0.004891 |  0.006227 |  0.008646 |  0.005318 | \n",
       "| 10107     | 20131224  |  0.012562 |  0.003466 |  0.004324 |  0.002916 | \n",
       "| 10107     | 20131226  |  0.009709 |  0.003991 |  0.002320 |  0.004745 | \n",
       "| 10107     | 20131227  | -0.004006 | -0.000084 |  0.001422 | -0.000337 | \n",
       "| 10107     | 20131230  |  0.000000 |  0.000278 |  0.000551 | -0.000179 | \n",
       "| 10107     | 20131231  |  0.003218 |  0.004264 |  0.003915 |  0.003960 | \n",
       "\n",
       "\n"
      ],
      "text/plain": [
       "     PERMNO date     msft      vwretd    ewretd    sprtrn   \n",
       "1    10107  20010103  0.105187  0.052945  0.046221  0.050099\n",
       "2    10107  20010104  0.010430 -0.011796  0.011364 -0.010552\n",
       "3    10107  20010105  0.014194 -0.028857 -0.008607 -0.026242\n",
       "4    10107  20010108 -0.003817 -0.003433 -0.005051 -0.001918\n",
       "5    10107  20010109  0.058748  0.004889  0.011808  0.003812\n",
       "6    10107  20010110  0.020507  0.013824  0.020657  0.009586\n",
       "7    10107  20010111  0.040189  0.014959  0.027183  0.010318\n",
       "8    10107  20010112 -0.027273 -0.003536  0.019473 -0.006406\n",
       "9    10107  20010116 -0.017523  0.006230  0.019410  0.006319\n",
       "10   10107  20010117  0.007134  0.004503  0.012757  0.002126\n",
       "11   10107  20010118  0.048406  0.012285  0.008504  0.013915\n",
       "12   10107  20010119  0.099099 -0.004093  0.003892 -0.004028\n",
       "13   10107  20010122 -0.014344  0.000299  0.005431  0.000268\n",
       "14   10107  20010123  0.007277  0.015816  0.014520  0.013032\n",
       "15   10107  20010124  0.039216  0.003290  0.007313  0.002867\n",
       "16   10107  20010125 -0.017875 -0.007537 -0.003242 -0.004977\n",
       "17   10107  20010126  0.035389 -0.000710  0.001972 -0.001886\n",
       "18   10107  20010129  0.007813  0.008976  0.010237  0.006805\n",
       "19   10107  20010130 -0.017442  0.006593  0.009543  0.007008\n",
       "20   10107  20010131 -0.036489 -0.006669 -0.000180 -0.005620\n",
       "21   10107  20010201  0.021494  0.003834  0.001991  0.005461\n",
       "22   10107  20010202 -0.025050 -0.018595 -0.009213 -0.017474\n",
       "23   10107  20010205  0.018499  0.002076 -0.003784  0.003587\n",
       "24   10107  20010206  0.010091  0.000493  0.002474 -0.001514\n",
       "25   10107  20010207  0.033966 -0.008783 -0.004362 -0.008408\n",
       "26   10107  20010208 -0.037681 -0.006504 -0.003159 -0.006235\n",
       "27   10107  20010209 -0.050201 -0.014258 -0.009423 -0.013336\n",
       "28   10107  20010212 -0.006342  0.010374  0.004847  0.011827\n",
       "29   10107  20010213 -0.009574 -0.008692 -0.003473 -0.008652\n",
       "30   10107  20010214  0.003222 -0.000127 -0.000491 -0.002184\n",
       "...  ...    ...      ...       ...       ...       ...      \n",
       "3239 10107  20131118 -0.016939 -0.004638 -0.004134 -0.003698\n",
       "3240 10107  20131119 -0.004839 -0.003365 -0.004351 -0.002043\n",
       "3241 10107  20131120  0.009254 -0.003300 -0.003096 -0.003636\n",
       "3242 10107  20131121  0.008630  0.008669  0.009070  0.008129\n",
       "3243 10107  20131122  0.004545  0.004573  0.003700  0.004961\n",
       "3244 10107  20131125  0.001863 -0.001431 -0.000255 -0.001263\n",
       "3245 10107  20131126 -0.007705  0.001066  0.004053  0.000150\n",
       "3246 10107  20131127  0.006693  0.002737  0.005455  0.002485\n",
       "3247 10107  20131129  0.014096  0.000169  0.003875 -0.000786\n",
       "3248 10107  20131202  0.008392 -0.003649 -0.007152 -0.002719\n",
       "3249 10107  20131203 -0.003641 -0.003714 -0.003833 -0.003193\n",
       "3250 10107  20131204  0.016445 -0.000950 -0.000588 -0.001304\n",
       "3251 10107  20131205 -0.024140 -0.003511 -0.001612 -0.004340\n",
       "3252 10107  20131206  0.009474  0.009669  0.006687  0.011238\n",
       "3253 10107  20131209  0.008994  0.001861 -0.000607  0.001817\n",
       "3254 10107  20131210 -0.015373 -0.002802 -0.002139 -0.003180\n",
       "3255 10107  20131211 -0.013120 -0.012033 -0.011254 -0.011317\n",
       "3256 10107  20131212 -0.010370 -0.002561 -0.000698 -0.003771\n",
       "3257 10107  20131213 -0.014240  0.001295  0.003054 -0.000101\n",
       "3258 10107  20131216  0.005315  0.006433  0.006875  0.006320\n",
       "3259 10107  20131217 -0.009896 -0.002338 -0.000097 -0.003101\n",
       "3260 10107  20131218  0.001643  0.014483  0.008528  0.016648\n",
       "3261 10107  20131219 -0.009021 -0.001027 -0.001756 -0.000580\n",
       "3262 10107  20131220  0.015172  0.006897  0.010080  0.004819\n",
       "3263 10107  20131223 -0.004891  0.006227  0.008646  0.005318\n",
       "3264 10107  20131224  0.012562  0.003466  0.004324  0.002916\n",
       "3265 10107  20131226  0.009709  0.003991  0.002320  0.004745\n",
       "3266 10107  20131227 -0.004006 -0.000084  0.001422 -0.000337\n",
       "3267 10107  20131230  0.000000  0.000278  0.000551 -0.000179\n",
       "3268 10107  20131231  0.003218  0.004264  0.003915  0.003960"
      ]
     },
     "metadata": {},
     "output_type": "display_data"
    }
   ],
   "source": [
    "da8"
   ]
  },
  {
   "cell_type": "code",
   "execution_count": 108,
   "metadata": {
    "collapsed": false
   },
   "outputs": [],
   "source": [
    "lg_rt = log(da8$msft + 1)"
   ]
  },
  {
   "cell_type": "code",
   "execution_count": 109,
   "metadata": {
    "collapsed": false
   },
   "outputs": [
    {
     "data": {
      "text/plain": [
       "\n",
       "\tOne Sample t-test\n",
       "\n",
       "data:  lg_rt\n",
       "t = 0.78265, df = 3267, p-value = 0.4339\n",
       "alternative hypothesis: true mean is not equal to 0\n",
       "95 percent confidence interval:\n",
       " -0.0003912310  0.0009110703\n",
       "sample estimates:\n",
       "   mean of x \n",
       "0.0002599197 \n"
      ]
     },
     "metadata": {},
     "output_type": "display_data"
    }
   ],
   "source": [
    "t.test(lg_rt)"
   ]
  },
  {
   "cell_type": "markdown",
   "metadata": {},
   "source": [
    "Based on t-test log returns have an expected value of 0."
   ]
  },
  {
   "cell_type": "code",
   "execution_count": 110,
   "metadata": {
    "collapsed": false
   },
   "outputs": [
    {
     "data": {
      "image/png": "[encoded data removed]",
      "text/plain": [
       "Plot with title \"Series  lg_rt\""
      ]
     },
     "metadata": {},
     "output_type": "display_data"
    }
   ],
   "source": [
    "acf(lg_rt)"
   ]
  },
  {
   "cell_type": "code",
   "execution_count": 111,
   "metadata": {
    "collapsed": false
   },
   "outputs": [
    {
     "data": {
      "image/png": "[encoded data removed]",
      "text/plain": [
       "Plot with title \"Series  lg_rt\""
      ]
     },
     "metadata": {},
     "output_type": "display_data"
    }
   ],
   "source": [
    "pacf(lg_rt)"
   ]
  },
  {
   "cell_type": "markdown",
   "metadata": {},
   "source": [
    "There is serial correlation"
   ]
  },
  {
   "cell_type": "code",
   "execution_count": 112,
   "metadata": {
    "collapsed": false
   },
   "outputs": [
    {
     "data": {
      "image/png": "[encoded data removed]",
      "text/plain": [
       "plot without title"
      ]
     },
     "metadata": {},
     "output_type": "display_data"
    }
   ],
   "source": [
    "plot(lg_rt,type = \"l\")"
   ]
  },
  {
   "cell_type": "markdown",
   "metadata": {},
   "source": [
    "The serial correlation may be due to the changing volatility "
   ]
  },
  {
   "cell_type": "code",
   "execution_count": 113,
   "metadata": {
    "collapsed": false
   },
   "outputs": [
    {
     "data": {
      "text/plain": [
       "\n",
       "\tBox-Ljung test\n",
       "\n",
       "data:  lg_rt\n",
       "X-squared = 52.571, df = 24, p-value = 0.0006588\n"
      ]
     },
     "metadata": {},
     "output_type": "display_data"
    }
   ],
   "source": [
    "Box.test(lg_rt,lag=24,type='Ljung')"
   ]
  },
  {
   "cell_type": "markdown",
   "metadata": {},
   "source": [
    "The Box-Ljung test confirms that there is serial correlation. We reject null hypothesis of no serial correlation"
   ]
  },
  {
   "cell_type": "markdown",
   "metadata": {},
   "source": [
    "(ii)"
   ]
  },
  {
   "cell_type": "code",
   "execution_count": 114,
   "metadata": {
    "collapsed": false
   },
   "outputs": [
    {
     "data": {
      "text/plain": [
       "\n",
       "Call:\n",
       "arima(x = lg_rt, order = c(2, 0, 2), include.mean = F)\n",
       "\n",
       "Coefficients:\n",
       "          ar1      ar2     ma1     ma2\n",
       "      -0.6146  -0.2354  0.5419  0.1538\n",
       "s.e.   0.2896   0.3369  0.2951  0.3404\n",
       "\n",
       "sigma^2 estimated as 0.0003574:  log likelihood = 8331.52,  aic = -16653.05"
      ]
     },
     "metadata": {},
     "output_type": "display_data"
    }
   ],
   "source": [
    "m11 = arima(lg_rt,order = c(2,0,2), include.mean = F)\n",
    "m11"
   ]
  },
  {
   "cell_type": "code",
   "execution_count": 115,
   "metadata": {
    "collapsed": false
   },
   "outputs": [
    {
     "data": {
      "text/plain": [
       "\n",
       "\tBox-Ljung test\n",
       "\n",
       "data:  m11$residuals\n",
       "X-squared = 28.784, df = 24, p-value = 0.2284\n"
      ]
     },
     "metadata": {},
     "output_type": "display_data"
    }
   ],
   "source": [
    "Box.test(m11$residuals,lag=24,type='Ljung')"
   ]
  },
  {
   "cell_type": "code",
   "execution_count": 116,
   "metadata": {
    "collapsed": false
   },
   "outputs": [
    {
     "data": {
      "text/plain": [
       "\n",
       "\tBox-Ljung test\n",
       "\n",
       "data:  m11$residuals^2\n",
       "X-squared = 1020.6, df = 24, p-value < 2.2e-16\n"
      ]
     },
     "metadata": {},
     "output_type": "display_data"
    }
   ],
   "source": [
    "Box.test(m11$residuals^2,lag=24,type='Ljung')"
   ]
  },
  {
   "cell_type": "markdown",
   "metadata": {},
   "source": [
    "There is no serial correlation in residuals, but there is correlation in squared residuals. Indicating arch effects."
   ]
  },
  {
   "cell_type": "markdown",
   "metadata": {},
   "source": [
    "(iii)"
   ]
  },
  {
   "cell_type": "code",
   "execution_count": 117,
   "metadata": {
    "collapsed": false,
    "scrolled": true
   },
   "outputs": [
    {
     "data": {
      "image/png": "[encoded data removed]",
      "text/plain": [
       "Plot with title \"Series  m11$residual^2\""
      ]
     },
     "metadata": {},
     "output_type": "display_data"
    }
   ],
   "source": [
    "acf(m11$residual^2)"
   ]
  },
  {
   "cell_type": "markdown",
   "metadata": {},
   "source": [
    "Adding simplist garch"
   ]
  },
  {
   "cell_type": "code",
   "execution_count": 118,
   "metadata": {
    "collapsed": false
   },
   "outputs": [
    {
     "name": "stderr",
     "output_type": "stream",
     "text": [
      "Warning message:\n",
      "\"package 'fGarch' was built under R version 3.3.3\"Loading required package: timeDate\n",
      "Loading required package: timeSeries\n",
      "Loading required package: fBasics\n",
      "\n",
      "\n",
      "Rmetrics Package fBasics\n",
      "Analysing Markets and calculating Basic Statistics\n",
      "Copyright (C) 2005-2014 Rmetrics Association Zurich\n",
      "Educational Software for Financial Engineering and Computational Science\n",
      "Rmetrics is free software and comes with ABSOLUTELY NO WARRANTY.\n",
      "https://www.rmetrics.org --- Mail to: info@rmetrics.org\n"
     ]
    }
   ],
   "source": [
    "library(fGarch)"
   ]
  },
  {
   "cell_type": "code",
   "execution_count": 119,
   "metadata": {
    "collapsed": false
   },
   "outputs": [
    {
     "name": "stderr",
     "output_type": "stream",
     "text": [
      "Warning message in arima(.series$x, order = c(u, 0, v), include.mean = include.mean):\n",
      "\"possible convergence problem: optim gave code = 1\""
     ]
    }
   ],
   "source": [
    "m12=garchFit(~arma(2,2)+garch(1,1),data=lg_rt,trace=F)"
   ]
  },
  {
   "cell_type": "code",
   "execution_count": 120,
   "metadata": {
    "collapsed": false
   },
   "outputs": [
    {
     "name": "stdout",
     "output_type": "stream",
     "text": [
      "\n",
      "Title:\n",
      " GARCH Modelling \n",
      "\n",
      "Call:\n",
      " garchFit(formula = ~arma(2, 2) + garch(1, 1), data = lg_rt, trace = F) \n",
      "\n",
      "Mean and Variance Equation:\n",
      " data ~ arma(2, 2) + garch(1, 1)\n",
      "<environment: 0x000000002023f890>\n",
      " [data = lg_rt]\n",
      "\n",
      "Conditional Distribution:\n",
      " norm \n",
      "\n",
      "Coefficient(s):\n",
      "         mu          ar1          ar2          ma1          ma2        omega  \n",
      " 4.5496e-05   6.4560e-01   2.2937e-01  -6.8995e-01  -2.0184e-01   4.4300e-06  \n",
      "     alpha1        beta1  \n",
      " 5.2595e-02   9.3369e-01  \n",
      "\n",
      "Std. Errors:\n",
      " based on Hessian \n",
      "\n",
      "Error Analysis:\n",
      "         Estimate  Std. Error  t value Pr(>|t|)    \n",
      "mu      4.550e-05   4.947e-05    0.920   0.3577    \n",
      "ar1     6.456e-01   2.911e-01    2.218   0.0266 *  \n",
      "ar2     2.294e-01   1.997e-01    1.148   0.2508    \n",
      "ma1    -6.899e-01   2.947e-01   -2.341   0.0192 *  \n",
      "ma2    -2.018e-01   2.140e-01   -0.943   0.3455    \n",
      "omega   4.430e-06   1.122e-06    3.947 7.91e-05 ***\n",
      "alpha1  5.260e-02   9.773e-03    5.382 7.38e-08 ***\n",
      "beta1   9.337e-01   1.222e-02   76.387  < 2e-16 ***\n",
      "---\n",
      "Signif. codes:  0 '***' 0.001 '**' 0.01 '*' 0.05 '.' 0.1 ' ' 1\n",
      "\n",
      "Log Likelihood:\n",
      " 8788.85    normalized:  2.689367 \n",
      "\n",
      "Description:\n",
      " Tue May 16 15:41:44 2017 by user: chris \n",
      "\n",
      "\n",
      "Standardised Residuals Tests:\n",
      "                                Statistic p-Value  \n",
      " Jarque-Bera Test   R    Chi^2  13160.52  0        \n",
      " Shapiro-Wilk Test  R    W      0.9453995 0        \n",
      " Ljung-Box Test     R    Q(10)  6.246936  0.7941076\n",
      " Ljung-Box Test     R    Q(15)  17.08752  0.3136597\n",
      " Ljung-Box Test     R    Q(20)  20.66644  0.416994 \n",
      " Ljung-Box Test     R^2  Q(10)  0.3909231 0.999998 \n",
      " Ljung-Box Test     R^2  Q(15)  2.150581  0.9999521\n",
      " Ljung-Box Test     R^2  Q(20)  2.451486  0.9999993\n",
      " LM Arch Test       R    TR^2   0.7090844 0.999998 \n",
      "\n",
      "Information Criterion Statistics:\n",
      "      AIC       BIC       SIC      HQIC \n",
      "-5.373837 -5.358924 -5.373849 -5.368496 \n",
      "\n"
     ]
    }
   ],
   "source": [
    "summary(m12)"
   ]
  },
  {
   "cell_type": "code",
   "execution_count": 121,
   "metadata": {
    "collapsed": false
   },
   "outputs": [
    {
     "data": {
      "image/png": "[encoded data removed]",
      "text/plain": [
       "Plot with title \"qnorm - QQ Plot\""
      ]
     },
     "metadata": {},
     "output_type": "display_data"
    }
   ],
   "source": [
    "plot(m12,which=13)"
   ]
  },
  {
   "cell_type": "markdown",
   "metadata": {},
   "source": [
    "Normality is violated, but all other tests show model fit is adequate."
   ]
  },
  {
   "cell_type": "markdown",
   "metadata": {},
   "source": [
    "(iv)"
   ]
  },
  {
   "cell_type": "code",
   "execution_count": 122,
   "metadata": {
    "collapsed": false
   },
   "outputs": [
    {
     "name": "stderr",
     "output_type": "stream",
     "text": [
      "Warning message in arima(.series$x, order = c(u, 0, v), include.mean = include.mean):\n",
      "\"possible convergence problem: optim gave code = 1\""
     ]
    }
   ],
   "source": [
    "m12=garchFit(~arma(2,2)+garch(1,1),data=lg_rt,trace=F, cond.dist= \"std\")"
   ]
  },
  {
   "cell_type": "code",
   "execution_count": 123,
   "metadata": {
    "collapsed": false
   },
   "outputs": [
    {
     "name": "stdout",
     "output_type": "stream",
     "text": [
      "\n",
      "Title:\n",
      " GARCH Modelling \n",
      "\n",
      "Call:\n",
      " garchFit(formula = ~arma(2, 2) + garch(1, 1), data = lg_rt, cond.dist = \"std\", \n",
      "    trace = F) \n",
      "\n",
      "Mean and Variance Equation:\n",
      " data ~ arma(2, 2) + garch(1, 1)\n",
      "<environment: 0x00000000206ac800>\n",
      " [data = lg_rt]\n",
      "\n",
      "Conditional Distribution:\n",
      " std \n",
      "\n",
      "Coefficient(s):\n",
      "         mu          ar1          ar2          ma1          ma2        omega  \n",
      " 3.4830e-04  -7.0910e-01   2.1404e-01   6.6853e-01  -2.5563e-01   1.5773e-06  \n",
      "     alpha1        beta1        shape  \n",
      " 5.6331e-02   9.4115e-01   4.8014e+00  \n",
      "\n",
      "Std. Errors:\n",
      " based on Hessian \n",
      "\n",
      "Error Analysis:\n",
      "         Estimate  Std. Error  t value Pr(>|t|)    \n",
      "mu      3.483e-04   3.139e-04    1.110  0.26717    \n",
      "ar1    -7.091e-01   1.371e-01   -5.172 2.32e-07 ***\n",
      "ar2     2.140e-01   1.029e-01    2.081  0.03747 *  \n",
      "ma1     6.685e-01   1.351e-01    4.948 7.49e-07 ***\n",
      "ma2    -2.556e-01   1.012e-01   -2.526  0.01153 *  \n",
      "omega   1.577e-06   6.086e-07    2.592  0.00955 ** \n",
      "alpha1  5.633e-02   9.839e-03    5.725 1.03e-08 ***\n",
      "beta1   9.412e-01   9.524e-03   98.821  < 2e-16 ***\n",
      "shape   4.801e+00   3.902e-01   12.305  < 2e-16 ***\n",
      "---\n",
      "Signif. codes:  0 '***' 0.001 '**' 0.01 '*' 0.05 '.' 0.1 ' ' 1\n",
      "\n",
      "Log Likelihood:\n",
      " 9013.006    normalized:  2.757958 \n",
      "\n",
      "Description:\n",
      " Tue May 16 15:41:48 2017 by user: chris \n",
      "\n",
      "\n",
      "Standardised Residuals Tests:\n",
      "                                Statistic p-Value  \n",
      " Jarque-Bera Test   R    Chi^2  28803.87  0        \n",
      " Shapiro-Wilk Test  R    W      0.9334936 0        \n",
      " Ljung-Box Test     R    Q(10)  8.732052  0.5577077\n",
      " Ljung-Box Test     R    Q(15)  17.70919  0.2782627\n",
      " Ljung-Box Test     R    Q(20)  21.80076  0.3514192\n",
      " Ljung-Box Test     R^2  Q(10)  0.6318326 0.9999798\n",
      " Ljung-Box Test     R^2  Q(15)  2.150678  0.9999521\n",
      " Ljung-Box Test     R^2  Q(20)  2.628755  0.9999987\n",
      " LM Arch Test       R    TR^2   1.009072  0.9999851\n",
      "\n",
      "Information Criterion Statistics:\n",
      "      AIC       BIC       SIC      HQIC \n",
      "-5.510407 -5.493630 -5.510422 -5.504399 \n",
      "\n"
     ]
    }
   ],
   "source": [
    "summary(m12)"
   ]
  },
  {
   "cell_type": "code",
   "execution_count": 124,
   "metadata": {
    "collapsed": false
   },
   "outputs": [
    {
     "data": {
      "image/png": "[encoded data removed]",
      "text/plain": [
       "Plot with title \"qstd - QQ Plot\""
      ]
     },
     "metadata": {},
     "output_type": "display_data"
    }
   ],
   "source": [
    "plot(m12,which=13)"
   ]
  },
  {
   "cell_type": "markdown",
   "metadata": {},
   "source": [
    "Model is closer to t distirbution"
   ]
  },
  {
   "cell_type": "markdown",
   "metadata": {},
   "source": [
    "(v)"
   ]
  },
  {
   "cell_type": "code",
   "execution_count": 125,
   "metadata": {
    "collapsed": false
   },
   "outputs": [
    {
     "data": {
      "text/html": [
       "<table>\n",
       "<thead><tr><th scope=col>meanForecast</th><th scope=col>meanError</th><th scope=col>standardDeviation</th></tr></thead>\n",
       "<tbody>\n",
       "\t<tr><td>0.0002366463</td><td>0.01223968  </td><td>0.01223968  </td></tr>\n",
       "</tbody>\n",
       "</table>\n"
      ],
      "text/latex": [
       "\\begin{tabular}{r|lll}\n",
       " meanForecast & meanError & standardDeviation\\\\\n",
       "\\hline\n",
       "\t 0.0002366463 & 0.01223968   & 0.01223968  \\\\\n",
       "\\end{tabular}\n"
      ],
      "text/markdown": [
       "\n",
       "meanForecast | meanError | standardDeviation | \n",
       "|---|\n",
       "| 0.0002366463 | 0.01223968   | 0.01223968   | \n",
       "\n",
       "\n"
      ],
      "text/plain": [
       "  meanForecast meanError  standardDeviation\n",
       "1 0.0002366463 0.01223968 0.01223968       "
      ]
     },
     "metadata": {},
     "output_type": "display_data"
    },
    {
     "name": "stderr",
     "output_type": "stream",
     "text": [
      "Warning message in a_vec[i] <- ar[1:min(u2, i - 1)] * a_vec[(i - 1):(i - u2)] + :\n",
      "\"number of items to replace is not a multiple of replacement length\"Warning message in a_vec[i] <- ar[1:min(u2, i - 1)] * a_vec[(i - 1):(i - u2)] + :\n",
      "\"number of items to replace is not a multiple of replacement length\""
     ]
    },
    {
     "data": {
      "text/html": [
       "<table>\n",
       "<thead><tr><th scope=col>meanForecast</th><th scope=col>meanError</th><th scope=col>standardDeviation</th></tr></thead>\n",
       "<tbody>\n",
       "\t<tr><td>2.366463e-04</td><td>0.01223968  </td><td>0.01223968  </td></tr>\n",
       "\t<tr><td>7.906508e-05</td><td>0.01229865  </td><td>0.01228862  </td></tr>\n",
       "\t<tr><td>3.428853e-04</td><td>0.01234831  </td><td>0.01233725  </td></tr>\n",
       "\t<tr><td>1.220831e-04</td><td>0.01239717  </td><td>0.01238556  </td></tr>\n",
       "\t<tr><td>3.351203e-04</td><td>0.01244547  </td><td>0.01243356  </td></tr>\n",
       "</tbody>\n",
       "</table>\n"
      ],
      "text/latex": [
       "\\begin{tabular}{r|lll}\n",
       " meanForecast & meanError & standardDeviation\\\\\n",
       "\\hline\n",
       "\t 2.366463e-04 & 0.01223968   & 0.01223968  \\\\\n",
       "\t 7.906508e-05 & 0.01229865   & 0.01228862  \\\\\n",
       "\t 3.428853e-04 & 0.01234831   & 0.01233725  \\\\\n",
       "\t 1.220831e-04 & 0.01239717   & 0.01238556  \\\\\n",
       "\t 3.351203e-04 & 0.01244547   & 0.01243356  \\\\\n",
       "\\end{tabular}\n"
      ],
      "text/markdown": [
       "\n",
       "meanForecast | meanError | standardDeviation | \n",
       "|---|---|---|---|---|\n",
       "| 2.366463e-04 | 0.01223968   | 0.01223968   | \n",
       "| 7.906508e-05 | 0.01229865   | 0.01228862   | \n",
       "| 3.428853e-04 | 0.01234831   | 0.01233725   | \n",
       "| 1.220831e-04 | 0.01239717   | 0.01238556   | \n",
       "| 3.351203e-04 | 0.01244547   | 0.01243356   | \n",
       "\n",
       "\n"
      ],
      "text/plain": [
       "  meanForecast meanError  standardDeviation\n",
       "1 2.366463e-04 0.01223968 0.01223968       \n",
       "2 7.906508e-05 0.01229865 0.01228862       \n",
       "3 3.428853e-04 0.01234831 0.01233725       \n",
       "4 1.220831e-04 0.01239717 0.01238556       \n",
       "5 3.351203e-04 0.01244547 0.01243356       "
      ]
     },
     "metadata": {},
     "output_type": "display_data"
    }
   ],
   "source": [
    "predict(m12,1)\n",
    "predict(m12,5)"
   ]
  }
 ],
 "metadata": {
  "kernelspec": {
   "display_name": "R 3.3",
   "language": "R",
   "name": "ir33"
  },
  "language_info": {
   "codemirror_mode": "r",
   "file_extension": ".r",
   "mimetype": "text/x-r-source",
   "name": "R",
   "pygments_lexer": "r",
   "version": "3.3.2"
  }
 },
 "nbformat": 4,
 "nbformat_minor": 2
}
